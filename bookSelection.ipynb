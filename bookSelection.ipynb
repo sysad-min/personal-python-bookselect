{
 "cells": [
  {
   "cell_type": "code",
   "execution_count": 1,
   "id": "f55fff76",
   "metadata": {},
   "outputs": [],
   "source": [
    "from selenium import webdriver\n",
    "from selenium.webdriver.common.by import By\n",
    "from selenium.webdriver.chrome.service import Service\n",
    "from selenium.webdriver.chrome.options import Options\n",
    "from webdriver_manager.chrome import ChromeDriverManager\n",
    "import time"
   ]
  },
  {
   "cell_type": "code",
   "execution_count": 2,
   "id": "3d4e3702",
   "metadata": {},
   "outputs": [],
   "source": [
    "class BookSelection:\n",
    "    if __name__ == \"__main__\":\n",
    "        def __init__(self, url, search_keywords):\n",
    "            self.url = url\n",
    "            self.search_keywords = search_keywords\n",
    "\n",
    "        def set_drivers(self):\n",
    "            try:\n",
    "                service = Service(executable_path=ChromeDriverManager().install())\n",
    "                options = Options()\n",
    "                # 참고 = https://codingstep.tistory.com/entry/%ED%8C%8C%EC%9D%B4%EC%8D%AC-%EC%85%80%EB%A0%88%EB%8B%88%EC%9B%80-%ED%81%AC%EB%A1%AC-%EC%98%B5%EC%85%98-python-selenium-chrome-optionsFeat-headless-window-size-user-agent-etc\n",
    "                #지정한 user-agent로 설정합니다.\n",
    "#                 user_agent = \"Mozilla/5.0 (Linux; Android 9; SM-G975F) AppleWebKit/537.36 (KHTML, like Gecko) Chrome/71.0.3578.83 Mobile Safari/537.36\"\n",
    "#                 options.add_argument('user-agent=' + user_agent)\n",
    "#                 options.add_argument('headless') #headless모드 브라우저가 뜨지 않고 실행됩니다.\n",
    "#                 options.add_argument('--window-size= x, y') #실행되는 브라우저 크기를 지정할 수 있습니다.\n",
    "#                 options.add_argument('--start-maximized') #브라우저가 최대화된 상태로 실행됩니다.\n",
    "#                 options.add_argument('--start-fullscreen') #브라우저가 풀스크린 모드(F11)로 실행됩니다.\n",
    "#                 options.add_argument('--blink-settings=imagesEnabled=false') #브라우저에서 이미지 로딩을 하지 않습니다.\n",
    "#                 options.add_argument('--mute-audio') #브라우저에 음소거 옵션을 적용합니다.\n",
    "#                 options.add_argument('incognito') #시크릿 모드의 브라우저가 실행됩니다.\n",
    "                driver = webdriver.Chrome(service=service, options=options)  ##버전에 상관없이 현재 OS에 설치된 크롬브라우저 사용\n",
    "                return driver\n",
    "            except Exception as e:\n",
    "                print(e)\n",
    "        \n",
    "        def get_url(self, driver):\n",
    "            try:\n",
    "                driver.get(self.url)\n",
    "                driver.implicitly_wait(time_to_wait=10)\n",
    "            except Exception as e:\n",
    "                print(e)\n",
    "                driver.quit()\n",
    "                \n",
    "        def get_searchKeywords(self, driver):\n",
    "            try:\n",
    "                search_input = driver.find_element(By.XPATH, \"/html/body/div[4]/div[1]/div[1]/div[1]/form[2]/div/div/input\")\n",
    "                search_input.send_keys(self.search_keywords)\n",
    "                driver.find_element(By.XPATH, \"/html/body/div[4]/div[1]/div[1]/div[1]/form[2]/div/input\").click()\n",
    "                driver.implicitly_wait(time_to_wait=10)\n",
    "            except Exception as e:\n",
    "                print(e)\n",
    "                driver.quit()\n",
    "            \n",
    "    else:\n",
    "        exit()"
   ]
  },
  {
   "cell_type": "code",
   "execution_count": 3,
   "id": "4e189b14",
   "metadata": {
    "scrolled": true
   },
   "outputs": [
    {
     "name": "stderr",
     "output_type": "stream",
     "text": [
      "\n",
      "\n",
      "====== WebDriver manager ======\n",
      "Current google-chrome version is 97.0.4692\n",
      "Get LATEST chromedriver version for 97.0.4692 google-chrome\n",
      "Driver [/Users/administrator/.wdm/drivers/chromedriver/mac64/97.0.4692.71/chromedriver] found in cache\n"
     ]
    }
   ],
   "source": [
    "bookSelection = BookSelection(\"http://www.kyobobook.co.kr/\", \"python\")\n",
    "driver = bookSelection.set_drivers()\n",
    "bookSelection.get_url(driver)\n",
    "bookSelection.get_searchKeywords(driver)"
   ]
  },
  {
   "cell_type": "code",
   "execution_count": 4,
   "id": "74f96a09",
   "metadata": {
    "scrolled": true
   },
   "outputs": [],
   "source": [
    "searchTabList = driver.find_element(By.XPATH, \"/html/body/div[2]/div[1]/div[2]/div[3]/div[1]/ul\").text.split('\\n')\n",
    "subTabList = driver.find_element(By.XPATH, \"/html/body/div[2]/div[1]/div[2]/div[3]/div[2]/ul\").text.split('\\n')\n",
    "categoryList = driver.find_element(By.XPATH, \"/html/body/div[2]/div[1]/div[2]/div[3]/div[3]/table/tbody/tr[1]/td/ul\").text.split('\\n')"
   ]
  },
  {
   "cell_type": "code",
   "execution_count": 5,
   "id": "71159bb1",
   "metadata": {},
   "outputs": [
    {
     "name": "stdout",
     "output_type": "stream",
     "text": [
      "['상품(5,288)', '중고장터(513)', '스토리K(25)', '리뷰(1,264)', '책소개.목차(3,398)']\n",
      "['전체 5,288', '국내도서 1,169', '외국도서 3,582', 'eBook 500', 'sam 90', '음반/영상 37', '기프트 0']\n",
      "['컴퓨터/IT 1,119', '경제/경영 13', '어린이(초등) 11', '과학 7', '청소년 5', '정치/사회 3', '취업/수험서 2', '자기계발 2']\n"
     ]
    }
   ],
   "source": [
    "print(searchTabList)\n",
    "print(subTabList)\n",
    "print(categoryList)"
   ]
  },
  {
   "cell_type": "code",
   "execution_count": 6,
   "id": "a7c9807e",
   "metadata": {},
   "outputs": [],
   "source": [
    "driver.find_element(By.XPATH, \"/html/body/div[2]/div[1]/div[2]/div[3]/div[6]/div[2]/span[2]\").click()\n",
    "driver.implicitly_wait(3)"
   ]
  },
  {
   "cell_type": "code",
   "execution_count": 7,
   "id": "79c02d8e",
   "metadata": {},
   "outputs": [],
   "source": [
    "driver.find_element(By.XPATH, \"/html/body/div[2]/div[1]/div[2]/div[3]/div[6]/div[2]/span[2]/ul/li[3]\").click()\n",
    "driver.implicitly_wait(10)"
   ]
  },
  {
   "cell_type": "code",
   "execution_count": 8,
   "id": "1e3476a9",
   "metadata": {},
   "outputs": [],
   "source": [
    "result = driver.find_element(By.ID, \"search_list\")\n",
    "time.sleep(2)"
   ]
  },
  {
   "cell_type": "markdown",
   "id": "9e213c37",
   "metadata": {},
   "source": [
    "## 내부 구조 파악 필요"
   ]
  },
  {
   "cell_type": "code",
   "execution_count": 9,
   "id": "03d5aafd",
   "metadata": {},
   "outputs": [
    {
     "name": "stdout",
     "output_type": "stream",
     "text": [
      "tag start\n",
      "length=1\n",
      "0\n",
      "length=1\n",
      "0\n",
      "length=7\n",
      "0\n",
      "1\n",
      "2\n",
      "3\n",
      "4\n",
      "5\n",
      "6\n",
      "length=5\n",
      "0\n",
      "1\n",
      "2\n",
      "3\n",
      "4\n",
      "length=2\n",
      "0\n",
      "click\n",
      "1\n"
     ]
    },
    {
     "ename": "ElementClickInterceptedException",
     "evalue": "Message: element click intercepted: Element <a href=\"#\" class=\"btn_small btn_more\">...</a> is not clickable at point (545, 901). Other element would receive the click: <div class=\"content\" style=\"\">...</div>\n  (Session info: chrome=97.0.4692.99)\nStacktrace:\n0   chromedriver                        0x0000000104cc0e69 chromedriver + 5160553\n1   chromedriver                        0x0000000104c4b593 chromedriver + 4679059\n2   chromedriver                        0x00000001047ff2c8 chromedriver + 172744\n3   chromedriver                        0x000000010483bf6b chromedriver + 421739\n4   chromedriver                        0x0000000104839baf chromedriver + 412591\n5   chromedriver                        0x0000000104837350 chromedriver + 402256\n6   chromedriver                        0x000000010483616b chromedriver + 397675\n7   chromedriver                        0x0000000104829d19 chromedriver + 347417\n8   chromedriver                        0x0000000104852362 chromedriver + 512866\n9   chromedriver                        0x00000001048295b5 chromedriver + 345525\n10  chromedriver                        0x000000010485267e chromedriver + 513662\n11  chromedriver                        0x00000001048650ab chromedriver + 589995\n12  chromedriver                        0x0000000104852623 chromedriver + 513571\n13  chromedriver                        0x0000000104827dce chromedriver + 339406\n14  chromedriver                        0x0000000104829105 chromedriver + 344325\n15  chromedriver                        0x0000000104c7c23e chromedriver + 4878910\n16  chromedriver                        0x0000000104c93d17 chromedriver + 4975895\n17  chromedriver                        0x0000000104c99a3f chromedriver + 4999743\n18  chromedriver                        0x0000000104c9461a chromedriver + 4978202\n19  chromedriver                        0x0000000104c70bb1 chromedriver + 4832177\n20  chromedriver                        0x0000000104cb0fd8 chromedriver + 5095384\n21  chromedriver                        0x0000000104cb1161 chromedriver + 5095777\n22  chromedriver                        0x0000000104cc82a8 chromedriver + 5190312\n23  libsystem_pthread.dylib             0x00007ff8028214f4 _pthread_start + 125\n24  libsystem_pthread.dylib             0x00007ff80281d00f thread_start + 15\n",
     "output_type": "error",
     "traceback": [
      "\u001b[0;31m---------------------------------------------------------------------------\u001b[0m",
      "\u001b[0;31mElementClickInterceptedException\u001b[0m          Traceback (most recent call last)",
      "Input \u001b[0;32mIn [9]\u001b[0m, in \u001b[0;36m<module>\u001b[0;34m\u001b[0m\n\u001b[1;32m     33\u001b[0m             num\u001b[38;5;241m+\u001b[39m\u001b[38;5;241m=\u001b[39m\u001b[38;5;241m1\u001b[39m\n\u001b[1;32m     34\u001b[0m             \u001b[38;5;28;01mif\u001b[39;00m tagA\u001b[38;5;241m.\u001b[39mget_attribute(\u001b[38;5;124m\"\u001b[39m\u001b[38;5;124mclass\u001b[39m\u001b[38;5;124m\"\u001b[39m) \u001b[38;5;241m==\u001b[39m \u001b[38;5;124m\"\u001b[39m\u001b[38;5;124mbtn_small btn_more\u001b[39m\u001b[38;5;124m\"\u001b[39m:\n\u001b[0;32m---> 35\u001b[0m                 \u001b[43mtagA\u001b[49m\u001b[38;5;241;43m.\u001b[39;49m\u001b[43mclick\u001b[49m\u001b[43m(\u001b[49m\u001b[43m)\u001b[49m\n\u001b[1;32m     36\u001b[0m                 \u001b[38;5;28mprint\u001b[39m(\u001b[38;5;124m\"\u001b[39m\u001b[38;5;124mclick\u001b[39m\u001b[38;5;124m\"\u001b[39m)\n\u001b[1;32m     37\u001b[0m \u001b[38;5;28mprint\u001b[39m(\u001b[38;5;124m\"\u001b[39m\u001b[38;5;124mtag fin\u001b[39m\u001b[38;5;124m\"\u001b[39m)\n",
      "File \u001b[0;32m~/.local/share/virtualenvs/bookSelection-CcZ7O_He/lib/python3.9/site-packages/selenium/webdriver/remote/webelement.py:81\u001b[0m, in \u001b[0;36mWebElement.click\u001b[0;34m(self)\u001b[0m\n\u001b[1;32m     79\u001b[0m \u001b[38;5;28;01mdef\u001b[39;00m \u001b[38;5;21mclick\u001b[39m(\u001b[38;5;28mself\u001b[39m) \u001b[38;5;241m-\u001b[39m\u001b[38;5;241m>\u001b[39m \u001b[38;5;28;01mNone\u001b[39;00m:\n\u001b[1;32m     80\u001b[0m     \u001b[38;5;124;03m\"\"\"Clicks the element.\"\"\"\u001b[39;00m\n\u001b[0;32m---> 81\u001b[0m     \u001b[38;5;28;43mself\u001b[39;49m\u001b[38;5;241;43m.\u001b[39;49m\u001b[43m_execute\u001b[49m\u001b[43m(\u001b[49m\u001b[43mCommand\u001b[49m\u001b[38;5;241;43m.\u001b[39;49m\u001b[43mCLICK_ELEMENT\u001b[49m\u001b[43m)\u001b[49m\n",
      "File \u001b[0;32m~/.local/share/virtualenvs/bookSelection-CcZ7O_He/lib/python3.9/site-packages/selenium/webdriver/remote/webelement.py:710\u001b[0m, in \u001b[0;36mWebElement._execute\u001b[0;34m(self, command, params)\u001b[0m\n\u001b[1;32m    708\u001b[0m     params \u001b[38;5;241m=\u001b[39m {}\n\u001b[1;32m    709\u001b[0m params[\u001b[38;5;124m'\u001b[39m\u001b[38;5;124mid\u001b[39m\u001b[38;5;124m'\u001b[39m] \u001b[38;5;241m=\u001b[39m \u001b[38;5;28mself\u001b[39m\u001b[38;5;241m.\u001b[39m_id\n\u001b[0;32m--> 710\u001b[0m \u001b[38;5;28;01mreturn\u001b[39;00m \u001b[38;5;28;43mself\u001b[39;49m\u001b[38;5;241;43m.\u001b[39;49m\u001b[43m_parent\u001b[49m\u001b[38;5;241;43m.\u001b[39;49m\u001b[43mexecute\u001b[49m\u001b[43m(\u001b[49m\u001b[43mcommand\u001b[49m\u001b[43m,\u001b[49m\u001b[43m \u001b[49m\u001b[43mparams\u001b[49m\u001b[43m)\u001b[49m\n",
      "File \u001b[0;32m~/.local/share/virtualenvs/bookSelection-CcZ7O_He/lib/python3.9/site-packages/selenium/webdriver/remote/webdriver.py:424\u001b[0m, in \u001b[0;36mWebDriver.execute\u001b[0;34m(self, driver_command, params)\u001b[0m\n\u001b[1;32m    422\u001b[0m response \u001b[38;5;241m=\u001b[39m \u001b[38;5;28mself\u001b[39m\u001b[38;5;241m.\u001b[39mcommand_executor\u001b[38;5;241m.\u001b[39mexecute(driver_command, params)\n\u001b[1;32m    423\u001b[0m \u001b[38;5;28;01mif\u001b[39;00m response:\n\u001b[0;32m--> 424\u001b[0m     \u001b[38;5;28;43mself\u001b[39;49m\u001b[38;5;241;43m.\u001b[39;49m\u001b[43merror_handler\u001b[49m\u001b[38;5;241;43m.\u001b[39;49m\u001b[43mcheck_response\u001b[49m\u001b[43m(\u001b[49m\u001b[43mresponse\u001b[49m\u001b[43m)\u001b[49m\n\u001b[1;32m    425\u001b[0m     response[\u001b[38;5;124m'\u001b[39m\u001b[38;5;124mvalue\u001b[39m\u001b[38;5;124m'\u001b[39m] \u001b[38;5;241m=\u001b[39m \u001b[38;5;28mself\u001b[39m\u001b[38;5;241m.\u001b[39m_unwrap_value(\n\u001b[1;32m    426\u001b[0m         response\u001b[38;5;241m.\u001b[39mget(\u001b[38;5;124m'\u001b[39m\u001b[38;5;124mvalue\u001b[39m\u001b[38;5;124m'\u001b[39m, \u001b[38;5;28;01mNone\u001b[39;00m))\n\u001b[1;32m    427\u001b[0m     \u001b[38;5;28;01mreturn\u001b[39;00m response\n",
      "File \u001b[0;32m~/.local/share/virtualenvs/bookSelection-CcZ7O_He/lib/python3.9/site-packages/selenium/webdriver/remote/errorhandler.py:247\u001b[0m, in \u001b[0;36mErrorHandler.check_response\u001b[0;34m(self, response)\u001b[0m\n\u001b[1;32m    245\u001b[0m         alert_text \u001b[38;5;241m=\u001b[39m value[\u001b[38;5;124m'\u001b[39m\u001b[38;5;124malert\u001b[39m\u001b[38;5;124m'\u001b[39m]\u001b[38;5;241m.\u001b[39mget(\u001b[38;5;124m'\u001b[39m\u001b[38;5;124mtext\u001b[39m\u001b[38;5;124m'\u001b[39m)\n\u001b[1;32m    246\u001b[0m     \u001b[38;5;28;01mraise\u001b[39;00m exception_class(message, screen, stacktrace, alert_text)  \u001b[38;5;66;03m# type: ignore[call-arg]  # mypy is not smart enough here\u001b[39;00m\n\u001b[0;32m--> 247\u001b[0m \u001b[38;5;28;01mraise\u001b[39;00m exception_class(message, screen, stacktrace)\n",
      "\u001b[0;31mElementClickInterceptedException\u001b[0m: Message: element click intercepted: Element <a href=\"#\" class=\"btn_small btn_more\">...</a> is not clickable at point (545, 901). Other element would receive the click: <div class=\"content\" style=\"\">...</div>\n  (Session info: chrome=97.0.4692.99)\nStacktrace:\n0   chromedriver                        0x0000000104cc0e69 chromedriver + 5160553\n1   chromedriver                        0x0000000104c4b593 chromedriver + 4679059\n2   chromedriver                        0x00000001047ff2c8 chromedriver + 172744\n3   chromedriver                        0x000000010483bf6b chromedriver + 421739\n4   chromedriver                        0x0000000104839baf chromedriver + 412591\n5   chromedriver                        0x0000000104837350 chromedriver + 402256\n6   chromedriver                        0x000000010483616b chromedriver + 397675\n7   chromedriver                        0x0000000104829d19 chromedriver + 347417\n8   chromedriver                        0x0000000104852362 chromedriver + 512866\n9   chromedriver                        0x00000001048295b5 chromedriver + 345525\n10  chromedriver                        0x000000010485267e chromedriver + 513662\n11  chromedriver                        0x00000001048650ab chromedriver + 589995\n12  chromedriver                        0x0000000104852623 chromedriver + 513571\n13  chromedriver                        0x0000000104827dce chromedriver + 339406\n14  chromedriver                        0x0000000104829105 chromedriver + 344325\n15  chromedriver                        0x0000000104c7c23e chromedriver + 4878910\n16  chromedriver                        0x0000000104c93d17 chromedriver + 4975895\n17  chromedriver                        0x0000000104c99a3f chromedriver + 4999743\n18  chromedriver                        0x0000000104c9461a chromedriver + 4978202\n19  chromedriver                        0x0000000104c70bb1 chromedriver + 4832177\n20  chromedriver                        0x0000000104cb0fd8 chromedriver + 5095384\n21  chromedriver                        0x0000000104cb1161 chromedriver + 5095777\n22  chromedriver                        0x0000000104cc82a8 chromedriver + 5190312\n23  libsystem_pthread.dylib             0x00007ff8028214f4 _pthread_start + 125\n24  libsystem_pthread.dylib             0x00007ff80281d00f thread_start + 15\n"
     ]
    }
   ],
   "source": [
    "result_length = len(result.find_elements(By.XPATH, \"/html/body/div[2]/div[1]/div[2]/div[3]/div[8]/form[1]/table/tbody/tr/td[2]/div[2]/a\"))\n",
    "list_count = 0\n",
    "\n",
    "while (list_count < result_length):\n",
    "    titleLinks = driver.find_elements(By.XPATH, \"/html/body/div[2]/div[1]/div[2]/div[3]/div[8]/form[1]/table/tbody/tr/td[2]/div[2]/a\")\n",
    "    titleLinks[list_count].click()\n",
    "    time.sleep(2)\n",
    "\n",
    "    detailInfo = dict()\n",
    "    # class=\"box_detail_point\"\n",
    "    detailPoints = driver.find_elements(By.XPATH, \"/html/body/div[2]/div[1]/div[2]/div[2]/form/div[1]/*\")\n",
    "    for detail in detailPoints:\n",
    "        detailInfo[detail.get_attribute(\"class\")] = detail.text\n",
    "        \n",
    "    # class=\"book_keyword\"\n",
    "    keywords = []\n",
    "    if len(driver.find_elements(By.CLASS_NAME, \"book_keyword\")) > 0:\n",
    "        for keyword in driver.find_elements(By.XPATH, \"/html/body/div[2]/div[1]/div[2]/div[2]/form/div[2]/div[4]/div[2]/*\"):\n",
    "            keywords.append(keyword.text)\n",
    "        detailInfo['book_keyword'] = \", \".join(keywords)\n",
    "\n",
    "    # \"content\"\n",
    "    detailcontentList = []\n",
    "    contents = driver.find_elements(By.XPATH, \"/html/body/div[2]/div[1]/div[2]/div[5]/div[1]/div[3]/*\")\n",
    "\n",
    "    print(\"tag start\")            \n",
    "    for tmp in contents:\n",
    "        if len(tmp.find_elements(By.TAG_NAME, \"a\"))>0:\n",
    "            print(\"length=\"+str(len(tmp.find_elements(By.TAG_NAME, \"a\"))))\n",
    "            num = 0\n",
    "            for tagA in tmp.find_elements(By.TAG_NAME, \"a\"):\n",
    "                print(num)\n",
    "                num+=1\n",
    "                if tagA.get_attribute(\"class\") == \"btn_small btn_more\":\n",
    "                    tagA.click()\n",
    "                    print(\"click\")\n",
    "    print(\"tag fin\")\n",
    "    for content in contents:\n",
    "#         print(len(content.find_elements(By.CLASS_NAME, \"btn_small btn_more\")))\n",
    "#         if len(content.find_elements(By.CLASS_NAME, \"btn_small btn_more\")) > 0:\n",
    "#             content.find_element(By.CLASS_NAME, \"btn_small btn_more\").click()\n",
    "        print(content.text)\n",
    "        detailcontentList.append(content.text)\n",
    "    detailInfo['content'] = \"\\n\".join(detailcontentList)\n",
    "    print(detailInfo)\n",
    "    driver.back()\n",
    "    list_count+=1\n",
    "    time.sleep(2)"
   ]
  },
  {
   "cell_type": "code",
   "execution_count": null,
   "id": "7125e0ca",
   "metadata": {},
   "outputs": [],
   "source": [
    "# detailInfo"
   ]
  },
  {
   "cell_type": "code",
   "execution_count": null,
   "id": "6f4ebb07",
   "metadata": {},
   "outputs": [],
   "source": [
    "# driver.back()"
   ]
  },
  {
   "cell_type": "code",
   "execution_count": null,
   "id": "d3b4c374",
   "metadata": {},
   "outputs": [],
   "source": [
    "# driver.quit()"
   ]
  }
 ],
 "metadata": {
  "kernelspec": {
   "display_name": "py3.9_bookSelection",
   "language": "python",
   "name": "py3.9_bookselection"
  },
  "language_info": {
   "codemirror_mode": {
    "name": "ipython",
    "version": 3
   },
   "file_extension": ".py",
   "mimetype": "text/x-python",
   "name": "python",
   "nbconvert_exporter": "python",
   "pygments_lexer": "ipython3",
   "version": "3.9.10"
  }
 },
 "nbformat": 4,
 "nbformat_minor": 5
}
