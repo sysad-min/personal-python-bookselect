{
 "cells": [
  {
   "cell_type": "code",
   "execution_count": 1,
   "id": "f55fff76",
   "metadata": {},
   "outputs": [],
   "source": [
    "from selenium import webdriver\n",
    "from selenium.webdriver.common.by import By\n",
    "from selenium.webdriver.chrome.service import Service\n",
    "from selenium.webdriver.chrome.options import Options\n",
    "from selenium.webdriver.support import expected_conditions as EC\n",
    "from selenium.webdriver.support.ui import WebDriverWait\n",
    "from webdriver_manager.chrome import ChromeDriverManager\n",
    "import time\n",
    "import random\n",
    "import pymysql"
   ]
  },
  {
   "cell_type": "code",
   "execution_count": 2,
   "id": "3d4e3702",
   "metadata": {},
   "outputs": [],
   "source": [
    "class BookSelection:\n",
    "    if __name__ == \"__main__\":\n",
    "        def __init__(self, url, search_keywords):\n",
    "            self.url = url\n",
    "            self.search_keywords = search_keywords\n",
    "#             self.host='localhost'\n",
    "#             self.port=3306\n",
    "#             self.db='bookSelection'\n",
    "#             self.user='administrator'\n",
    "#             self.passwd='12qwaszx!@'\n",
    "            \n",
    "#         def db_conn(self):\n",
    "#             try:\n",
    "#                 conn = pymysql.connect(host=self.host, port=self.port, db=self.db, user=self.user, passwd=self.passwd)\n",
    "#                 return conn\n",
    "#             except Exception as e:\n",
    "#                 print(e)\n",
    "                \n",
    "                \n",
    "        def set_drivers(self):\n",
    "            try:\n",
    "                service = Service(executable_path=ChromeDriverManager().install())\n",
    "                options = Options()\n",
    "                # 참고 = https://codingstep.tistory.com/entry/%ED%8C%8C%EC%9D%B4%EC%8D%AC-%EC%85%80%EB%A0%88%EB%8B%88%EC%9B%80-%ED%81%AC%EB%A1%AC-%EC%98%B5%EC%85%98-python-selenium-chrome-optionsFeat-headless-window-size-user-agent-etc\n",
    "                #지정한 user-agent로 설정합니다.\n",
    "#                 user_agent = \"Mozilla/5.0 (Linux; Android 9; SM-G975F) AppleWebKit/537.36 (KHTML, like Gecko) Chrome/71.0.3578.83 Mobile Safari/537.36\"\n",
    "#                 options.add_argument('user-agent=' + user_agent)\n",
    "#                 options.add_argument('headless') #headless모드 브라우저가 뜨지 않고 실행됩니다.\n",
    "#                 options.add_argument('--blink-settings=imagesEnabled=false') #브라우저에서 이미지 로딩을 하지 않습니다.\n",
    "#                 options.add_argument('--mute-audio') #브라우저에 음소거 옵션을 적용합니다.\n",
    "#                 options.add_argument('--window-size= x, y') #실행되는 브라우저 크기를 지정할 수 있습니다.\n",
    "#                 options.add_argument('--start-maximized') #브라우저가 최대화된 상태로 실행됩니다.\n",
    "#                 options.add_argument('--start-fullscreen') #브라우저가 풀스크린 모드(F11)로 실행됩니다.\n",
    "#                 options.add_argument('incognito') #시크릿 모드의 브라우저가 실행됩니다.\n",
    "                driver = webdriver.Chrome(service=service, options=options)  ##버전에 상관없이 현재 OS에 설치된 크롬브라우저 사용\n",
    "                return driver\n",
    "            except Exception as e:\n",
    "                print(e)\n",
    "        \n",
    "        def get_url(self, driver):\n",
    "            try:\n",
    "                driver.get(self.url)\n",
    "                driver.implicitly_wait(20)\n",
    "            except Exception as e:\n",
    "                print(e)\n",
    "                driver.quit()\n",
    "                \n",
    "        def get_searchKeywords(self, driver):\n",
    "            try:\n",
    "                search_input = driver.find_element(By.XPATH, \"/html/body/div[4]/div[1]/div[1]/div[1]/form[2]/div/div/input\")\n",
    "                search_input.send_keys(self.search_keywords)\n",
    "                driver.find_element(By.XPATH, \"/html/body/div[4]/div[1]/div[1]/div[1]/form[2]/div/input\").click()\n",
    "                driver.implicitly_wait(20)\n",
    "            except Exception as e:\n",
    "                print(e)\n",
    "                driver.quit()\n",
    "        \n",
    "        def get_currentPage(self, driver):\n",
    "            try:\n",
    "                currentPage = driver.find_element(By.XPATH, \"/html/body/div[2]/div[1]/div[2]/div[3]/div[9]/div[1]/ul/li/strong\").text\n",
    "                return currentPage\n",
    "            except Exception as e:\n",
    "                print(e)\n",
    "                driver.quit()\n",
    "                \n",
    "        def get_totalPage(self, driver):\n",
    "            try:\n",
    "                totPageCnt = driver.find_element(By.XPATH, \"/html/body/div[2]/div[1]/div[2]/div[3]/div[9]/div[1]/span/span\").text\n",
    "                return totPageCnt\n",
    "            except Exception as e:\n",
    "                print(e)\n",
    "                driver.quit()\n",
    "        \n",
    "        def get_searchList(self, driver):\n",
    "            try:\n",
    "                searchList = driver.find_element(By.ID, \"search_list\")\n",
    "#                 searchList = driver.find_element(By.ID, \"search_gallery\")\n",
    "                return searchList\n",
    "            except Exception as e:\n",
    "                print(e)\n",
    "                driver.quit()\n",
    "                \n",
    "        def click_moreButton(self, driver):\n",
    "            try:\n",
    "                moreBtns = driver.find_elements(By.XPATH, \"/html/body/div[2]/div[1]/div[2]/div[5]/div[1]/div[3]//a[@class='btn_small btn_more' and text()='더보기']\")\n",
    "                if len(moreBtns) > 0 :\n",
    "                    print(\"click btn cnt = \"+str(len(moreBtns)))\n",
    "                    for moreBtn in moreBtns:\n",
    "                        moreBtn.click()\n",
    "                        time.sleep( random.uniform(1,3) )\n",
    "            except Exception as e:\n",
    "                print(e)\n",
    "\n",
    "        def crawling_detailPage(self, driver, searchList):\n",
    "            try:\n",
    "                # searchListLength = len(searchList.find_elements(By.XPATH, \"/html/body/div[2]/div[1]/div[2]/div[3]/div[8]/form[1]/table/tbody/tr/td[2]/div[2]/a\")) ## 펼쳐보기에서 title Link가져오기\n",
    "                searchListLength = len(searchList.find_elements(By.XPATH, \"/html/body/div[2]/div[1]/div[2]/div[3]/div[8]/form[2]/table/tbody/tr/td/div/div[4]/a\")) ## 간략보기에서 title Link가져오기\n",
    "                list_count = 0\n",
    "\n",
    "                # while (list_count < result_length): change loop -> while loop to for loop\n",
    "                for list_count in range(searchListLength): \n",
    "                    print(\"Crawling number = \"+str(list_count+1)+\"/\"+str(searchListLength))\n",
    "                #     titleLinks = driver.find_elements(By.XPATH, \"/html/body/div[2]/div[1]/div[2]/div[3]/div[8]/form[1]/table/tbody/tr/td[2]/div[2]/a\") ## 펼쳐보기\n",
    "                    titleLinks = driver.find_elements(By.XPATH, \"/html/body/div[2]/div[1]/div[2]/div[3]/div[8]/form[2]/table/tbody/tr/td/div/div[4]/a\") ## 간략보기\n",
    "                    titleLinks[list_count].click()\n",
    "                    time.sleep( random.uniform(3,5) )\n",
    "\n",
    "                    detailInfo = dict()\n",
    "                    \n",
    "                    # class=\"box_detail_point\"\n",
    "                    detailPoints = driver.find_elements(By.XPATH, \"/html/body/div[2]/div[1]/div[2]/div[2]/form/div[1]/*\")\n",
    "                    for detail in detailPoints:\n",
    "                        if detail.get_attribute(\"class\") == \"title\" and len(detail.find_elements(By.TAG_NAME, \"strong\"))>1:\n",
    "                            for deTitle in detail.find_elements(By.TAG_NAME, \"strong\"):\n",
    "                                if deTitle.find_element(By.XPATH, \"..\").get_attribute(\"class\") != \"title\":\n",
    "                                    detailInfo[\"sub_title\"] = deTitle.text\n",
    "                                else:\n",
    "                                    detailInfo[detail.get_attribute(\"class\")] = deTitle.text\n",
    "                        elif detail.get_attribute(\"class\") == \"review\":\n",
    "                            detailInfo[\"rating\"] = detail.find_element(By.TAG_NAME, \"em\").text\n",
    "                        elif detail.get_attribute(\"class\") == \"rank\":\n",
    "                            for idx, deRank in enumerate(detail.find_elements(By.TAG_NAME, \"a\")):\n",
    "                                if deRank.find_element(By.XPATH, \"..\").get_attribute(\"class\") == \"rank\":\n",
    "                                    detailInfo[\"rank\"+str(idx)] = deRank.text\n",
    "                        else:\n",
    "                            detailInfo[detail.get_attribute(\"class\")] = detail.text\n",
    "\n",
    "                    # class=\"book_keyword\"\n",
    "                    keywords = []\n",
    "                    if len(driver.find_elements(By.CLASS_NAME, \"book_keyword\")) > 0:\n",
    "                        for keyword in driver.find_elements(By.XPATH, \"/html/body/div[2]/div[1]/div[2]/div[2]/form/div[2]/div[4]/div[2]/*\"):\n",
    "                            keywords.append(keyword.text)\n",
    "                        detailInfo['book_keyword'] = \", \".join(keywords)\n",
    "\n",
    "                    # more button click\n",
    "                    self.click_moreButton(driver)\n",
    "                    \n",
    "                    # \"content\"\n",
    "                    detailContentList = []\n",
    "                    tmpList = []\n",
    "                    contents = driver.find_elements(By.XPATH, \"/html/body/div[2]/div[1]/div[2]/div[5]/div[1]/div[3]/*\")\n",
    "#                     contentNo = 0\n",
    "#                     print(\"contents size = \"+str(len(contents)))\n",
    "                    for idx, content in enumerate(contents):\n",
    "                        if content.tag_name.startswith(\"h2\"):\n",
    "                            if len(tmpList)>0:\n",
    "                                detailContentList.append(\"\\n\".join(tmpList))\n",
    "                                tmpList.clear()\n",
    "                                \n",
    "                            tmpList.append(content.text)\n",
    "#                             contentNo += 1\n",
    "                        else:\n",
    "                            tmpList.append(content.text)\n",
    "\n",
    "                    for idx, detailContent in enumerate(detailContentList):\n",
    "                        detailInfo[\"content_\"+str(idx)] = detailContent\n",
    "                    \n",
    "                    # \"URL\"\n",
    "                    detailInfo['url'] = driver.current_url\n",
    "                    print(detailInfo)\n",
    "                    driver.back()\n",
    "                #     list_count+=1\n",
    "                    time.sleep( random.uniform(1,3) )\n",
    "            \n",
    "                return detailInfo\n",
    "            except Exception as e:\n",
    "                print(e)\n",
    "\n",
    "    else:\n",
    "        exit()"
   ]
  },
  {
   "cell_type": "code",
   "execution_count": 3,
   "id": "4e189b14",
   "metadata": {
    "scrolled": true
   },
   "outputs": [
    {
     "name": "stderr",
     "output_type": "stream",
     "text": [
      "\n",
      "\n",
      "====== WebDriver manager ======\n",
      "Current google-chrome version is 98.0.4758\n",
      "Get LATEST chromedriver version for 98.0.4758 google-chrome\n",
      "Driver [/Users/administrator/.wdm/drivers/chromedriver/mac64/98.0.4758.80/chromedriver] found in cache\n"
     ]
    }
   ],
   "source": [
    "bookSelection = BookSelection(\"https://www.kyobobook.co.kr\", \"python\")\n",
    "driver = bookSelection.set_drivers()\n",
    "bookSelection.get_url(driver)\n",
    "bookSelection.get_searchKeywords(driver)"
   ]
  },
  {
   "cell_type": "code",
   "execution_count": 4,
   "id": "74f96a09",
   "metadata": {
    "scrolled": true
   },
   "outputs": [],
   "source": [
    "searchTabList = driver.find_element(By.XPATH, \"/html/body/div[2]/div[1]/div[2]/div[3]/div[1]/ul\").text.split('\\n')\n",
    "subTabList = driver.find_element(By.XPATH, \"/html/body/div[2]/div[1]/div[2]/div[3]/div[2]/ul\").text.split('\\n')\n",
    "categoryList = driver.find_element(By.XPATH, \"/html/body/div[2]/div[1]/div[2]/div[3]/div[3]/table/tbody/tr[1]/td/ul\").text.split('\\n')"
   ]
  },
  {
   "cell_type": "code",
   "execution_count": 5,
   "id": "71159bb1",
   "metadata": {},
   "outputs": [
    {
     "name": "stdout",
     "output_type": "stream",
     "text": [
      "['상품(5,398)', '중고장터(539)', '스토리K(25)', '리뷰(1,265)', '책소개.목차(3,404)']\n",
      "['전체 5,398', '국내도서 1,174', '외국도서 3,686', 'eBook 501', 'sam 90', '음반/영상 37', '기프트 0']\n",
      "['컴퓨터/IT 1,126', '경제/경영 12', '어린이(초등) 11', '과학 7', '청소년 4', '정치/사회 3', '취업/수험서 2']\n"
     ]
    }
   ],
   "source": [
    "print(searchTabList)\n",
    "print(subTabList)\n",
    "print(categoryList)"
   ]
  },
  {
   "cell_type": "code",
   "execution_count": 6,
   "id": "a7c9807e",
   "metadata": {},
   "outputs": [
    {
     "name": "stdout",
     "output_type": "stream",
     "text": [
      "totPageCnt = 90\n"
     ]
    }
   ],
   "source": [
    "## 리스트 보기 개수 조절\n",
    "driver.find_element(By.XPATH, \"/html/body/div[2]/div[1]/div[2]/div[3]/div[6]/div[2]/span[2]\").click()\n",
    "time.sleep( random.uniform(1,3) )\n",
    "\n",
    "driver.find_element(By.XPATH, \"/html/body/div[2]/div[1]/div[2]/div[3]/div[6]/div[2]/span[2]/ul/li[3]\").click()\n",
    "time.sleep( random.uniform(1,3) )\n",
    "\n",
    "## 리스트 간략히 보기\n",
    "driver.find_element(By.XPATH, \"/html/body/div[2]/div[1]/div[2]/div[3]/div[6]/div[2]/span[3]\").click()\n",
    "time.sleep( random.uniform(1,3) )\n",
    "\n",
    "driver.find_element(By.XPATH, \"/html/body/div[2]/div[1]/div[2]/div[3]/div[6]/div[2]/span[3]/ul/li[2]/a\").click()\n",
    "time.sleep( random.uniform(1,3) )\n",
    "\n",
    "totalPages = bookSelection.get_totalPage(driver)\n",
    "print(\"totPageCnt = \"+str(totalPages))"
   ]
  },
  {
   "cell_type": "markdown",
   "id": "84ac25af",
   "metadata": {},
   "source": [
    "## 페이지 처리, 상세페이지 크롤링"
   ]
  },
  {
   "cell_type": "code",
   "execution_count": null,
   "id": "808ea0ca",
   "metadata": {},
   "outputs": [
    {
     "name": "stdout",
     "output_type": "stream",
     "text": [
      "CurrentPage = 1\n",
      "Crawling number = 1/60\n",
      "click btn cnt = 1\n",
      "{'icon': '', 'title': '혼자 공부하는 파이썬', 'sub_title': '파이썬 최신 버전 반영', 'author': '윤인성 지음 | 한빛미디어 | 2019년 06월 10일 출간', 'rating': '9.6', 'rank0': '국내도서 주간베스트 284위', 'rank1': '컴퓨터/IT 주간베스트 9위', 'book_keyword': '', 'content_0': '도서·상품정보 1:1 문의하기\\nISBN 9791162241882(1162241888)\\n쪽수 460쪽\\n크기 188 * 258 * 28 mm /1001g 판형알림', 'content_1': '책소개', 'content_2': '이 책이 속한 분야\\n컴퓨터/IT > 프로그래밍 언어 > Python(파이썬)\\n컴퓨터/IT > 대학교재\\n대학교재 > 컴퓨터', 'content_3': '이 책의 주제어\\n#프로그래밍 #자습서 #입문자 #손코딩 #전공자', 'content_4': '\\n혼자 해도 충분하다! 1:1 과외하듯 배우는 파이썬 프로그래밍 자습서(파이썬 최신 버전 반영)\\n27명의 베타리더 검증으로, ‘함께 만든’ 입문자 맞춤형 도서\\n이 책은 독학으로 프로그래밍 언어를 처음 배우려는 입문자가, 혹은 파이썬을 배우려는 입문자가 ‘꼭 필요한 내용을 제대로’ 학습할 수 있도록 구성했다. ‘무엇을’, ‘어떻게’ 학습해야 할지조차 모르는 입문자의 막연한 마음을 살펴, 과외 선생님이 알려주듯 친절하게, 그러나 핵심적인 내용만 콕콕 집어준다. 책의 첫 페이지를 펼쳐서 마지막 페이지를 덮을 때까지, 혼자서도 충분히 파이썬을 배울 수 있다는 자신감과 확신이 계속될 것이다!\\n\\n27명의 베타리더와 함께 구성하여 입문자에게 맞는 난이도, 분량, 학습 요소 등을 적극 반영했다. 어려운 용어와 개념은 한번 더 풀어 쓰고, 복잡한 설명은 눈에 잘 들어오는 그림으로 풀어 냈다. ‘혼자 공부해본’ 여러 입문자의 초심과 눈높이가 책 곳곳에 반영된 것이 이 책의 가장 큰 장점이다.', 'content_5': '상세이미지\\n\\n저자소개\\n저자 : 윤인성\\n작가 정보 관심작가 등록\\n프로그래머 번역가/통역사＞일본어\\n어쩌다가 책을 집필/번역하기 시작해서 지금까지 계속해서 집필/번역하고 있다. 현재 직업 특성상 집에서 나갈 이유가 없다는 것에 매우 만족하고 있다. 커피와 홍차를 즐겨 마신다. 요리, 피아노... 더보기\\n\\n윤인성의 다른 작품\\n이펙티브 코틀린(프로그래밍인사이트)\\n25,200원\\n자바스크립트 프로그래밍 입문(2판)(IT CookBook)\\n27,000원\\n파이썬 매일 코딩\\n19,800원\\n프로그래밍 대회 공략을 위한 알고리즘과 자료 구조 입문\\n28,800원\\n', 'content_6': '목차\\nChapter 01 파이썬 시작하기\\n01-1 파이썬을 하기 전에 읽는 아주 간단한 설명\\n컴퓨터 프로그램\\n프로그래밍 언어\\n프로그래밍 언어, 파이썬\\n파이썬이 인기 있는 이유\\n3가지 키워드로 정리하는 핵심 포인트\\n확인문제\\n01-2 파이썬을 배우기 위해 준비해야 할 것들\\n파이썬 설치하기\\n파이썬 실행하기: 파이썬 인터렉티브 셸\\n텍스트 에디터 사용하기(1): 파이썬 IDLE 에디터\\n텍스트 에디터 사용하기(2): 비주얼 스튜디오 코드\\n4가지 키워드로 정리하는 핵심 포인트\\n확인문제\\n01-3 이 책에서 자주 나오는 파이썬 용어들\\n표현식과 문장\\n키워드\\n식별자\\n주석\\n연산자와 자료\\n출력: print()\\n5가지 키워드로 정리하는 핵심 포인트\\n확인문제\\n\\nChapter 02 자료형\\n02-1 자료형과 문자열\\n자료형과 기본 자료형\\n문자열 만들기 08\\n문자열 연산자\\n문자열의 길이 구하기\\n5가지 키워드로 정리하는 핵심 포인트\\n확인문제\\n02-2 숫자\\n숫자의 종류\\n숫자 연산자\\n연산자 우선순위\\n[좀 더 알아보기] 문자열 연산자의 우선순위\\n4가지 키워드로 정리하는 핵심 포인트\\n확인문제\\n02-3 변수와 입력\\n변수 만들기/사용하기\\n복합 대입 연산자\\n사용자 입력: input()\\n문자열을 숫자로 바꾸기\\n숫자를 문자열로 바꾸기\\n7가지 키워드로 정리하는 핵심 포인트\\n확인문제\\n02-4 숫자와 문자열의 다양한 기능\\n문자열의 format() 함수\\nformat() 함수의 다양한 기능\\n대소문자 바꾸기: upper()와 lower()\\n문자열 양옆의 공백 제거하기: strip()\\n문자열의 구성 파악하기: isOO()\\n문자열 찾기: find()와 rfind()\\n문자열과 in 연산자\\n문자열 자르기: split()\\n7가지 키워드로 정리하는 핵심 포인트\\n확인문제\\n\\nChapter 03 조건문\\n03-1 불 자료형과 if 조건문\\n불 만들기: 비교 연산자\\n불 연산하기: 논리 연산자\\n논리 연산자의 활용\\nif 조건문이란?\\n날짜/시간 활용하기\\n컴퓨터의 조건\\n4가지 키워드로 정리하는 핵심 포인트\\n확인문제\\n03-2 if~else와 elif 구문\\nelse 조건문의 활용\\nelif 구문\\nif 조건문을 효율적으로 사용하기\\nFalse로 변환되는 값\\npass 키워드\\n[좀 더 알아보기] raise NotImplementError\\n4가지 키워드로 정리하는 핵심 포인트\\n확인문제\\n\\nChapter 04 반복문\\n04-1 리스트와 반복문\\n리스트 선언하고 요소에 접근하기\\n리스트 연산자: 연결(+), 반복(*), len()\\n리스트에 요소 추가하기: append, insert\\n리스트에 요소 제거하기\\n리스트 내부에 있는지 확인하기: in/not in 연산자\\nfor 반복문\\nfor 반복문: 리스트와 함께 사용하기\\n4가지 키워드로 정리하는 핵심 포인트\\n확인문제\\n04-2 딕셔너리와 반복문\\n딕셔너리 선언하기\\n딕셔너리의 요소에 접근하기\\n딕셔너리에 값 추가하기/제거하기\\n딕셔너리 내부에 키가 있는지 확인하기\\nfor 반복문: 딕셔너리와 함께 사용하기\\n3가지 키워드로 정리하는 핵심 포인트\\n확인문제\\n04-3 반복문과 while 반복문\\n범위\\nfor 반복문: 범위와 함께 사용하기\\nfor 반복문: 리스트와 범위 조합하기\\nfor 반복문: 반대로 반복하기\\nwhile 반복문\\nwhile 반복문: for 반복문처럼 사용하기\\nwhile 반복문: 상태를 기반으로 반복하기\\nwhile 반복문: 시간을 기반으로 반복하기\\nwhile 반복문: break 키워드/continue 키워드\\n4가지 키워드로 정리하는 핵심 포인트\\n확인문제\\n04-4 문자열, 리스트, 딕셔너리와 관련된 기본 함수\\n리스트에 적용할 수 있는 기본 함수: min(), max(), sum()\\nreversed() 함수로 리스트 뒤집기\\nenumerate() 함수와 반복문 조합하기\\n딕셔너리의 items() 함수와 반복문 조합하기\\n리스트 내포\\n[좀 더 알아보기] 구문 내부에 여러 줄 문자열을 사용했을 때의 문제점\\n[좀 더 알아보기] 이터레이터\\n3가지 키워드로 정리하는 핵심 포인트\\n확인문제\\n\\nChapter 05 함수\\n05-1 함수 만들기\\n함수의 기본\\n함수에 매개변수 만들기\\n가변 매개변수\\n기본 매개변수\\n키워드 매개변수\\n리턴\\n기본적인 함수의 활용\\n5가지 키워드로 정리하는 핵심 포인트\\n확인문제\\n05-2 함수의 활용\\n재귀 함수\\n재귀 함수의 문제\\n조기 리턴\\n[좀 더 알아보기] 코드에 이름 붙이기\\n[좀 더 알아보기] 코드 유지보수\\n3가지 키워드로 정리하는 핵심 포인트\\n확인문제\\n05-3 함수 고급\\n튜플\\n람다\\n파일 처리\\n[좀 더 알아보기] 혼자 공부하는 파이썬 프로그래밍\\n[좀 더 알아보기] 제너레이터\\n3가지 키워드로 정리하는 핵심 포인트\\n확인문제\\n\\nChapter 06 예외 처리\\n06-1 구문 오류와 예외\\n오류의 종류\\n기본 예외 처리\\ntry except 구문\\ntry except else 구문\\nfinally 구문\\n4가지 키워드로 정리하는 핵심 포인트\\n확인문제\\n06-2 예외 고급\\n예외 객체\\n예외 구분하기\\n모든 예외 잡기\\nraise 구문\\n[좀 더 알아보기] 코드 살펴보기\\n3가지 키워드로 정리하는 핵심 포인트\\n확인문제\\n\\nChapter 07 모듈\\n07-1 표준 모듈\\n모듈 사용의 기본: math 모듈\\nrandom 모듈\\nsys 모듈\\nos 모듈\\ndatetime 모듈\\ntime 모듈\\nurllib 모듈\\n4가지 키워드로 정리하는 핵심 포인트\\n확인문제\\n07-2 외부 모듈\\n모듈 설치하기\\n모듈 찾아보기\\nBeautifulSoup 모듈\\nFlask 모듈\\n라이브러리와 프레임워크\\n[좀 더 알아보기] 함수 데코레이터\\n5가지 키워드로 정리하는 핵심 포인트\\n확인문제\\n07-3 모듈 만들기\\n모듈 만들기\\n패키지\\n[좀 더 알아보기] 텍스트 데이터\\n[좀 더 알아보기] 바이너리 데이터\\n3가지 키워드로 정리하는 핵심 포인트\\n모듈을 분석하는 방법\\n\\nChapter 08 클래스\\n08-1 클래스의 기본\\n객체\\n클래스 선언하기\\n생성자\\n메소드\\n7가지 키워드로 정리하는 핵심 포인트\\n확인문제\\n08-2 클래스의 추가적인 구문\\n어떤 클래스의 인스턴스인지 확인하기\\n특수한 이름의 메소드\\n클래스 변수와 메소드\\n[좀 더 알아보기] 가비지 컬렉터\\n[좀 더 알아보기] 프라이빗 변수와 게터/세터\\n[좀 더 알아보기] 상속\\n4가지 키워드로 정리하는 핵심 포인트\\n확인문제\\n\\n정답\\n찾아보기', 'url': 'http://www.kyobobook.co.kr/product/detailViewKor.laf?ejkGb=KOR&mallGb=KOR&barcode=9791162241882&orderClick=LAG&Kc='}\n",
      "Crawling number = 2/60\n",
      "click btn cnt = 1\n",
      "{'icon': '', 'title': 'Do it! 점프 투 파이썬', 'sub_title': '이미 200만명이 이 책으로 프로그래밍을 시작했다! | 중학생도, 문과생도 쉽게 배운다!', 'author': '박응용 지음 | 이지스퍼블리싱 | 2019년 06월 20일 출간', 'rating': '9.3', 'rank0': '컴퓨터/IT 주간베스트 14위', 'book_keyword': '', 'content_0': '도서·상품정보 1:1 문의하기\\nISBN 9791163030911(1163030910)\\n쪽수 360쪽\\n크기 188 * 256 * 19 mm /770g 판형알림', 'content_1': '책소개', 'content_2': '이 책이 속한 분야\\n컴퓨터/IT > 프로그래밍 언어 > Python(파이썬)\\n컴퓨터/IT > 대학교재\\n대학교재 > 컴퓨터', 'content_3': '이 책의 주제어\\n#Python #프로그래밍입문 #파이썬3.7', 'content_4': '\\n파이썬 4년 연속 베스트셀러 1위!\\n《Do it! 점프 투 파이썬》 전면 개정판 출시!\\n문과생도 중고등학생도 직장인도 프로그래밍에 눈뜨게 만든 바로 그 책이 전면 개정판으로 새로 태어났다! 2016년 《Do it! 점프 투 파이썬》으로 출간되었던 이 책은 약 4년 동안의 피드백을 반영하여 초보자가 더 빠르게 입문하고, 더 깊이 있게 공부할 수 있도록 개정되었다. 특히 ‘나 혼자 코딩’과 ‘코딩 면허 시험 20제’ 등 독자의 학습 흐름에 맞게 문제를 보강한 점이 눈에 띈다. 실습량도 두 배로 늘었다.\\n\\n4년 동안 압도적 1위! 위키독스 누적 방문 200만! 수많은 대학 및 학원의 교재 채택 등! 검증은 이미 끝났다. 코딩을 처음 배우는 중고등학생부터 나만의 경쟁력이 필요한 문과생, 데이터 분석과 인공지능/머신러닝으로 커리어를 뻗어 나가고 싶은 직장인까지! 프로그래밍의 세계에 풍덩 빠져 보자.\\n▶파이썬 무료 기초 강의 - 1강 파이썬이란 무엇인가?\\n\\n*출판사의 사정에 따라 서비스가 변경 또는 중지될 수 있습니다.\\n*window7의 경우 사운드 연결이 없을시, 동영상 재생에 오류가 발생할 수 있습니다. 이어폰, 스피커 등이 연결되어 있는지 확인 하시고 재생하시기 바랍니다.\\n\\n이 책의 총서 총서 자세히 보기\\n깡샘의 안드로이드 앱 프로그래밍 with 코틀린\\nDo it! BERT와 GPT로 배우는 자연어 처리\\nDo it! 자바스크립트 입문\\nDo it! 첫 통계 with 베이즈\\nDo it! 딥러닝 교과서\\nDo it! 플러터 앱 프로그래밍\\nDo it! 인터랙티브 웹 페이지 만들기\\nDo it! 자바 완전 정복\\nDo it! 깡샘의 안드로이드 앱 프로그래밍 with 코틀린\\nDo it! 클론 코딩 트위터\\nDo it! 안드로이드 앱 프로그래밍\\nDo it! 강화 학습 입문\\n전체선택 장바구니 담기', 'content_5': '상세이미지\\n\\n저자소개\\n저자 : 박응용\\n작가 정보 관심작가 등록\\n프로그래밍언어교재작가\\n국내 저자로는 최초로 2001년, 파이썬 안내서인 《점프 투 파이썬》을 출간하였다. 이후 직접 제작한 온라인 서비스 위키독스에서 온라인 독자와 소통하며 10년 동안 책을 다듬었고, 이 내용을... 더보기\\n\\n\\n박응용의 다른 작품\\nDo it! 점프 투 장고\\n17,820원\\nDo it! 점프 투 플라스크\\n17,820원\\n', 'content_6': '목차\\n첫째마당 파이썬 기본 문법 익히기\\n\\n01장 파이썬이란 무엇인가?\\n__01-1 파이썬이란?\\n__01-2 파이썬의 특징\\n____파이썬은 인간다운 언어이다\\n____파이썬은 문법이 쉬워 빠르게 배울 수 있다\\n____파이썬은 무료이지만 강력하다\\n____파이썬은 간결하다\\n____파이썬은 프로그래밍을 즐기게 해 준다\\n____파이썬은 개발 속도가 빠르다\\n__01-3 파이썬으로 무엇을 할 수 있을까?\\n____파이썬으로 할 수 있는 일\\n____파이썬으로 할 수 없는 일\\n__01-4 파이썬 설치하기\\n____윈도우에서 파이썬 설치하기\\n__01-5 파이썬 둘러보기\\n____파이썬 기초 실습 준비하기\\n____파이썬 기초 문법 따라 해 보기\\n__01-6 파이썬과 에디터\\n____IDLE로 파이썬 프로그램 작성하기\\n____명령 프롬프트 창에서 파이썬 프로그램 실행하기\\n____추천 에디터\\n\\n02장 파이썬 프로그래밍의 기초, 자료형\\n__02-1 숫자형\\n____숫자형은 어떻게 만들고 사용할까?\\n____숫자형을 활용하기 위한 연산자\\n__02-2 문자열 자료형\\n____문자열은 어떻게 만들고 사용할까?\\n____문자열 연산하기\\n____문자열 인덱싱과 슬라이싱\\n____문자열 포매팅\\n____문자열 관련 함수\\n__02-3 리스트 자료형\\n____리스트는 어떻게 만들고 사용할까?\\n____리스트의 인덱싱과 슬라이싱\\n____리스트 연산하기\\n____리스트의 수정과 삭제\\n____리스트 관련 함수\\n__02-4 튜플 자료형\\n____튜플 다루기\\n__02-5 딕셔너리 자료형\\n____딕셔너리란?\\n____딕셔너리는 어떻게 만들까?\\n____딕셔너리 쌍 추가, 삭제하기\\n____딕셔너리를 사용하는 방법\\n____딕셔너리 관련 함수\\n__02-6 집합 자료형\\n____집합 자료형은 어떻게 만들까?\\n____집합 자료형의 특징\\n____교집합, 합집합, 차집합 구하기\\n____집합 자료형 관련 함수\\n__02-7 불 자료형\\n____불 자료형이란?\\n____자료형의 참과 거짓\\n____불 연산\\n__02-8 자료형의 값을 저장하는 공간, 변수\\n____변수란?\\n____리스트를 복사할 때\\n____변수를 만드는 여러 가지 방법\\n연습문제\\n\\n03장 프로그램의 구조를 쌓는다! 제어문\\n__03-1 if문\\n____if문은 왜 필요할까?\\n____if문의 기본 구조\\n____조건문이란 무엇인가?\\n____다양한 조건을 판단하는 elif\\n____조건부 표현식\\n__03-2 while문\\n____while문의 기본 구조\\n____while문 만들기\\n____while문 강제로 빠져나가기\\n____while문의 맨 처음으로 돌아가기\\n____무한 루프\\n__03-3 for문\\n____for문의 기본 구조\\n____for문과 continue문\\n____for문과 함께 자주 사용하는 range 함수\\n____리스트 내포 사용하기\\n연습문제\\n\\n04장 프로그램의 입력과 출력은 어떻게 해야 할까?\\n__04-1 함수\\n____함수를 사용하는 이유는 무엇일까?\\n____파이썬 함수의 구조\\n____매개변수와 인수\\n____입력값과 결괏값에 따른 함수의 형태\\n____매개변수 지정하여 호출하기\\n____입력값이 몇 개가 될지 모를 때는 어떻게 해야 할까?\\n____함수의 결괏값은 언제나 하나이다\\n____매개변수에 초깃값 미리 설정하기\\n____함수 안에서 선언한 변수의 효력 범위\\n____lambda\\n__04-2 사용자 입력과 출력\\n____사용자 입력\\n____print 자세히 알기\\n__04-3 파일 읽고 쓰기\\n____파일 생성하기\\n____파일을 쓰기 모드로 열어 출력값 적기\\n____프로그램의 외부에 저장된 파일을 읽는 여러 가지 방법\\n____파일에 새로운 내용 추가하기\\n____with문과 함께 사용하기\\n연습문제\\n\\n05장 파이썬 날개 달기\\n__05-1 클래스\\n____클래스는 왜 필요한가?\\n____클래스와 객체\\n____사칙연산 클래스 만들기\\n____생성자(Constructor)\\n____클래스의 상속\\n____클래스 변수\\n__05-2 모듈\\n____모듈 만들기\\n____모듈 불러오기\\n____if __name__ == \"__main__\" :의 의미\\n____클래스나 변수 등을 포함한 모듈\\n____다른 파일에서 모듈 불러오기\\n__05-3 패키지\\n____패키지란 무엇인가?\\n____패키지 만들기\\n____ __init__.py의 용도\\n____relative 패키지\\n__05-4 예외 처리\\n____오류는 어떨 때 발생하는가?\\n____오류 예외 처리 기법\\n____오류 회피하기\\n____오류 일부러 발생시키기\\n____예외 만들기\\n__05-5 내장 함수\\n__05-6 외장 함수\\n연습문제\\n\\n둘째마당 파이썬 실력 키우기\\n\\n06장 파이썬 프로그래밍, 어떻게 시작해야 할까?\\n__06-1 내가 프로그램을 만들 수 있을까?\\n__06-2 3과 5의 배수 합하기\\n__06-3 게시판 페이징하기\\n__06-4 간단한 메모장 만들기\\n__06-5 탭을 4개의 공백으로 바꾸기\\n__06-6 하위 디렉터리 검색하기\\n\\n07장 정규 표현식\\n__07-1 정규 표현식 살펴보기\\n____정규 표현식은 왜 필요한가?\\n__07-2 정규 표현식 시작하기\\n____정규 표현식의 기초, 메타 문자\\n____파이썬에서 정규 표현식을 지원하는 re 모듈\\n____정규식을 사용한 문자열 검색\\n____match 객체의 메서드\\n____컴파일 옵션\\n____백슬래시 문제\\n__07-3 강력한 정규 표현식의 세계로\\n____메타 문자\\n____그루핑\\n____그루핑된 문자열에 이름 붙이기\\n____전방 탐색\\n____문자열 바꾸기\\n____Greedy vs Non-Greedy\\n\\n파이썬 초보 탈출 - 코딩 면허 시험 20제\\n\\n연습문제 풀이\\n코딩 면허 시험 풀이\\n찾아보기', 'url': 'http://www.kyobobook.co.kr/product/detailViewKor.laf?ejkGb=KOR&mallGb=KOR&barcode=9791163030911&orderClick=LAG&Kc='}\n"
     ]
    },
    {
     "name": "stdout",
     "output_type": "stream",
     "text": [
      "Crawling number = 3/60\n",
      "click btn cnt = 2\n",
      "{'icon': '', 'title': '1일 1로그 100일 완성 IT 지식', 'sub_title': '하드웨어,소프트웨어,통신,데이터,4가지 IT 근육으로 디지털 문해력 기르기', 'author': '브라이언 W. 커니핸 지음 | 하성창 옮김 | 인사이트 | 2021년 12월 31일 출간', 'rating': '9.4', 'rank0': '국내도서 주간베스트 157위', 'rank1': '컴퓨터/IT 주간베스트 6위', 'book_keyword': '', 'content_0': '도서·상품정보 1:1 문의하기\\nISBN 9788966263301(8966263305)\\n쪽수 560쪽\\n크기 153 * 206 * 40 mm /649g 판형알림', 'content_1': '책소개', 'content_2': '이 책이 속한 분야\\n컴퓨터/IT > IT일반 > IT교양서/IT에세이\\n자기계발 > 성공/처세 > 자기관리/처세', 'content_3': '이 책의 주제어\\n#IT수업 #컴퓨터과학 #명강의 #하드웨어 #통신 #데이터', 'content_4': '\\n복잡한 IT 세상을 선명하게 읽는 디지털 문해력 기르기 챌린지\\nIT 지식은 분명 복잡하지만 인생처럼 혼잡하지는 않다. 필요한 지식을 습득하면 막연한 불안감에서 벗어나 디지털 지구가 제시하는 도전과 기회에 적극적으로 대처할 수 있다. 네이버, 카카오, 쿠팡, 배달의 민족, 당근마켓, 토스··· 순식간에 우리 일상에 스며든 IT 기업들은 클라우드 컴퓨팅, 머신러닝, 데이터 마이닝과 같은 기술을 바탕으로 매분 매초 혁신과 성장을 거듭하고 있다. 그 가운데 인터넷, 스마트폰에 이어 2025년 글로벌 300조 시장이 예측되는 메타버스 시대가 열렸다.\\n다행히도 논리적 구조와 물리적 구현으로 이뤄진 디지털 시스템의 기본 아이디어는 무게가 30톤에 달하던 초기 컴퓨터부터 MS 홀로렌즈로 접속하는 메타버스까지 동일하다. 컴퓨팅의 4가지 핵심 분야인 하드웨어, 소프트웨어, 통신, 데이터를 이해하면 어떤 복잡한 디지털 시스템이라도 잘게 쪼개 비즈니스 구조와 흐름을 파악하는 디지털 문해력을 기를 수 있다.\\n호기심 세포는 있는데, 실천 세포는 없다면, 이 책이 딱이다. ‘1일 1로그 100일 완성 IT 지식 챌린지’에, 각 꼭지를 언제 읽을 것인지, 퀘스트 날짜를 적어 보자. 계획한 날짜에 읽었다면 퀘스트 성공! 하루하루 성공 기록을 쌓다 보면 한번 배워 평생 써먹는 IT 근육을 갖게 될 것이다.', 'content_5': '상세이미지\\n\\n저자소개\\n저자 : 브라이언 W. 커니핸\\n작가 정보 관심작가 등록\\n컴퓨터공학자\\nBrian W. Kernighan 프린스턴 대학 컴퓨터과학과 교수. 20년간 비전공자를 대상으로 교양과목인 ‘우리 세상의 컴퓨터들(Computers in Our World)’을 가르치고 있다... 더보기\\n\\n\\n\\n브라이언 W. 커니핸의 다른 작품\\n숫자가 만만해지는 책\\n13,500원\\nHello, Digital World(커니핸 교수의)(테크 러닝 시리즈 4)\\n20,700원\\nC언어 프로그래밍(Kernighan의)(수정판 2판)\\n22,500원\\n프로그래밍 수련법\\n18,000원\\n역자 : 하성창\\n작가 정보 관심작가 등록\\n프로그래머 번역가/통역사＞영어\\n컴퓨터 기술을 다루는 글쓰기와 번역 일을 하고 있다. 주로 테크니컬 라이터로 일하면서 소프트웨어 플랫폼, 클라우드 컴퓨팅 등과 관련된 기술 문서를 작성했고, 소프트웨어 개발자와 로컬라이제이션... 더보기\\n하성창의 다른 작품\\n유닉스의 탄생\\n18,000원\\nHello, Digital World(커니핸 교수의)(테크 러닝 시리즈 4)\\n20,700원\\n', 'content_6': '목차\\n들어가며\\n서문\\n\\n1부 [IT 근육 하나] 하드웨어\\n\\n001 컴퓨터의 논리와 구조\\n002 프로세서 속도와 심장 박동수\\n003 HDD와 SSD의 차이\\n004 가로세로 1cm 프로세서 칩\\n005 50년 넘게 유지된 무어의 법칙\\n006 요약\\n\\n007 연속과 불연속\\n008 아날로그 정보를 디지털로 바꾸기\\n009 0과 1의 세계\\n010 비트 모아 데이터\\n011 요약\\n\\n012 프로세서와 계산기의 다른 점\\n013 모형 컴퓨터로 더하기 프로그램 만들기\\n014 프로세서는 무조건 빠른 게 좋을까?\\n015 캐시가 뭔가요?\\n016 슈퍼컴퓨터부터 사물인터넷까지\\n017 요약\\n\\n\\n2부 [IT 근육 둘] 소프트웨어\\n\\n018 알고리즘과 초콜릿 케이크 레시피\\n019 반에서 가장 키 큰 사람 찾기: 선형 알고리즘\\n020 10억 개 전화번호에서 이름 찾기: 이진 검색\\n021 검색을 쉽게 만드는 정렬: 선택 정렬 vs 퀵 정렬\\n022 10개 도시를 최단거리로 여행하는 법\\n023 요약\\n\\n024 알고리즘은 이상, 프로그래밍은 현실\\n025 다른 프로그램을 처리하기 위한 프로그램\\n026 고수준 언어에서 프로그램 실행까지\\n027 작문과 비슷한 프로그래밍\\n028 구글 같은 서비스는 어떻게 개발할까?\\n029 구글과 오라클의 저작권 소송\\n030 기술 표준의 중요성\\n031 자유로운 소프트웨어, 오픈소스\\n032 요약\\n\\n033 컴퓨터를 작동하게 만드는 운영체제\\n034 가상 운영체제와 가상 머신\\n035 운영체제가 일하는 법\\n036 파일 시스템과 블록\\n037 파일을 휴지통에 넣을 때 일어나는 일\\n038 여러 작업을 수행하는 애플리케이션\\n039 소프트웨어의 계층 구조\\n040 요약\\n\\n041 자바스크립트와 파이썬\\n042 프로그래밍 언어의 주요 개념\\n043 자바스크립트로 Hello, World 출력하기\\n044 사용자 이름 입력받아 출력하기\\n045 루프와 조건문\\n046 자바스크립트로 구글 지도에 위치 표시하기\\n047 자바스크립트는 어떻게 작동할까?\\n048 파이썬으로 Hello, World 출력하기\\n049 더하기 프로그램 만들기\\n050 파이썬으로 그래프 그리기\\n051 파이썬은 어떻게 작동할까?\\n052 요약\\n\\n\\n3부 [IT 근육 셋] 통신\\n\\n053 전화부터 와이파이까지, 네트워크의 기본 속성\\n054 삐- 삐- 추억의 모뎀 소리\\n055 킬로바이트에서 메가바이트로\\n056 학교나 회사에서 사용하는 근거리 네트워크, 이더넷\\n057 와이파이는 상표 이름\\n058 휴대전화가 영어로 셀룰러폰인 이유\\n059 3G, LTE, 4G, 5G\\n060 ZIP 파일로 압축할 때\\n061 오류를 검출하고 수정하는 알고리즘\\n062 요약\\n\\n063 표준과 프로토콜의 세계, 인터넷\\n064 인터넷이 가능한 메커니즘\\n065 나만의 도메인이 갖고 싶다면?\\n066 출발지에서 목적지까지, 인터넷 경로 확인하기\\n067 데이터를 전송하는 핵심 프로토콜 TCP/IP\\n068 최상위 프로토콜: 메일 전송과 파일 공유\\n069 디지털 저작권 논쟁\\n070 보안에 취약한 IoT 기기들\\n071 요약\\n\\n072 월드 와이드 웹은 무료다\\n073 URL의 의미\\n074 HTML과 CSS로 간단한 웹페이지 만들기\\n075 쿠키를 삭제하시겠습니까?\\n076 어도비 플래시는 왜 퇴출됐을까?\\n077 이메일 첨부파일을 함부로 클릭하면 안 되는 이유\\n078 바이러스 전파\\n079 곳곳에 도사리는 위험\\n080 웹에서 나를 지키는 3단계 방어책\\n081 요약\\n\\n\\n4부 [IT 근육 넷] 데이터\\n\\n082 제타바이트 시대\\n083 검색 엔진과 타깃 광고\\n084 내가 인터넷을 보면 인터넷도 나를 본다\\n085 트윗을 올리기 전에\\n086 메타데이터에 관한 불편한 진실\\n087 클라우드와 프라이버시\\n088 요약\\n\\n089 인간의 영역에 들어온 컴퓨터\\n090 인공지능의 겨울\\n091 머신러닝의 학습 알고리즘\\n092 인간 뇌를 모방한 신경망과 딥 러닝\\n093 인공지능과 사람이 쓴 시를 구별할 수 있을까?\\n094 요약\\n\\n095 숨길 게 없다면 괜찮을까?\\n096 둘이서만 공유하는 비밀 키 암호 기법\\n097 공개 키 암호 기법과 닫힌 자물쇠\\n098 인터넷에 흔적을 남기지 않고 거래할 수 있을까?\\n099 요약\\n100 사람은 빠르게 변하지 않는다\\n\\n용어 해설\\n옮긴이의 글\\n찾아보기', 'content_7': '책 속으로\\n19세기 후반에 허먼 홀러리스Herman Hollerith는 미국 인구 조사국US Census Bureau과 협력하여 인구 조사 정보를 수작업보다 훨씬 더 빨리 집계할 수 있는 기계를 설계하고 만들었다. 홀러리스는 자카르 직기의 발상을 활용해서, 뻣뻣한 종이 카드에 구멍을 뚫어 인구 조사 데이터를 기계에서 처리할 수 있는 형태로 인코딩(부호화)했다. 1880년 인구 조사 집계가 8년 걸렸기에 1890년 인구 조사는 10년 이상 걸릴 거라는 예측과 달리, 홀러리스의 천공 카드와 집계 기계 덕분에 불과 1년 만에 처리할 수 있었다. 이후 홀러리스는 회사를 설립했고, 그 회사는 인수 합병을 거쳐 1924년에 ‘International Business Machines’라는 기업이 되었는데, 바로 우리가 아는 IBM이다.\\n_1부 하드웨어 〈들어가는 글〉\\n\\n최신 컴퓨터는 실로 복잡한 물건이다. 그림 I.4(12쪽)에서 본 것처럼 프로세서, 메모리, 보조 기억 장치, 디스플레이, 네트워크 인터페이스 등 많은 부분을 포함한다. 구성 요소를 효과적으로 사용하려면 다수의 프로그램을 동시에 실행할 수 있어야 한다. 이 중 일부는 무언가 일어나기를 기다리고 있고(웹페이지가 모두 다운로드되기를 기다리기), 어떤 것은 즉각적인 반응을 요구하고(마우스의 움직임을 추적하거나 게임을 할 때 디스플레이 업데이트하기), 또 일부는 다른 프로그램에 지장을 준다(이미 초만원 상태인 메모리에 공간이 필요한 새 프로그램 시작하기). 복잡하기 이를 데 없다.\\n_033 컴퓨터를 작동하게 만드는 운영체제\\n\\n인터넷에서 가장 눈에 띄는 부분은 월드 와이드 웹World Wide Web으로, 지금은 그냥 ‘웹’이라고 한다. 인터넷과 웹을 하나로 보는 경향도 있지만, 둘은 서로 다르다. 인터넷은 전 세계의 수많은 컴퓨터가 서로 쉽게 정보를 교환할 수 있도록 하는 통신 인프라 또는 하위 계층이다. 웹은 정보를 제공하는 컴퓨터(서버)와 정보를 요청하는 컴퓨터(여러분과 나 같은 클라이언트)를 연결한다. 웹은 인터넷을 ‘사용하여’ 연결을 맺고 정보를 전달하며 다른 인터넷 기반 서비스에 접근하기 위한 인터페이스를 제공한다.\\n_072 월드 와이드 웹은 무료다\\n\\n나는 시험 삼아 모든 방어책을 해제하고 사파리를 사용하여 토요타 웹사이트를 방문했다. 처음 방문했을 때 25개의 서로 다른 사이트에서오는 쿠키, 다양한 사이트에서 오는 45개의 이미지, 50개 이상의 자바스크립트 프로그램을 다운로드했고, 전체 용량이 10MB를 넘었다. 이 페이지는 내가 거기에 남아 있는 동안 계속 네트워크 요청을 생성했다. 사실은 페이지가 백그라운드 연산을 너무 많이 돌리고 있어서 사파리가 경고를 띄울 정도였다(그림 IV.4).\\n_084 내가 인터넷을 보면 인터넷도 나를 본다 닫기', 'content_8': '출판사 서평\\nIT 교양인으로 피봇팅하시겠습니까?\\n살아 있는 현대 컴퓨팅의 역사, 브라이언 W. 커니핸 교수가 알려 주는\\nIT 지식을 막힘없이 디코딩하는 4가지 근육\\n\\nIT 지식은 분명 복잡하지만 인생처럼 혼잡하지는 않다. 필요한 지식을 습득하면 막연한 불안감에서 벗어나 디지털 지구가 제시하는 도전과 기회에 적극적으로 대처할 수 있다. 네이버, 카카오, 쿠팡, 배달의 민족, 당근마켓, 토스··· 순식간에 우리 일상에 스며든 IT 기업들은 클라우드 컴퓨팅, 머신러닝, 데이터 마이닝과 같은 기술을 바탕으로 매분 매초 혁신과 성장을 거듭하고 있다. 그 가운데 인터넷, 스마트폰에 이어 2025년 글로벌 300조 시장이 예측되는 메타버스 시대가 열렸다.\\n다행히도 논리적 구조와 물리적 구현으로 이뤄진 디지털 시스템의 기본 아이디어는 무게가 30톤에 달하던 초기 컴퓨터부터 MS 홀로렌즈로 접속하는 메타버스까지 동일하다. 컴퓨팅의 4가지 핵심 분야인 하드웨어, 소프트웨어, 통신, 데이터를 이해하면 어떤 복잡한 디지털 시스템이라도 잘게 쪼개 비즈니스 구조와 흐름을 파악하는 디지털 문해력을 기를 수 있다. 살아 있는 현대 컴퓨팅의 역사이자 컴퓨터과학계에서 가장 뛰어난 작가이기도 한 브라이언 W. 커니핸 교수는 리처드 뮬러가 쓴《대통령을 위한 물리학》에 영감을 받아 이 책을 집필했다. 블록체인, NFT, 메타버스까지 미래 경제를 좌우할 지각변동이 디지털 세계에 일어나고 있는 지금 대통령은 물론이거니와 디지털 지구에 불시착한 아날로그 인간이라도 필요한 지식을 디코딩할 수 있는 IT 근육을 길러야 한다.\\n호기심 세포는 있는데, 실천 세포는 없다면, 이 책이 딱이다. ‘1일 1로그 100일 완성 IT 지식 챌린지’에, 각 꼭지를 언제 읽을 것인지, 퀘스트 날짜를 적어 보자. 계획한 날짜에 읽었다면 퀘스트 성공! 하루하루 성공 기록을 쌓다 보면 한번 배워 평생 써먹는 IT 근육을 갖게 될 것이다.\\n\\n\\nKT 네트워크 장애가 라우팅 오류 때문이라는데, 라우터가 뭘까?\\n복잡한 IT 세상을 선명하게 읽는 디지털 문해력 기르기 프로젝트\\n\\n최근 SNS에서 파일을 폴더에 저장하지 않고 검색으로 찾는 Z세대에 관한 글이 큰 관심을 끌었다. 폴더와 파일의 계층 구조에 익숙한 기성세대와 커다란 바구니 하나에 모든 파일을 다 넣고 필요할 때마다 검색해서 꺼내 쓰는 Z세대가 이로 인한 의사소통에 어려움을 겪고 있는 것이다. 교수가 학생들에게 파일을 어디에 저장해 두었는지 물었더니 학생들이 하나같이 “지금 무슨 말씀 하시는 거예요?”라며 어리둥절한 표정을 지었다고 한다. 이 책에서 설명하는 ‘컴퓨터의 논리와 구조(001)’, ‘파일 시스템과 블록(036)’을 보면 재밌게도 Z세대의 방식이 컴퓨터의 물리적 구조와 비슷함을 알 수 있다. 실제 데이터는 계층이 없는 블록에 저장되기 때문이다. 하드웨어와 소프트웨어를 다루는 1부와 2부에는 이외에도 컴퓨팅에는 왜 십진수 대신 이진수를 사용하는지, CPU 스펙인 ‘2.2GHz 듀얼 코어 인텔 Core i7’은 무슨 뜻인지, 프로세서가 프로그래밍 가능한 고속 계산기에 불과하다면 어떻게 우리는 컴퓨터나 스마트폰으로 쇼핑하고, 검색하고, 친구와 대화할 수 있는지 알려 주는 흥미진진한 내용이 가득하다.\\n얼마 전 KT 네트워크 장애로 1시간 넘게 전국적으로 인터넷이 되지 않았다. 음식점을 비롯해 여러 매장에서 인터넷 결제가 되지 않았고, 카톡은 물론 트래픽 증가로 음성전화 서비스망까지 작동하지 않았다. KT 부산국사에서 기업망 라우터 교체 작업 중 잘못된 명령어를 입력한 것이 원인이었다. 라우터가 무엇이고, 어떤 역할을 하기에, 한 개 라우터의 잘못된 경로 업데이트가 30초 이내에 전국으로 확대된 것일까? 이 책 3부에서는 전화부터 와이파이까지 네트워크의 기본 속성과 표준과 프로토콜의 세계인 인터넷을 알기 쉽게 설명한다. 특히 ‘인터넷이 가능한 매커니즘(064)’, ‘나만의 도메인이 갖고 싶다면?(065)’, ‘출발지에서 목적지까지, 인터넷 경로 확인하기(066)’를 읽으면 이번 네트워크 장애를 선명하게 이해할 수 있다.\\n2021년 전 세계 인터넷 트래픽은 3제타바이트에 이른다고 한다. 이 모든 데이터는 어떻게 오가고 이용되고 있을까? 인터넷에 흔적을 남기지 않고 거래할 수 있을까? 4부 데이터에서는 메타데이터에 관한 불편한 진실부터 암호 기법의 원리까지 프라이버시를 지키기 위해 알아야 하는 최소한의 지식을 살펴본다.\\n\\n저자는 1992년 10월 코넬 대학을 방문했을 때, 웹이 작동하는 것을 처음 보았는데 쑥스러운 일이지만 당시에는 그다지 인상적이라고 생각하지 않았다고 한다. 그로부터 6개월도 지나지 않아 등장한 브라우저가 세상을 바꿨다. 앞으로 1년, 5년, 10년 후 어떤 세상이 펼쳐지든 이 책으로 키운 IT 근육이 든든한 기초체력을 만들어 줄 것이다. 닫기\\n\\n', 'url': 'http://www.kyobobook.co.kr/product/detailViewKor.laf?ejkGb=KOR&mallGb=KOR&barcode=9788966263301&orderClick=LAG&Kc='}\n",
      "Crawling number = 4/60\n",
      "click btn cnt = 1\n",
      "{'icon': '', 'title': '비전공자를 위한 이해할 수 있는 IT 지식', 'author': '최원영 지음 | 티더블유아이지 | 2020년 07월 14일 출간', 'rating': '8.5', 'rank0': '국내도서 주간베스트 128위', 'rank1': '컴퓨터/IT 주간베스트 5위', 'book_keyword': '', 'content_0': '도서·상품정보 1:1 문의하기\\nISBN 9791196918033(1196918031)\\n쪽수 240쪽\\n크기 172 * 234 * 14 mm /535g 판형알림', 'content_1': '책소개', 'content_2': '이 책이 속한 분야\\n컴퓨터/IT > IT일반 > IT일반서', 'content_3': '이 책의 주제어\\n#IT기본문법 #프로그래밍언어 #운영체제 #네트워크 #API #JSON #데이터베이스 #이미지처리 #프레임워크 #라이브러리', 'content_4': '\\nIT 시대의 필수 교양서\\n우리는 매일 스마트폰으로 메시지를 보내고, 컴퓨터로 일을 합니다. 또 음식점에서 키오스크로 주문하고, 가상현실에서 게임을 즐깁니다. IT는 더 이상 전문가들만의 이야기가 아닙니다. 우리의 삶 곳곳을 IT가 점령하고 있고, 그 속도는 계속해서 빨라지고 있습니다. 이제 IT를 모르고선 세상을 이해하기 어려운 시대가 되었습니다.\\n\\n이 책은 비전공자를 위한 ‘IT 기초 문법서’로, 한 번쯤 들어봤을 프로그래밍 언어, 운영체제, 네트워크, API, JSON, 데이터베이스, 이미지 처리, 프레임워크, 라이브러리, 깃(Git), 디자인 이슈 등 다양한 지식을 담고 있습니다. 복잡하게 얽혀 있어 한 번에 이해하기 어려웠던 각각의 지식들을 친숙한 이야기로 쉽게 풀어냄으로써 IT 산업의 전체적인 큰 그림을 그릴 수 있도록 도와줍니다.\\n▶ 『비전공자를 위한 이해할 수 있는 IT 지식』 북트레일러\\n\\n* 출판사의 사정에 따라 서비스가 변경 또는 중지될 수 있습니다.\\n*window7의 경우 사운드 연결이 없을시, 동영상 재생에 오류가 발생할 수 있습니다. 이어폰, 스피커 등이 연결되어 있는지 확인 하시고 재생하시기 바랍니다.\\n', 'content_5': '상세이미지\\n\\n저자소개\\n저자 : 최원영\\n작가 정보 관심작가 등록\\n컴퓨터교재작가 프로그래머\\n안녕하세요. 기획자이자 개발자, 그리고 강사로 활동하며 깊(Gipp)이라는 교육 서비스 창업을 준비 중인 최원영입니다. 2012년 처음 기획을 시작했을 때, 저는 IT에 대해서는 아무것도 모... 더보기\\n', 'content_6': '목차\\n프롤로그 4\\n\\n1장 오리엔테이션\\n1-1. 왜 자꾸 파이썬(Python)을 배우라고 하는 거죠? (feat. C 언어, 자바(JAVA)를 배워봐) 14\\n1-2. 가장 먼저 알아야 할 지식은 ‘프로그래밍 언어’가 아닙니다 21\\n\\n2장 프로그래밍 언어 & 운영체제(OS)\\n2-1. 프로그래밍 언어가 ‘언어’라고?(못 알아듣겠는데…) 32\\n2-2. 개발자는 앉아서 뭐하는 거지(뭔가 치긴 치는데…) 37\\n2-3. 뭐가 이렇게 많아?(C 언어, 자바, 파이썬… 등) 41\\n2-4. 컴퓨터 구매해보셨나요?(컴퓨터의 구성 요소) 47\\n2-5. 우린 왜 이 이야기들이 낯설까? 51\\n2-6. 우리가 자바 최신 버전을 설치해야 하는 이유 55\\n\\n3장 네트워크, 클라이언트, 서버\\n3-1. 국민학교와 초등학교 시절 이야기 62\\n3-2. 한강에서 카카오톡을 다운로드하고, 실행하면 일어나는 일들 66\\n3-3. 당신은 계속 뭘 달라고 하고, 누군가는 계속 뭘 준다 70\\n3-4. 도대체 우분투가 뭐죠? 75\\n3-5. 개인 서버를 운영하면 힘든 이유 84\\n\\n4장 API와 JSON\\n4-1. POST는 뭐고, GET은 뭐죠?(feat. 개발자의 암호문) 90\\n4-2. 요청과 응답을 주고 받을 때의 형식 104\\n4-3. API 문서 살펴보기 112\\n\\n5장 애플리케이션\\n5-1. 설치한 뒤 실행하는 애플리케이션의 특징 120\\n\\n6장 웹(Web)\\n6-1. 웹은 어떻게 이루어져 있고, 어떻게 동작할까? 128\\n6-2. 웹 개발하다가 못해 먹겠다고 말하는 이유 143\\n6-3. 반응형으로 코딩하면, 더 비싸나요?(그게 뭔데요?) 148\\n6-4. 애플리케이션 이야기를 하는데, 왜 자꾸 웹 개발자에게 말하라는 거죠? 153\\n\\n7장 데이터베이스와 이미지 처리\\n7-1. 쇼핑몰을 생각해봅니다. 여기서 데이터는 대체 뭘까요? 162\\n7-2. 클라가 들고 있다는 게 뭐죠?(\"클라에 저장돼요. 클라가 가지고 있어요\") 169\\n7-3. 배너 좀 바꾸려는데, 자꾸 자기한테 말하면 안 된대요. (왜 자꾸 사람이 바뀌는 건데…) 175\\n\\n8장 프레임워크와 라이브러리\\n8-1. 코코아요? 그거 먹는거잖아요. 그리고 자꾸 왜 도서관 얘기를 하는거죠?(프레임워크, 라이브러리) 186\\n\\n9장 협업, 소스관리, 디자인\\n9-1. 커밋이요? 머지요? 뭐요? 198\\n9-2. \\'왜 말을 저렇게하지.. 둘이 싸웠나?\\'(feat. 디자이너와 개발자) 204\\n\\n10장 정리\\n10-1. 개발을 시작하면 일어나는 일들 214\\n10-2. 아웃트로 222\\n\\n부록- API 문서를 통해 서비스 분석하기 226', 'url': 'http://www.kyobobook.co.kr/product/detailViewKor.laf?ejkGb=KOR&mallGb=KOR&barcode=9791196918033&orderClick=LAG&Kc='}\n"
     ]
    }
   ],
   "source": [
    "for page in range(int(totalPages)):\n",
    "    currentPage = bookSelection.get_currentPage(driver)\n",
    "    print(\"CurrentPage = \"+str(currentPage))\n",
    "    \n",
    "    ## Crawling List    \n",
    "    searchList = bookSelection.get_searchList(driver)\n",
    "    ## 상세페이지 Crawling\n",
    "    detailInfo = bookSelection.crawling_detailPage(driver, searchList)\n",
    "    \n",
    "    if currentPage != totalPages:\n",
    "        driver.find_element(By.XPATH, \"/html/body/div[2]/div[1]/div[2]/div[3]/div[9]/div[1]/a[3]\").click()\n",
    "    else:\n",
    "        print(\"Complete crawling of all pages!!\")\n",
    "        break\n",
    "    time.sleep( random.uniform(1,3) )"
   ]
  },
  {
   "cell_type": "code",
   "execution_count": null,
   "id": "bd18b17b",
   "metadata": {},
   "outputs": [],
   "source": []
  }
 ],
 "metadata": {
  "kernelspec": {
   "display_name": "py3.9_bookSelection",
   "language": "python",
   "name": "py3.9_bookselection"
  },
  "language_info": {
   "codemirror_mode": {
    "name": "ipython",
    "version": 3
   },
   "file_extension": ".py",
   "mimetype": "text/x-python",
   "name": "python",
   "nbconvert_exporter": "python",
   "pygments_lexer": "ipython3",
   "version": "3.9.10"
  }
 },
 "nbformat": 4,
 "nbformat_minor": 5
}
