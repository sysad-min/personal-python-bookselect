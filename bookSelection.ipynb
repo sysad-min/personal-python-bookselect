{
 "cells": [
  {
   "cell_type": "code",
   "execution_count": 1,
   "id": "f55fff76",
   "metadata": {},
   "outputs": [],
   "source": [
    "from selenium import webdriver\n",
    "from selenium.webdriver.common.by import By\n",
    "from selenium.webdriver.chrome.service import Service\n",
    "from selenium.webdriver.chrome.options import Options\n",
    "from selenium.webdriver.support import expected_conditions as EC\n",
    "from selenium.webdriver.support.ui import WebDriverWait\n",
    "from webdriver_manager.chrome import ChromeDriverManager\n",
    "import time"
   ]
  },
  {
   "cell_type": "code",
   "execution_count": 2,
   "id": "3d4e3702",
   "metadata": {},
   "outputs": [],
   "source": [
    "class BookSelection:\n",
    "    if __name__ == \"__main__\":\n",
    "        def __init__(self, url, search_keywords):\n",
    "            self.url = url\n",
    "            self.search_keywords = search_keywords\n",
    "\n",
    "        def set_drivers(self):\n",
    "            try:\n",
    "                service = Service(executable_path=ChromeDriverManager().install())\n",
    "                options = Options()\n",
    "                # 참고 = https://codingstep.tistory.com/entry/%ED%8C%8C%EC%9D%B4%EC%8D%AC-%EC%85%80%EB%A0%88%EB%8B%88%EC%9B%80-%ED%81%AC%EB%A1%AC-%EC%98%B5%EC%85%98-python-selenium-chrome-optionsFeat-headless-window-size-user-agent-etc\n",
    "                #지정한 user-agent로 설정합니다.\n",
    "#                 user_agent = \"Mozilla/5.0 (Linux; Android 9; SM-G975F) AppleWebKit/537.36 (KHTML, like Gecko) Chrome/71.0.3578.83 Mobile Safari/537.36\"\n",
    "#                 options.add_argument('user-agent=' + user_agent)\n",
    "                options.add_argument('headless') #headless모드 브라우저가 뜨지 않고 실행됩니다.\n",
    "#                 options.add_argument('--blink-settings=imagesEnabled=false') #브라우저에서 이미지 로딩을 하지 않습니다.\n",
    "#                 options.add_argument('--mute-audio') #브라우저에 음소거 옵션을 적용합니다.\n",
    "#                 options.add_argument('--window-size= x, y') #실행되는 브라우저 크기를 지정할 수 있습니다.\n",
    "#                 options.add_argument('--start-maximized') #브라우저가 최대화된 상태로 실행됩니다.\n",
    "#                 options.add_argument('--start-fullscreen') #브라우저가 풀스크린 모드(F11)로 실행됩니다.\n",
    "#                 options.add_argument('incognito') #시크릿 모드의 브라우저가 실행됩니다.\n",
    "                driver = webdriver.Chrome(service=service, options=options)  ##버전에 상관없이 현재 OS에 설치된 크롬브라우저 사용\n",
    "                return driver\n",
    "            except Exception as e:\n",
    "                print(e)\n",
    "        \n",
    "        def get_url(self, driver):\n",
    "            try:\n",
    "                driver.get(self.url)\n",
    "                driver.implicitly_wait(time_to_wait=10)\n",
    "            except Exception as e:\n",
    "                print(e)\n",
    "                driver.quit()\n",
    "                \n",
    "        def get_searchKeywords(self, driver):\n",
    "            try:\n",
    "                search_input = driver.find_element(By.XPATH, \"/html/body/div[4]/div[1]/div[1]/div[1]/form[2]/div/div/input\")\n",
    "                search_input.send_keys(self.search_keywords)\n",
    "                driver.find_element(By.XPATH, \"/html/body/div[4]/div[1]/div[1]/div[1]/form[2]/div/input\").click()\n",
    "                driver.implicitly_wait(time_to_wait=10)\n",
    "            except Exception as e:\n",
    "                print(e)\n",
    "                driver.quit()\n",
    "        \n",
    "        def get_currentPage(self, driver):\n",
    "            try:\n",
    "                currentPage = driver.find_element(By.XPATH, \"/html/body/div[2]/div[1]/div[2]/div[3]/div[9]/div[1]/ul/li/strong\").text\n",
    "                return currentPage\n",
    "            except Exception as e:\n",
    "                print(e)\n",
    "                driver.quit()\n",
    "                \n",
    "        def get_totalPage(self, driver):\n",
    "            try:\n",
    "                totPageCnt = driver.find_element(By.XPATH, \"/html/body/div[2]/div[1]/div[2]/div[3]/div[9]/div[1]/span/span\").text\n",
    "                return totPageCnt\n",
    "            except Exception as e:\n",
    "                print(e)\n",
    "                driver.quit()\n",
    "        \n",
    "        def get_searchList(self, driver):\n",
    "            try:\n",
    "                searchList = driver.find_element(By.ID, \"search_list\")\n",
    "#                 searchList = driver.find_element(By.ID, \"search_gallery\")\n",
    "                return searchList\n",
    "            except Exception as e:\n",
    "                print(e)\n",
    "                driver.quit()\n",
    "                \n",
    "        def click_moreButton(self, driver):\n",
    "            try:\n",
    "                moreBtns = driver.find_elements(By.XPATH, \"/html/body/div[2]/div[1]/div[2]/div[5]/div[1]/div[3]//a[@class='btn_small btn_more' and text()='더보기']\")\n",
    "                if len(moreBtns) > 0 :\n",
    "                    print(\"click btn cnt = \"+str(len(moreBtns)))\n",
    "                    for moreBtn in moreBtns:\n",
    "                        moreBtn.click()\n",
    "                        time.sleep(2)\n",
    "            except Exception as e:\n",
    "                print(e)\n",
    "\n",
    "        def crawling_detailPage(self, driver, searchList):\n",
    "            try:\n",
    "                # searchListLength = len(searchList.find_elements(By.XPATH, \"/html/body/div[2]/div[1]/div[2]/div[3]/div[8]/form[1]/table/tbody/tr/td[2]/div[2]/a\")) ## 펼쳐보기에서 title Link가져오기\n",
    "                searchListLength = len(searchList.find_elements(By.XPATH, \"/html/body/div[2]/div[1]/div[2]/div[3]/div[8]/form[2]/table/tbody/tr/td/div/div[4]/a\")) ## 간략보기에서 title Link가져오기\n",
    "                list_count = 0\n",
    "\n",
    "                # while (list_count < result_length): change loop -> while loop to for loop\n",
    "                for list_count in range(searchListLength): \n",
    "                    print(\"Crawling number = \"+str(list_count+1)+\"/\"+str(searchListLength))\n",
    "                #     titleLinks = driver.find_elements(By.XPATH, \"/html/body/div[2]/div[1]/div[2]/div[3]/div[8]/form[1]/table/tbody/tr/td[2]/div[2]/a\") ## 펼쳐보기\n",
    "                    titleLinks = driver.find_elements(By.XPATH, \"/html/body/div[2]/div[1]/div[2]/div[3]/div[8]/form[2]/table/tbody/tr/td/div/div[4]/a\") ## 간략보기\n",
    "                    titleLinks[list_count].click()\n",
    "                    time.sleep(5)\n",
    "\n",
    "                    detailInfo = dict()\n",
    "                    \n",
    "                    # class=\"box_detail_point\"\n",
    "                    detailPoints = driver.find_elements(By.XPATH, \"/html/body/div[2]/div[1]/div[2]/div[2]/form/div[1]/*\")\n",
    "                    for detail in detailPoints:\n",
    "                        detailInfo[detail.get_attribute(\"class\")] = detail.text\n",
    "\n",
    "                    # class=\"book_keyword\"\n",
    "                    keywords = []\n",
    "                    if len(driver.find_elements(By.CLASS_NAME, \"book_keyword\")) > 0:\n",
    "                        for keyword in driver.find_elements(By.XPATH, \"/html/body/div[2]/div[1]/div[2]/div[2]/form/div[2]/div[4]/div[2]/*\"):\n",
    "                            keywords.append(keyword.text)\n",
    "                        detailInfo['book_keyword'] = \", \".join(keywords)\n",
    "\n",
    "                    # more button click\n",
    "                    self.click_moreButton(driver)\n",
    "                    \n",
    "                    # \"content\"\n",
    "                    detailcontentList = []\n",
    "                    contents = driver.find_elements(By.XPATH, \"/html/body/div[2]/div[1]/div[2]/div[5]/div[1]/div[3]/*\")\n",
    "                    for content in contents:\n",
    "                        detailcontentList.append(content.text)\n",
    "                    detailInfo['content'] = \"\\n\".join(detailcontentList)\n",
    "                    # \"URL\"\n",
    "                    detailInfo['url'] = driver.current_url\n",
    "                    print(detailInfo)\n",
    "                    driver.back()\n",
    "                #     list_count+=1\n",
    "                    time.sleep(2)\n",
    "            \n",
    "                return detailInfo\n",
    "            except Exception as e:\n",
    "                print(e)\n",
    "\n",
    "    else:\n",
    "        exit()"
   ]
  },
  {
   "cell_type": "code",
   "execution_count": 3,
   "id": "4e189b14",
   "metadata": {
    "scrolled": true
   },
   "outputs": [
    {
     "name": "stderr",
     "output_type": "stream",
     "text": [
      "\n",
      "\n",
      "====== WebDriver manager ======\n",
      "Current google-chrome version is 97.0.4692\n",
      "Get LATEST chromedriver version for 97.0.4692 google-chrome\n",
      "Driver [/Users/administrator/.wdm/drivers/chromedriver/mac64/97.0.4692.71/chromedriver] found in cache\n"
     ]
    }
   ],
   "source": [
    "bookSelection = BookSelection(\"http://www.kyobobook.co.kr/\", \"python\")\n",
    "driver = bookSelection.set_drivers()\n",
    "bookSelection.get_url(driver)\n",
    "bookSelection.get_searchKeywords(driver)"
   ]
  },
  {
   "cell_type": "code",
   "execution_count": 4,
   "id": "74f96a09",
   "metadata": {
    "scrolled": true
   },
   "outputs": [],
   "source": [
    "searchTabList = driver.find_element(By.XPATH, \"/html/body/div[2]/div[1]/div[2]/div[3]/div[1]/ul\").text.split('\\n')\n",
    "subTabList = driver.find_element(By.XPATH, \"/html/body/div[2]/div[1]/div[2]/div[3]/div[2]/ul\").text.split('\\n')\n",
    "categoryList = driver.find_element(By.XPATH, \"/html/body/div[2]/div[1]/div[2]/div[3]/div[3]/table/tbody/tr[1]/td/ul\").text.split('\\n')"
   ]
  },
  {
   "cell_type": "code",
   "execution_count": 5,
   "id": "71159bb1",
   "metadata": {},
   "outputs": [
    {
     "name": "stdout",
     "output_type": "stream",
     "text": [
      "['상품(5,299)', '중고장터(532)', '스토리K(25)', '리뷰(1,262)', '책소개.목차(3,400)']\n",
      "['전체 5,299', '국내도서 1,157', '외국도서 3,605', 'eBook 500', 'sam 90', '음반/영상 37', '기프트 0']\n",
      "['컴퓨터/IT 1,111', '어린이(초등) 11', '경제/경영 11', '과학 7', '청소년 3', '정치/사회 3', '취업/수험서 2', '자기계발 2']\n"
     ]
    }
   ],
   "source": [
    "print(searchTabList)\n",
    "print(subTabList)\n",
    "print(categoryList)"
   ]
  },
  {
   "cell_type": "code",
   "execution_count": 6,
   "id": "a7c9807e",
   "metadata": {},
   "outputs": [
    {
     "name": "stdout",
     "output_type": "stream",
     "text": [
      "totPageCnt = 89\n"
     ]
    }
   ],
   "source": [
    "## 리스트 보기 개수 조절\n",
    "driver.find_element(By.XPATH, \"/html/body/div[2]/div[1]/div[2]/div[3]/div[6]/div[2]/span[2]\").click()\n",
    "time.sleep(1)\n",
    "\n",
    "driver.find_element(By.XPATH, \"/html/body/div[2]/div[1]/div[2]/div[3]/div[6]/div[2]/span[2]/ul/li[3]\").click()\n",
    "time.sleep(2)\n",
    "\n",
    "## 리스트 간략히 보기\n",
    "driver.find_element(By.XPATH, \"/html/body/div[2]/div[1]/div[2]/div[3]/div[6]/div[2]/span[3]\").click()\n",
    "time.sleep(1)\n",
    "\n",
    "driver.find_element(By.XPATH, \"/html/body/div[2]/div[1]/div[2]/div[3]/div[6]/div[2]/span[3]/ul/li[2]/a\").click()\n",
    "time.sleep(2)\n",
    "\n",
    "totalPages = bookSelection.get_totalPage(driver)\n",
    "print(\"totPageCnt = \"+str(totalPages))"
   ]
  },
  {
   "cell_type": "markdown",
   "id": "84ac25af",
   "metadata": {},
   "source": [
    "## 페이지 처리, 상세페이지 크롤링"
   ]
  },
  {
   "cell_type": "code",
   "execution_count": 7,
   "id": "808ea0ca",
   "metadata": {},
   "outputs": [
    {
     "name": "stdout",
     "output_type": "stream",
     "text": [
      "CurrentPage = 1\n",
      "Crawling number = 1/60\n",
      "click btn cnt = 1\n",
      "{'icon': '', 'title': '혼자 공부하는 파이썬 파이썬 최신 버전 반영', 'author': '윤인성 지음 | 한빛미디어 | 2019년 06월 10일 출간', 'review': 'Klover\\n총 4 중\\n4 9.6 (리뷰 218개)\\n클로버 리뷰쓰기', 'rank': '국내도서 주간베스트 293위 | 컴퓨터/IT 주간베스트 9위 교보문고 베스트셀러', 'book_keyword': '', 'content': '도서·상품정보 1:1 문의하기\\nISBN 9791162241882(1162241888)\\n쪽수 460쪽\\n크기 188 * 258 * 28 mm /1001g 판형알림\\n책소개\\n이 책이 속한 분야\\n컴퓨터/IT > 프로그래밍 언어 > Python(파이썬)\\n컴퓨터/IT > 대학교재\\n대학교재 > 컴퓨터\\n이 책의 주제어\\n#프로그래밍 #자습서 #입문자 #손코딩 #전공자\\n\\n혼자 해도 충분하다! 1:1 과외하듯 배우는 파이썬 프로그래밍 자습서(파이썬 최신 버전 반영)\\n27명의 베타리더 검증으로, ‘함께 만든’ 입문자 맞춤형 도서\\n이 책은 독학으로 프로그래밍 언어를 처음 배우려는 입문자가, 혹은 파이썬을 배우려는 입문자가 ‘꼭 필요한 내용을 제대로’ 학습할 수 있도록 구성했다. ‘무엇을’, ‘어떻게’ 학습해야 할지조차 모르는 입문자의 막연한 마음을 살펴, 과외 선생님이 알려주듯 친절하게, 그러나 핵심적인 내용만 콕콕 집어준다. 책의 첫 페이지를 펼쳐서 마지막 페이지를 덮을 때까지, 혼자서도 충분히 파이썬을 배울 수 있다는 자신감과 확신이 계속될 것이다!\\n\\n27명의 베타리더와 함께 구성하여 입문자에게 맞는 난이도, 분량, 학습 요소 등을 적극 반영했다. 어려운 용어와 개념은 한번 더 풀어 쓰고, 복잡한 설명은 눈에 잘 들어오는 그림으로 풀어 냈다. ‘혼자 공부해본’ 여러 입문자의 초심과 눈높이가 책 곳곳에 반영된 것이 이 책의 가장 큰 장점이다.\\n상세이미지\\n\\n저자소개\\n저자 : 윤인성\\n작가 정보 관심작가 등록\\n프로그래머 번역가/통역사＞일본어\\n어쩌다가 책을 집필/번역하기 시작해서 지금까지 계속해서 집필/번역하고 있다. 현재 직업 특성상 집에서 나갈 이유가 없다는 것에 매우 만족하고 있다. 커피와 홍차를 즐겨 마신다. 요리, 피아노... 더보기\\n\\n윤인성의 다른 작품\\n이펙티브 코틀린(프로그래밍인사이트)\\n25,200원\\n자바스크립트 프로그래밍 입문(2판)(IT CookBook)\\n27,000원\\n파이썬 매일 코딩\\n19,800원\\n프로그래밍 대회 공략을 위한 알고리즘과 자료 구조 입문\\n28,800원\\n\\n목차\\nChapter 01 파이썬 시작하기\\n01-1 파이썬을 하기 전에 읽는 아주 간단한 설명\\n컴퓨터 프로그램\\n프로그래밍 언어\\n프로그래밍 언어, 파이썬\\n파이썬이 인기 있는 이유\\n3가지 키워드로 정리하는 핵심 포인트\\n확인문제\\n01-2 파이썬을 배우기 위해 준비해야 할 것들\\n파이썬 설치하기\\n파이썬 실행하기: 파이썬 인터렉티브 셸\\n텍스트 에디터 사용하기(1): 파이썬 IDLE 에디터\\n텍스트 에디터 사용하기(2): 비주얼 스튜디오 코드\\n4가지 키워드로 정리하는 핵심 포인트\\n확인문제\\n01-3 이 책에서 자주 나오는 파이썬 용어들\\n표현식과 문장\\n키워드\\n식별자\\n주석\\n연산자와 자료\\n출력: print()\\n5가지 키워드로 정리하는 핵심 포인트\\n확인문제\\n\\nChapter 02 자료형\\n02-1 자료형과 문자열\\n자료형과 기본 자료형\\n문자열 만들기 08\\n문자열 연산자\\n문자열의 길이 구하기\\n5가지 키워드로 정리하는 핵심 포인트\\n확인문제\\n02-2 숫자\\n숫자의 종류\\n숫자 연산자\\n연산자 우선순위\\n[좀 더 알아보기] 문자열 연산자의 우선순위\\n4가지 키워드로 정리하는 핵심 포인트\\n확인문제\\n02-3 변수와 입력\\n변수 만들기/사용하기\\n복합 대입 연산자\\n사용자 입력: input()\\n문자열을 숫자로 바꾸기\\n숫자를 문자열로 바꾸기\\n7가지 키워드로 정리하는 핵심 포인트\\n확인문제\\n02-4 숫자와 문자열의 다양한 기능\\n문자열의 format() 함수\\nformat() 함수의 다양한 기능\\n대소문자 바꾸기: upper()와 lower()\\n문자열 양옆의 공백 제거하기: strip()\\n문자열의 구성 파악하기: isOO()\\n문자열 찾기: find()와 rfind()\\n문자열과 in 연산자\\n문자열 자르기: split()\\n7가지 키워드로 정리하는 핵심 포인트\\n확인문제\\n\\nChapter 03 조건문\\n03-1 불 자료형과 if 조건문\\n불 만들기: 비교 연산자\\n불 연산하기: 논리 연산자\\n논리 연산자의 활용\\nif 조건문이란?\\n날짜/시간 활용하기\\n컴퓨터의 조건\\n4가지 키워드로 정리하는 핵심 포인트\\n확인문제\\n03-2 if~else와 elif 구문\\nelse 조건문의 활용\\nelif 구문\\nif 조건문을 효율적으로 사용하기\\nFalse로 변환되는 값\\npass 키워드\\n[좀 더 알아보기] raise NotImplementError\\n4가지 키워드로 정리하는 핵심 포인트\\n확인문제\\n\\nChapter 04 반복문\\n04-1 리스트와 반복문\\n리스트 선언하고 요소에 접근하기\\n리스트 연산자: 연결(+), 반복(*), len()\\n리스트에 요소 추가하기: append, insert\\n리스트에 요소 제거하기\\n리스트 내부에 있는지 확인하기: in/not in 연산자\\nfor 반복문\\nfor 반복문: 리스트와 함께 사용하기\\n4가지 키워드로 정리하는 핵심 포인트\\n확인문제\\n04-2 딕셔너리와 반복문\\n딕셔너리 선언하기\\n딕셔너리의 요소에 접근하기\\n딕셔너리에 값 추가하기/제거하기\\n딕셔너리 내부에 키가 있는지 확인하기\\nfor 반복문: 딕셔너리와 함께 사용하기\\n3가지 키워드로 정리하는 핵심 포인트\\n확인문제\\n04-3 반복문과 while 반복문\\n범위\\nfor 반복문: 범위와 함께 사용하기\\nfor 반복문: 리스트와 범위 조합하기\\nfor 반복문: 반대로 반복하기\\nwhile 반복문\\nwhile 반복문: for 반복문처럼 사용하기\\nwhile 반복문: 상태를 기반으로 반복하기\\nwhile 반복문: 시간을 기반으로 반복하기\\nwhile 반복문: break 키워드/continue 키워드\\n4가지 키워드로 정리하는 핵심 포인트\\n확인문제\\n04-4 문자열, 리스트, 딕셔너리와 관련된 기본 함수\\n리스트에 적용할 수 있는 기본 함수: min(), max(), sum()\\nreversed() 함수로 리스트 뒤집기\\nenumerate() 함수와 반복문 조합하기\\n딕셔너리의 items() 함수와 반복문 조합하기\\n리스트 내포\\n[좀 더 알아보기] 구문 내부에 여러 줄 문자열을 사용했을 때의 문제점\\n[좀 더 알아보기] 이터레이터\\n3가지 키워드로 정리하는 핵심 포인트\\n확인문제\\n\\nChapter 05 함수\\n05-1 함수 만들기\\n함수의 기본\\n함수에 매개변수 만들기\\n가변 매개변수\\n기본 매개변수\\n키워드 매개변수\\n리턴\\n기본적인 함수의 활용\\n5가지 키워드로 정리하는 핵심 포인트\\n확인문제\\n05-2 함수의 활용\\n재귀 함수\\n재귀 함수의 문제\\n조기 리턴\\n[좀 더 알아보기] 코드에 이름 붙이기\\n[좀 더 알아보기] 코드 유지보수\\n3가지 키워드로 정리하는 핵심 포인트\\n확인문제\\n05-3 함수 고급\\n튜플\\n람다\\n파일 처리\\n[좀 더 알아보기] 혼자 공부하는 파이썬 프로그래밍\\n[좀 더 알아보기] 제너레이터\\n3가지 키워드로 정리하는 핵심 포인트\\n확인문제\\n\\nChapter 06 예외 처리\\n06-1 구문 오류와 예외\\n오류의 종류\\n기본 예외 처리\\ntry except 구문\\ntry except else 구문\\nfinally 구문\\n4가지 키워드로 정리하는 핵심 포인트\\n확인문제\\n06-2 예외 고급\\n예외 객체\\n예외 구분하기\\n모든 예외 잡기\\nraise 구문\\n[좀 더 알아보기] 코드 살펴보기\\n3가지 키워드로 정리하는 핵심 포인트\\n확인문제\\n\\nChapter 07 모듈\\n07-1 표준 모듈\\n모듈 사용의 기본: math 모듈\\nrandom 모듈\\nsys 모듈\\nos 모듈\\ndatetime 모듈\\ntime 모듈\\nurllib 모듈\\n4가지 키워드로 정리하는 핵심 포인트\\n확인문제\\n07-2 외부 모듈\\n모듈 설치하기\\n모듈 찾아보기\\nBeautifulSoup 모듈\\nFlask 모듈\\n라이브러리와 프레임워크\\n[좀 더 알아보기] 함수 데코레이터\\n5가지 키워드로 정리하는 핵심 포인트\\n확인문제\\n07-3 모듈 만들기\\n모듈 만들기\\n패키지\\n[좀 더 알아보기] 텍스트 데이터\\n[좀 더 알아보기] 바이너리 데이터\\n3가지 키워드로 정리하는 핵심 포인트\\n모듈을 분석하는 방법\\n\\nChapter 08 클래스\\n08-1 클래스의 기본\\n객체\\n클래스 선언하기\\n생성자\\n메소드\\n7가지 키워드로 정리하는 핵심 포인트\\n확인문제\\n08-2 클래스의 추가적인 구문\\n어떤 클래스의 인스턴스인지 확인하기\\n특수한 이름의 메소드\\n클래스 변수와 메소드\\n[좀 더 알아보기] 가비지 컬렉터\\n[좀 더 알아보기] 프라이빗 변수와 게터/세터\\n[좀 더 알아보기] 상속\\n4가지 키워드로 정리하는 핵심 포인트\\n확인문제\\n\\n정답\\n찾아보기\\n출판사 서평\\n[어떤 독자를 위한 책인가?]\\n\\nㆍ 파이썬 언어가 처음인 전공자\\nㆍ 파이썬 공부를 시도했지만 여전히 아쉬움이 있는 전공자\\nㆍ 개발자로 취업 혹은 이직을 준비하고 있는 일반인\\nㆍ 프로그래밍에 관심이 생긴 일반인\\nㆍ 전 분야에서 일어나는 학문/업무의 융합으로 인해 소프트웨어적 사고와 프로그래밍 이해도가 필요한 일반인\\n\\n[이 책의 특징]\\n\\n하나, 탄탄한 학습 설계 : ‘입문자 맞춤형 7단계 구성’을 따라가며 체계적으로 반복 학습한다\\n이 책은 파이썬의 핵심 내용을 7단계에 걸쳐 반복 학습하면서 자연스럽게 머릿속에 기억되도록 구성했다. 모든 절에서 [핵심 키워드]와 [시작하기 전에]를 통해 각 절의 주제에 대한 대표 개념을 워밍업한 후, 본격적인 파이썬의 핵심 이론과 실습을 거쳐 마무리에서는 [핵심 포인트]와 [확인문제]로 한번에 복습한다. ‘혼자 공부할 수 있는’ 커리큘럼을 그대로 믿고 끝까지 따라가다 보면 프로그래밍 공부가 난생 처음인 파이썬 입문자도 무리 없이 책을 끝까지 마칠 수 있다!\\n\\n둘, 핵심 문법은 ‘눈코딩’으로 가볍게 익히고, 실전 감각은 154개 직접 해보는 ‘손코딩’으로 제대로 익힌다\\n핵심 문법과 이론적 설명은 두 눈과 머리로 술술 읽으며 넘어가고, 파이썬 코딩의 실전 감각은 직접 해보며 익히도록 154개의 엄선된 실습 예제를 담았다. 반복 학습과 연습이 가장 필수적인 입문자들도 직접 입력하고 실행하면서 책에 담긴 코드를 ‘나의 코드’로 만들 수 있다.\\n\\n셋, ‘혼공’의 힘을 실어줄 동영상 강의, 학습 사이트 지원\\nhttp://hongong.hanbit.co.kr\\n책으로만 학습하기엔 여전히 어려운 입문자를 위해 저자 직강 동영상도 지원한다. 또 학습을 하며 궁금한 사항은 언제든 질문할 수 있도록 학습 사이트를 제공한다. 저자가 질문 하나하나 직접 답변을 달아주고 있으며, 파이썬 관련 최신 기술과 정보도 공유한다. 게다가 혼자 공부하는 그 길에 함께 공부하기를 원하는 사람들의 모임인 혼공 학습단을 운영하여 마지막까지 포기하지 않고 독자가 완주할 수 있도록 최대한 지원하고 있다.\\n\\n넷, 언제 어디서든 가볍게 볼 수 있는 혼공 필수 [용어 노트] 제공\\n꼭 기억해야 할 핵심 개념과 용어만 따로 정리한 [용어 노트]를 제공한다. 처음 하는 사람들에게 프로그래밍 공부가 어려운 이유는 낯선 용어 때문이라는 것을 베타 리더를 통해 확인했고, 어려운 것이 아니라 익숙하지 않아서 헷갈리는 것이므로 잘 생각나지 않을 때는 언제든 부담 없이 펼쳐보자. 제시된 용어 외에도 새로운 용어를 추가하면서 자신만의 용어 노트를 완성해가는 것도 또 다른 재미가 될 것이다.\\n\\n[추천사]\\n\\nㆍ 학습자가 초기에 지치지 않고 끝까지 학습을 이어갈 수 있는 단계별 난이도 구성이 좋았습니다. _ 김민철 님\\nㆍ 파이썬을 처음 접하는 초보자인데, 책과 강의를 함께 이용하니 큰 효과를 얻을 수 있었습니다. _ 신세범 님\\nㆍ 각 절의 도입 부분에 〈핵심 키워드〉와 〈준비하기 전에〉로 주요 내용을 정리해 둔 부분이 좋았습니다. _ 김선수 님\\nㆍ 누구나 막힘 없이 술술 읽어 내려갈 수 있을 정도로 친절한 책입니다. 집필하신 분의 역량이 느껴지는 부분이었죠. _ 김진영 님\\nㆍ 막상 문제를 풀려고 하면 기억이 잘 안 나는데 핵심 포인트를 정리해 주니 문법도 저절로 기억되고 문제도 술술 풀려서 좋았습니다. _ 정재인 님\\nㆍ 소스 코드에 대해 상세히 설명해 주니 다른 레퍼런스가 필요 없었습니다. _ 허민 님 닫기\\n', 'url': 'http://www.kyobobook.co.kr/product/detailViewKor.laf?ejkGb=KOR&mallGb=KOR&barcode=9791162241882&orderClick=LAG&Kc='}\n",
      "Crawling number = 2/60\n",
      "click btn cnt = 1\n",
      "{'icon': '', 'title': 'Do it! 점프 투 파이썬 이미 200만명이 이 책으로 프로그래밍을 시작했다! | 중학생도, 문과생도 쉽게 배운다!', 'author': '박응용 지음 | 이지스퍼블리싱 | 2019년 06월 20일 출간', 'review': 'Klover\\n총 4 중\\n4 9.3 (리뷰 105개)\\n클로버 리뷰쓰기', 'rank': '컴퓨터/IT 주간베스트 13위 서울대 도서관 대출순위 100', 'book_keyword': '', 'content': '도서·상품정보 1:1 문의하기\\nISBN 9791163030911(1163030910)\\n쪽수 360쪽\\n크기 188 * 256 * 19 mm /770g 판형알림\\n책소개\\n이 책이 속한 분야\\n컴퓨터/IT > 프로그래밍 언어 > Python(파이썬)\\n컴퓨터/IT > 대학교재\\n대학교재 > 컴퓨터\\n이 책의 주제어\\n#Python #프로그래밍입문 #파이썬3.7\\n\\n파이썬 4년 연속 베스트셀러 1위!\\n《Do it! 점프 투 파이썬》 전면 개정판 출시!\\n문과생도 중고등학생도 직장인도 프로그래밍에 눈뜨게 만든 바로 그 책이 전면 개정판으로 새로 태어났다! 2016년 《Do it! 점프 투 파이썬》으로 출간되었던 이 책은 약 4년 동안의 피드백을 반영하여 초보자가 더 빠르게 입문하고, 더 깊이 있게 공부할 수 있도록 개정되었다. 특히 ‘나 혼자 코딩’과 ‘코딩 면허 시험 20제’ 등 독자의 학습 흐름에 맞게 문제를 보강한 점이 눈에 띈다. 실습량도 두 배로 늘었다.\\n\\n4년 동안 압도적 1위! 위키독스 누적 방문 200만! 수많은 대학 및 학원의 교재 채택 등! 검증은 이미 끝났다. 코딩을 처음 배우는 중고등학생부터 나만의 경쟁력이 필요한 문과생, 데이터 분석과 인공지능/머신러닝으로 커리어를 뻗어 나가고 싶은 직장인까지! 프로그래밍의 세계에 풍덩 빠져 보자.\\n▶파이썬 무료 기초 강의 - 1강 파이썬이란 무엇인가?\\n\\n*출판사의 사정에 따라 서비스가 변경 또는 중지될 수 있습니다.\\n*window7의 경우 사운드 연결이 없을시, 동영상 재생에 오류가 발생할 수 있습니다. 이어폰, 스피커 등이 연결되어 있는지 확인 하시고 재생하시기 바랍니다.\\n\\n이 책의 총서 총서 자세히 보기\\n깡샘의 안드로이드 앱 프로그래밍 with 코틀린\\nDo it! BERT와 GPT로 배우는 자연어 처리\\nDo it! 자바스크립트 입문\\nDo it! 첫 통계 with 베이즈\\nDo it! 딥러닝 교과서\\nDo it! 플러터 앱 프로그래밍\\nDo it! 인터랙티브 웹 페이지 만들기\\nDo it! 자바 완전 정복\\nDo it! 깡샘의 안드로이드 앱 프로그래밍 with 코틀린\\nDo it! 클론 코딩 트위터\\nDo it! 안드로이드 앱 프로그래밍\\nDo it! 강화 학습 입문\\n전체선택 장바구니 담기\\n상세이미지\\n\\n저자소개\\n저자 : 박응용\\n작가 정보 관심작가 등록\\n프로그래밍언어교재작가\\n국내 저자로는 최초로 2001년, 파이썬 안내서인 《점프 투 파이썬》을 출간하였다. 이후 직접 제작한 온라인 서비스 위키독스에서 온라인 독자와 소통하며 10년 동안 책을 다듬었고, 이 내용을... 더보기\\n\\n\\n박응용의 다른 작품\\nDo it! 점프 투 장고\\n17,820원\\nDo it! 점프 투 플라스크\\n17,820원\\n\\n목차\\n첫째마당 파이썬 기본 문법 익히기\\n\\n01장 파이썬이란 무엇인가?\\n__01-1 파이썬이란?\\n__01-2 파이썬의 특징\\n____파이썬은 인간다운 언어이다\\n____파이썬은 문법이 쉬워 빠르게 배울 수 있다\\n____파이썬은 무료이지만 강력하다\\n____파이썬은 간결하다\\n____파이썬은 프로그래밍을 즐기게 해 준다\\n____파이썬은 개발 속도가 빠르다\\n__01-3 파이썬으로 무엇을 할 수 있을까?\\n____파이썬으로 할 수 있는 일\\n____파이썬으로 할 수 없는 일\\n__01-4 파이썬 설치하기\\n____윈도우에서 파이썬 설치하기\\n__01-5 파이썬 둘러보기\\n____파이썬 기초 실습 준비하기\\n____파이썬 기초 문법 따라 해 보기\\n__01-6 파이썬과 에디터\\n____IDLE로 파이썬 프로그램 작성하기\\n____명령 프롬프트 창에서 파이썬 프로그램 실행하기\\n____추천 에디터\\n\\n02장 파이썬 프로그래밍의 기초, 자료형\\n__02-1 숫자형\\n____숫자형은 어떻게 만들고 사용할까?\\n____숫자형을 활용하기 위한 연산자\\n__02-2 문자열 자료형\\n____문자열은 어떻게 만들고 사용할까?\\n____문자열 연산하기\\n____문자열 인덱싱과 슬라이싱\\n____문자열 포매팅\\n____문자열 관련 함수\\n__02-3 리스트 자료형\\n____리스트는 어떻게 만들고 사용할까?\\n____리스트의 인덱싱과 슬라이싱\\n____리스트 연산하기\\n____리스트의 수정과 삭제\\n____리스트 관련 함수\\n__02-4 튜플 자료형\\n____튜플 다루기\\n__02-5 딕셔너리 자료형\\n____딕셔너리란?\\n____딕셔너리는 어떻게 만들까?\\n____딕셔너리 쌍 추가, 삭제하기\\n____딕셔너리를 사용하는 방법\\n____딕셔너리 관련 함수\\n__02-6 집합 자료형\\n____집합 자료형은 어떻게 만들까?\\n____집합 자료형의 특징\\n____교집합, 합집합, 차집합 구하기\\n____집합 자료형 관련 함수\\n__02-7 불 자료형\\n____불 자료형이란?\\n____자료형의 참과 거짓\\n____불 연산\\n__02-8 자료형의 값을 저장하는 공간, 변수\\n____변수란?\\n____리스트를 복사할 때\\n____변수를 만드는 여러 가지 방법\\n연습문제\\n\\n03장 프로그램의 구조를 쌓는다! 제어문\\n__03-1 if문\\n____if문은 왜 필요할까?\\n____if문의 기본 구조\\n____조건문이란 무엇인가?\\n____다양한 조건을 판단하는 elif\\n____조건부 표현식\\n__03-2 while문\\n____while문의 기본 구조\\n____while문 만들기\\n____while문 강제로 빠져나가기\\n____while문의 맨 처음으로 돌아가기\\n____무한 루프\\n__03-3 for문\\n____for문의 기본 구조\\n____for문과 continue문\\n____for문과 함께 자주 사용하는 range 함수\\n____리스트 내포 사용하기\\n연습문제\\n\\n04장 프로그램의 입력과 출력은 어떻게 해야 할까?\\n__04-1 함수\\n____함수를 사용하는 이유는 무엇일까?\\n____파이썬 함수의 구조\\n____매개변수와 인수\\n____입력값과 결괏값에 따른 함수의 형태\\n____매개변수 지정하여 호출하기\\n____입력값이 몇 개가 될지 모를 때는 어떻게 해야 할까?\\n____함수의 결괏값은 언제나 하나이다\\n____매개변수에 초깃값 미리 설정하기\\n____함수 안에서 선언한 변수의 효력 범위\\n____lambda\\n__04-2 사용자 입력과 출력\\n____사용자 입력\\n____print 자세히 알기\\n__04-3 파일 읽고 쓰기\\n____파일 생성하기\\n____파일을 쓰기 모드로 열어 출력값 적기\\n____프로그램의 외부에 저장된 파일을 읽는 여러 가지 방법\\n____파일에 새로운 내용 추가하기\\n____with문과 함께 사용하기\\n연습문제\\n\\n05장 파이썬 날개 달기\\n__05-1 클래스\\n____클래스는 왜 필요한가?\\n____클래스와 객체\\n____사칙연산 클래스 만들기\\n____생성자(Constructor)\\n____클래스의 상속\\n____클래스 변수\\n__05-2 모듈\\n____모듈 만들기\\n____모듈 불러오기\\n____if __name__ == \"__main__\" :의 의미\\n____클래스나 변수 등을 포함한 모듈\\n____다른 파일에서 모듈 불러오기\\n__05-3 패키지\\n____패키지란 무엇인가?\\n____패키지 만들기\\n____ __init__.py의 용도\\n____relative 패키지\\n__05-4 예외 처리\\n____오류는 어떨 때 발생하는가?\\n____오류 예외 처리 기법\\n____오류 회피하기\\n____오류 일부러 발생시키기\\n____예외 만들기\\n__05-5 내장 함수\\n__05-6 외장 함수\\n연습문제\\n\\n둘째마당 파이썬 실력 키우기\\n\\n06장 파이썬 프로그래밍, 어떻게 시작해야 할까?\\n__06-1 내가 프로그램을 만들 수 있을까?\\n__06-2 3과 5의 배수 합하기\\n__06-3 게시판 페이징하기\\n__06-4 간단한 메모장 만들기\\n__06-5 탭을 4개의 공백으로 바꾸기\\n__06-6 하위 디렉터리 검색하기\\n\\n07장 정규 표현식\\n__07-1 정규 표현식 살펴보기\\n____정규 표현식은 왜 필요한가?\\n__07-2 정규 표현식 시작하기\\n____정규 표현식의 기초, 메타 문자\\n____파이썬에서 정규 표현식을 지원하는 re 모듈\\n____정규식을 사용한 문자열 검색\\n____match 객체의 메서드\\n____컴파일 옵션\\n____백슬래시 문제\\n__07-3 강력한 정규 표현식의 세계로\\n____메타 문자\\n____그루핑\\n____그루핑된 문자열에 이름 붙이기\\n____전방 탐색\\n____문자열 바꾸기\\n____Greedy vs Non-Greedy\\n\\n파이썬 초보 탈출 - 코딩 면허 시험 20제\\n\\n연습문제 풀이\\n코딩 면허 시험 풀이\\n찾아보기\\n출판사 서평\\n국내 최초, 파이썬 책을 집필했던 바로 그 저자!\\n친구, 선배들이 추천하는 바로 그 책!\\n“사실 이 책의 저자는 필자 한 사람이 아니다. 위키독스에 달린 무수한 댓글을 보면 알 수 있다.” 2001년 국내 최초로 파이썬 책을 집필한 저자 박응용은 2008년 위키독스를 열어 온라인에서도 파이썬을 가르치기 시작했다. 이후 10년 넘게 독자와 소통하고 질문에 성실히 답하며 초보자가 어려워하는 부분을 그 누구보다 잘 알게 됐다. 이 경험을 담아 2016년 출간한 《Do it! 점프 투 파이썬》은 전체 프로그래밍 분야 4년 연속 베스트셀러 1위라는 압도적인 성과로 이어졌다. 그리고 2019년, 오프라인 독자들의 의견까지 반영하여 더 완벽한 책으로 거듭났다.\\n\\n진정한 고수는 쓸모없는 몸놀림이 하나도 없다!\\n초보자에게 꼭 필요한 것만 배우니 초보 탈출까지 쾌속 질주!\\nC언어는 문장 하나를 출력하려 해도 여섯 줄 이상의 코드가 필요하지만 파이썬은 단 한 줄이면 된다. 이 책, 꼭 파이썬을 닮았다. 간결하지만 강력하다! 단순하되 명쾌하게 설명하는 방식도 저자의 독보적인 강점이다. 군더더기 없는 프로다움이 돋보인다. 프로그래밍 초보자에게 이 책이 가장 많이 추천되는 이유이다!\\n파이썬의 문법들 중 이해하기 어려운 건 비유와 도해를 들어 설명한다. 왜 배우는지, 앞서 배운 내용과 어떻게 다른지 초보자가 문득 느낄 수 있는 궁금증도 미리 파악해 속 시원히 답한다. 13년간 소통하며 정제한 파이썬 입문의 정수만을 담은 책. 정말 이거 한 권으로 될까? 아직도 의심하는 분에게 아인슈타인의 말을 들려주고 싶다. “간단하게 설명할 수 없다면 정확히 이해하지 못한 것이다.”\\n\\n백문이 불여일견, 백견이 불여일타(打)!\\n키보드 잡고 실습하다 보면 어느덧 파이썬 문법이 내 손 안에!\\n컴퓨터만 있다면 책을 펴고 바로 실습할 수 있도록 모든 준비를 빠르게 마친다. 특히 초보자가 낯설어 할 수 있는 프로그래밍 실습 환경을 더 친절하게 안내했다. 첫째마당에서는 직접 키보드를 잡고 기초 문법을 익힌다. 개념 이해와 실습을 반복하기 때문에 초보자도 파이썬 기초를 견고하게 세울 수 있다. 프로그램의 재료인 문법을 다 익혔다면 이제 필요한 건 레시피! 둘째마당에서는 이 부분에 집중하여 훈련한다. 프로그램 설계도를 그리고, 이를 바탕으로 프로그램의 틀을 짜고, 앞에서 배운 문법을 사용해 코딩하면서 프로그래머답게 생각하고 문제를 해결하는 과정을 연습한다.\\n특히 이번 개정판은 기존 독자들의 바람대로 실습 문제를 대폭 강화했다. 그냥 숫자만 늘린 것이 아니다. 단 한 문제를 풀어도 학습 효과를 극대화하기 위해 문제의 난도, 위치, 분량을 꼼꼼히 고려해 설계했다. 본문 속에는 문법을 정확히 이해했는지 그 자리에서 손쉽게 확인할 수 있는 ‘나 혼자 코딩’ 문제를 넣었다. 장 하나를 끝낼 때마다 풍부하게 주어지는 ‘연습 문제’에서는 학습 내용을 점검하고 기초 실력을 탄탄하게 만들 수 있다. 책의 마무리 ‘코딩 면허 시험 20제’까지 다 풀고 나면 어디서 파이썬 좀 한다는 소리가 들려오기 시작할 것이다.\\n\\n독학은 물론 대학 교재로도 인기!\\n독학용 학습 계획표 + 교재용 계획표 따로 제공!\\n《Do it! 점프 투 파이썬》으로 이미 수많은 독자가 프로그래밍에 입문했다. 독학은 물론 수도권 주요 대학에서는 IT 관련 학과뿐 아니라 교양 수업에서도 인기다. 학습자 중심으로 설계한 조밀하고 탄탄한 짜임새가 그 비결이다. 혼자 공부한다면 책에서 제공하는 ‘독학용 30일 코스’ 계획표를 활용하자. 계획표에 따라 하루 한 시간, 한 달이면 누구나 파이썬 프로그램을 만들 수 있다. 학원이나 대학교는 ‘교재용 16회 코스’ 계획표를 사용하면 딱 맞다. 복습 실습, 장별 연습 문제, 최종 문제까지 체계적으로 담았으니 활용도가 높다.\\n이번 개정판에 새로 실은 내용 중 ‘코딩 면허 시험 20제’는 이전 책을 산 독자에게도 무료로 제공된다. 이지스퍼블리싱 홈페이지에서 무료 PDF를 내려받아 그동안 파이썬 실력이 녹슬지 않았는지 점검해 보자.\\n\\n파이썬 프로그래밍 실력을 더 키우고 싶다면?\\n오라! 박응용의 코딩 도장(codingdojang.com)으로!\\n파이썬에 재미가 들렸다면 저자가 운영하는 코딩 도장(codingdojang.com)에 방문해 보자. 난도에 따라 정리된 230여 개의 문제와 사람들이 작성한 풀이 16,000여 개가 올라와 있으니 파이썬 실력을 키우기에 이만한 곳이 없다. 문제를 풀수록 랭킹이 올라가고 진짜 도장처럼 색 띠도 달아주니 연습하는 맛도 쏠쏠하다. 이 모든 게 전부 무료! 박응용의 코딩 도장은 이곳 한 곳뿐이니 유사품에 주의하자.\\n\\n\"책을 통해 성장하는 지적인 독자들을 만나 보세요!\"\\n배우고, 나누고, 함께 성장하는 Do it! 스터디룸! ? 이 책을 함께 공부하세요\\n혼자 계획을 세우고 공부하다 보면 금방 지치기 마련이다. 나와 비슷한 고민을 하고 있는 독자를 만나 어려운 내용을 공유해 보는 것은 어떨까? 내가 열심히 공부한 내용으로 다른 사람을 도와준다면 더 큰 뿌듯함을 느낄 수 있다. 배우고, 나누고, 함께 성장하는 Do it! 스터디룸 카페에서 책을 통해 스스로 성장하고 싶어하는 동료를 만날 수 있다.\\n- Do it! 스터디룸 카페 [cafe.naver.com/doitstudyroom → ‘점프 투 파이썬’ 메뉴] 닫기\\n', 'url': 'http://www.kyobobook.co.kr/product/detailViewKor.laf?ejkGb=KOR&mallGb=KOR&barcode=9791163030911&orderClick=LAG&Kc='}\n"
     ]
    },
    {
     "name": "stdout",
     "output_type": "stream",
     "text": [
      "Crawling number = 3/60\n",
      "click btn cnt = 2\n",
      "{'icon': '', 'title': '1일 1로그 100일 완성 IT 지식 하드웨어,소프트웨어,통신,데이터,4가지 IT 근육으로 디지털 문해력 기르기', 'author': '브라이언 W. 커니핸 지음 | 하성창 옮김 | 인사이트 | 2021년 12월 31일 출간', 'review': '총 4 중\\n4 9.4 (리뷰 3개)\\n클로버 리뷰쓰기', 'rank': '국내도서 주간베스트 169위 | 컴퓨터/IT 주간베스트 5위', 'book_keyword': '', 'content': '도서·상품정보 1:1 문의하기\\nISBN 9788966263301(8966263305)\\n쪽수 560쪽\\n크기 153 * 206 * 40 mm /649g 판형알림\\n책소개\\n이 책이 속한 분야\\n컴퓨터/IT > IT일반 > IT교양서/IT에세이\\n자기계발 > 성공/처세 > 자기관리/처세\\n이 책의 주제어\\n#기초부터시작하는IT수업 #IT수업 #디지털문해력 #컴퓨터과학명강의 #하드웨어 #통신 #데이터\\n\\n복잡한 IT 세상을 선명하게 읽는 디지털 문해력 기르기 챌린지\\nIT 지식은 분명 복잡하지만 인생처럼 혼잡하지는 않다. 필요한 지식을 습득하면 막연한 불안감에서 벗어나 디지털 지구가 제시하는 도전과 기회에 적극적으로 대처할 수 있다. 네이버, 카카오, 쿠팡, 배달의 민족, 당근마켓, 토스··· 순식간에 우리 일상에 스며든 IT 기업들은 클라우드 컴퓨팅, 머신러닝, 데이터 마이닝과 같은 기술을 바탕으로 매분 매초 혁신과 성장을 거듭하고 있다. 그 가운데 인터넷, 스마트폰에 이어 2025년 글로벌 300조 시장이 예측되는 메타버스 시대가 열렸다.\\n다행히도 논리적 구조와 물리적 구현으로 이뤄진 디지털 시스템의 기본 아이디어는 무게가 30톤에 달하던 초기 컴퓨터부터 MS 홀로렌즈로 접속하는 메타버스까지 동일하다. 컴퓨팅의 4가지 핵심 분야인 하드웨어, 소프트웨어, 통신, 데이터를 이해하면 어떤 복잡한 디지털 시스템이라도 잘게 쪼개 비즈니스 구조와 흐름을 파악하는 디지털 문해력을 기를 수 있다.\\n호기심 세포는 있는데, 실천 세포는 없다면, 이 책이 딱이다. ‘1일 1로그 100일 완성 IT 지식 챌린지’에, 각 꼭지를 언제 읽을 것인지, 퀘스트 날짜를 적어 보자. 계획한 날짜에 읽었다면 퀘스트 성공! 하루하루 성공 기록을 쌓다 보면 한번 배워 평생 써먹는 IT 근육을 갖게 될 것이다.\\n상세이미지\\n\\n저자소개\\n저자 : 브라이언 W. 커니핸\\n작가 정보 관심작가 등록\\n컴퓨터공학자\\nBrian W. Kernighan 프린스턴 대학 컴퓨터과학과 교수. 20년간 비전공자를 대상으로 교양과목인 ‘우리 세상의 컴퓨터들(Computers in Our World)’을 가르치고 있다... 더보기\\n\\n\\n\\n브라이언 W. 커니핸의 다른 작품\\n숫자가 만만해지는 책\\n13,500원\\nHello, Digital World(커니핸 교수의)(테크 러닝 시리즈 4)\\n20,700원\\nC언어 프로그래밍(Kernighan의)(수정판 2판)\\n22,500원\\n프로그래밍 수련법\\n18,000원\\n역자 : 하성창\\n작가 정보 관심작가 등록\\n프로그래머 번역가/통역사＞영어\\n컴퓨터 기술을 다루는 글쓰기와 번역 일을 하고 있다. 주로 테크니컬 라이터로 일하면서 소프트웨어 플랫폼, 클라우드 컴퓨팅 등과 관련된 기술 문서를 작성했고, 소프트웨어 개발자와 로컬라이제이션... 더보기\\n하성창의 다른 작품\\n유닉스의 탄생\\n18,000원\\nHello, Digital World(커니핸 교수의)(테크 러닝 시리즈 4)\\n20,700원\\n\\n목차\\n들어가며\\n서문\\n\\n1부 [IT 근육 하나] 하드웨어\\n\\n001 컴퓨터의 논리와 구조\\n002 프로세서 속도와 심장 박동수\\n003 HDD와 SSD의 차이\\n004 가로세로 1cm 프로세서 칩\\n005 50년 넘게 유지된 무어의 법칙\\n006 요약\\n\\n007 연속과 불연속\\n008 아날로그 정보를 디지털로 바꾸기\\n009 0과 1의 세계\\n010 비트 모아 데이터\\n011 요약\\n\\n012 프로세서와 계산기의 다른 점\\n013 모형 컴퓨터로 더하기 프로그램 만들기\\n014 프로세서는 무조건 빠른 게 좋을까?\\n015 캐시가 뭔가요?\\n016 슈퍼컴퓨터부터 사물인터넷까지\\n017 요약\\n\\n\\n2부 [IT 근육 둘] 소프트웨어\\n\\n018 알고리즘과 초콜릿 케이크 레시피\\n019 반에서 가장 키 큰 사람 찾기: 선형 알고리즘\\n020 10억 개 전화번호에서 이름 찾기: 이진 검색\\n021 검색을 쉽게 만드는 정렬: 선택 정렬 vs 퀵 정렬\\n022 10개 도시를 최단거리로 여행하는 법\\n023 요약\\n\\n024 알고리즘은 이상, 프로그래밍은 현실\\n025 다른 프로그램을 처리하기 위한 프로그램\\n026 고수준 언어에서 프로그램 실행까지\\n027 작문과 비슷한 프로그래밍\\n028 구글 같은 서비스는 어떻게 개발할까?\\n029 구글과 오라클의 저작권 소송\\n030 기술 표준의 중요성\\n031 자유로운 소프트웨어, 오픈소스\\n032 요약\\n\\n033 컴퓨터를 작동하게 만드는 운영체제\\n034 가상 운영체제와 가상 머신\\n035 운영체제가 일하는 법\\n036 파일 시스템과 블록\\n037 파일을 휴지통에 넣을 때 일어나는 일\\n038 여러 작업을 수행하는 애플리케이션\\n039 소프트웨어의 계층 구조\\n040 요약\\n\\n041 자바스크립트와 파이썬\\n042 프로그래밍 언어의 주요 개념\\n043 자바스크립트로 Hello, World 출력하기\\n044 사용자 이름 입력받아 출력하기\\n045 루프와 조건문\\n046 자바스크립트로 구글 지도에 위치 표시하기\\n047 자바스크립트는 어떻게 작동할까?\\n048 파이썬으로 Hello, World 출력하기\\n049 더하기 프로그램 만들기\\n050 파이썬으로 그래프 그리기\\n051 파이썬은 어떻게 작동할까?\\n052 요약\\n\\n\\n3부 [IT 근육 셋] 통신\\n\\n053 전화부터 와이파이까지, 네트워크의 기본 속성\\n054 삐- 삐- 추억의 모뎀 소리\\n055 킬로바이트에서 메가바이트로\\n056 학교나 회사에서 사용하는 근거리 네트워크, 이더넷\\n057 와이파이는 상표 이름\\n058 휴대전화가 영어로 셀룰러폰인 이유\\n059 3G, LTE, 4G, 5G\\n060 ZIP 파일로 압축할 때\\n061 오류를 검출하고 수정하는 알고리즘\\n062 요약\\n\\n063 표준과 프로토콜의 세계, 인터넷\\n064 인터넷이 가능한 메커니즘\\n065 나만의 도메인이 갖고 싶다면?\\n066 출발지에서 목적지까지, 인터넷 경로 확인하기\\n067 데이터를 전송하는 핵심 프로토콜 TCP/IP\\n068 최상위 프로토콜: 메일 전송과 파일 공유\\n069 디지털 저작권 논쟁\\n070 보안에 취약한 IoT 기기들\\n071 요약\\n\\n072 월드 와이드 웹은 무료다\\n073 URL의 의미\\n074 HTML과 CSS로 간단한 웹페이지 만들기\\n075 쿠키를 삭제하시겠습니까?\\n076 어도비 플래시는 왜 퇴출됐을까?\\n077 이메일 첨부파일을 함부로 클릭하면 안 되는 이유\\n078 바이러스 전파\\n079 곳곳에 도사리는 위험\\n080 웹에서 나를 지키는 3단계 방어책\\n081 요약\\n\\n\\n4부 [IT 근육 넷] 데이터\\n\\n082 제타바이트 시대\\n083 검색 엔진과 타깃 광고\\n084 내가 인터넷을 보면 인터넷도 나를 본다\\n085 트윗을 올리기 전에\\n086 메타데이터에 관한 불편한 진실\\n087 클라우드와 프라이버시\\n088 요약\\n\\n089 인간의 영역에 들어온 컴퓨터\\n090 인공지능의 겨울\\n091 머신러닝의 학습 알고리즘\\n092 인간 뇌를 모방한 신경망과 딥 러닝\\n093 인공지능과 사람이 쓴 시를 구별할 수 있을까?\\n094 요약\\n\\n095 숨길 게 없다면 괜찮을까?\\n096 둘이서만 공유하는 비밀 키 암호 기법\\n097 공개 키 암호 기법과 닫힌 자물쇠\\n098 인터넷에 흔적을 남기지 않고 거래할 수 있을까?\\n099 요약\\n100 사람은 빠르게 변하지 않는다\\n\\n용어 해설\\n옮긴이의 글\\n찾아보기\\n책 속으로\\n19세기 후반에 허먼 홀러리스Herman Hollerith는 미국 인구 조사국US Census Bureau과 협력하여 인구 조사 정보를 수작업보다 훨씬 더 빨리 집계할 수 있는 기계를 설계하고 만들었다. 홀러리스는 자카르 직기의 발상을 활용해서, 뻣뻣한 종이 카드에 구멍을 뚫어 인구 조사 데이터를 기계에서 처리할 수 있는 형태로 인코딩(부호화)했다. 1880년 인구 조사 집계가 8년 걸렸기에 1890년 인구 조사는 10년 이상 걸릴 거라는 예측과 달리, 홀러리스의 천공 카드와 집계 기계 덕분에 불과 1년 만에 처리할 수 있었다. 이후 홀러리스는 회사를 설립했고, 그 회사는 인수 합병을 거쳐 1924년에 ‘International Business Machines’라는 기업이 되었는데, 바로 우리가 아는 IBM이다.\\n_1부 하드웨어 〈들어가는 글〉\\n\\n최신 컴퓨터는 실로 복잡한 물건이다. 그림 I.4(12쪽)에서 본 것처럼 프로세서, 메모리, 보조 기억 장치, 디스플레이, 네트워크 인터페이스 등 많은 부분을 포함한다. 구성 요소를 효과적으로 사용하려면 다수의 프로그램을 동시에 실행할 수 있어야 한다. 이 중 일부는 무언가 일어나기를 기다리고 있고(웹페이지가 모두 다운로드되기를 기다리기), 어떤 것은 즉각적인 반응을 요구하고(마우스의 움직임을 추적하거나 게임을 할 때 디스플레이 업데이트하기), 또 일부는 다른 프로그램에 지장을 준다(이미 초만원 상태인 메모리에 공간이 필요한 새 프로그램 시작하기). 복잡하기 이를 데 없다.\\n_033 컴퓨터를 작동하게 만드는 운영체제\\n\\n인터넷에서 가장 눈에 띄는 부분은 월드 와이드 웹World Wide Web으로, 지금은 그냥 ‘웹’이라고 한다. 인터넷과 웹을 하나로 보는 경향도 있지만, 둘은 서로 다르다. 인터넷은 전 세계의 수많은 컴퓨터가 서로 쉽게 정보를 교환할 수 있도록 하는 통신 인프라 또는 하위 계층이다. 웹은 정보를 제공하는 컴퓨터(서버)와 정보를 요청하는 컴퓨터(여러분과 나 같은 클라이언트)를 연결한다. 웹은 인터넷을 ‘사용하여’ 연결을 맺고 정보를 전달하며 다른 인터넷 기반 서비스에 접근하기 위한 인터페이스를 제공한다.\\n_072 월드 와이드 웹은 무료다\\n\\n나는 시험 삼아 모든 방어책을 해제하고 사파리를 사용하여 토요타 웹사이트를 방문했다. 처음 방문했을 때 25개의 서로 다른 사이트에서오는 쿠키, 다양한 사이트에서 오는 45개의 이미지, 50개 이상의 자바스크립트 프로그램을 다운로드했고, 전체 용량이 10MB를 넘었다. 이 페이지는 내가 거기에 남아 있는 동안 계속 네트워크 요청을 생성했다. 사실은 페이지가 백그라운드 연산을 너무 많이 돌리고 있어서 사파리가 경고를 띄울 정도였다(그림 IV.4).\\n_084 내가 인터넷을 보면 인터넷도 나를 본다 닫기\\n출판사 서평\\nIT 교양인으로 피봇팅하시겠습니까?\\n살아 있는 현대 컴퓨팅의 역사, 브라이언 W. 커니핸 교수가 알려 주는\\nIT 지식을 막힘없이 디코딩하는 4가지 근육\\n\\nIT 지식은 분명 복잡하지만 인생처럼 혼잡하지는 않다. 필요한 지식을 습득하면 막연한 불안감에서 벗어나 디지털 지구가 제시하는 도전과 기회에 적극적으로 대처할 수 있다. 네이버, 카카오, 쿠팡, 배달의 민족, 당근마켓, 토스··· 순식간에 우리 일상에 스며든 IT 기업들은 클라우드 컴퓨팅, 머신러닝, 데이터 마이닝과 같은 기술을 바탕으로 매분 매초 혁신과 성장을 거듭하고 있다. 그 가운데 인터넷, 스마트폰에 이어 2025년 글로벌 300조 시장이 예측되는 메타버스 시대가 열렸다.\\n다행히도 논리적 구조와 물리적 구현으로 이뤄진 디지털 시스템의 기본 아이디어는 무게가 30톤에 달하던 초기 컴퓨터부터 MS 홀로렌즈로 접속하는 메타버스까지 동일하다. 컴퓨팅의 4가지 핵심 분야인 하드웨어, 소프트웨어, 통신, 데이터를 이해하면 어떤 복잡한 디지털 시스템이라도 잘게 쪼개 비즈니스 구조와 흐름을 파악하는 디지털 문해력을 기를 수 있다. 살아 있는 현대 컴퓨팅의 역사이자 컴퓨터과학계에서 가장 뛰어난 작가이기도 한 브라이언 W. 커니핸 교수는 리처드 뮬러가 쓴《대통령을 위한 물리학》에 영감을 받아 이 책을 집필했다. 블록체인, NFT, 메타버스까지 미래 경제를 좌우할 지각변동이 디지털 세계에 일어나고 있는 지금 대통령은 물론이거니와 디지털 지구에 불시착한 아날로그 인간이라도 필요한 지식을 디코딩할 수 있는 IT 근육을 길러야 한다.\\n호기심 세포는 있는데, 실천 세포는 없다면, 이 책이 딱이다. ‘1일 1로그 100일 완성 IT 지식 챌린지’에, 각 꼭지를 언제 읽을 것인지, 퀘스트 날짜를 적어 보자. 계획한 날짜에 읽었다면 퀘스트 성공! 하루하루 성공 기록을 쌓다 보면 한번 배워 평생 써먹는 IT 근육을 갖게 될 것이다.\\n\\n\\nKT 네트워크 장애가 라우팅 오류 때문이라는데, 라우터가 뭘까?\\n복잡한 IT 세상을 선명하게 읽는 디지털 문해력 기르기 프로젝트\\n\\n최근 SNS에서 파일을 폴더에 저장하지 않고 검색으로 찾는 Z세대에 관한 글이 큰 관심을 끌었다. 폴더와 파일의 계층 구조에 익숙한 기성세대와 커다란 바구니 하나에 모든 파일을 다 넣고 필요할 때마다 검색해서 꺼내 쓰는 Z세대가 이로 인한 의사소통에 어려움을 겪고 있는 것이다. 교수가 학생들에게 파일을 어디에 저장해 두었는지 물었더니 학생들이 하나같이 “지금 무슨 말씀 하시는 거예요?”라며 어리둥절한 표정을 지었다고 한다. 이 책에서 설명하는 ‘컴퓨터의 논리와 구조(001)’, ‘파일 시스템과 블록(036)’을 보면 재밌게도 Z세대의 방식이 컴퓨터의 물리적 구조와 비슷함을 알 수 있다. 실제 데이터는 계층이 없는 블록에 저장되기 때문이다. 하드웨어와 소프트웨어를 다루는 1부와 2부에는 이외에도 컴퓨팅에는 왜 십진수 대신 이진수를 사용하는지, CPU 스펙인 ‘2.2GHz 듀얼 코어 인텔 Core i7’은 무슨 뜻인지, 프로세서가 프로그래밍 가능한 고속 계산기에 불과하다면 어떻게 우리는 컴퓨터나 스마트폰으로 쇼핑하고, 검색하고, 친구와 대화할 수 있는지 알려 주는 흥미진진한 내용이 가득하다.\\n얼마 전 KT 네트워크 장애로 1시간 넘게 전국적으로 인터넷이 되지 않았다. 음식점을 비롯해 여러 매장에서 인터넷 결제가 되지 않았고, 카톡은 물론 트래픽 증가로 음성전화 서비스망까지 작동하지 않았다. KT 부산국사에서 기업망 라우터 교체 작업 중 잘못된 명령어를 입력한 것이 원인이었다. 라우터가 무엇이고, 어떤 역할을 하기에, 한 개 라우터의 잘못된 경로 업데이트가 30초 이내에 전국으로 확대된 것일까? 이 책 3부에서는 전화부터 와이파이까지 네트워크의 기본 속성과 표준과 프로토콜의 세계인 인터넷을 알기 쉽게 설명한다. 특히 ‘인터넷이 가능한 매커니즘(064)’, ‘나만의 도메인이 갖고 싶다면?(065)’, ‘출발지에서 목적지까지, 인터넷 경로 확인하기(066)’를 읽으면 이번 네트워크 장애를 선명하게 이해할 수 있다.\\n2021년 전 세계 인터넷 트래픽은 3제타바이트에 이른다고 한다. 이 모든 데이터는 어떻게 오가고 이용되고 있을까? 인터넷에 흔적을 남기지 않고 거래할 수 있을까? 4부 데이터에서는 메타데이터에 관한 불편한 진실부터 암호 기법의 원리까지 프라이버시를 지키기 위해 알아야 하는 최소한의 지식을 살펴본다.\\n\\n저자는 1992년 10월 코넬 대학을 방문했을 때, 웹이 작동하는 것을 처음 보았는데 쑥스러운 일이지만 당시에는 그다지 인상적이라고 생각하지 않았다고 한다. 그로부터 6개월도 지나지 않아 등장한 브라우저가 세상을 바꿨다. 앞으로 1년, 5년, 10년 후 어떤 세상이 펼쳐지든 이 책으로 키운 IT 근육이 든든한 기초체력을 만들어 줄 것이다. 닫기\\n\\n\\n북카드\\n이전 내용 1/10 다음 내용\\n좋아요 0 공유\\n', 'url': 'http://www.kyobobook.co.kr/product/detailViewKor.laf?ejkGb=KOR&mallGb=KOR&barcode=9788966263301&orderClick=LAG&Kc='}\n",
      "Crawling number = 4/60\n"
     ]
    },
    {
     "ename": "KeyboardInterrupt",
     "evalue": "",
     "output_type": "error",
     "traceback": [
      "\u001b[0;31m---------------------------------------------------------------------------\u001b[0m",
      "\u001b[0;31mKeyboardInterrupt\u001b[0m                         Traceback (most recent call last)",
      "Input \u001b[0;32mIn [7]\u001b[0m, in \u001b[0;36m<module>\u001b[0;34m\u001b[0m\n\u001b[1;32m      6\u001b[0m searchList \u001b[38;5;241m=\u001b[39m bookSelection\u001b[38;5;241m.\u001b[39mget_searchList(driver)\n\u001b[1;32m      7\u001b[0m \u001b[38;5;66;03m## 상세페이지 Crawling\u001b[39;00m\n\u001b[0;32m----> 8\u001b[0m detailInfo \u001b[38;5;241m=\u001b[39m \u001b[43mbookSelection\u001b[49m\u001b[38;5;241;43m.\u001b[39;49m\u001b[43mcrawling_detailPage\u001b[49m\u001b[43m(\u001b[49m\u001b[43mdriver\u001b[49m\u001b[43m,\u001b[49m\u001b[43m \u001b[49m\u001b[43msearchList\u001b[49m\u001b[43m)\u001b[49m\n\u001b[1;32m     10\u001b[0m \u001b[38;5;28;01mif\u001b[39;00m currentPage \u001b[38;5;241m!=\u001b[39m totalPages:\n\u001b[1;32m     11\u001b[0m     driver\u001b[38;5;241m.\u001b[39mfind_element(By\u001b[38;5;241m.\u001b[39mXPATH, \u001b[38;5;124m\"\u001b[39m\u001b[38;5;124m/html/body/div[2]/div[1]/div[2]/div[3]/div[9]/div[1]/a[3]\u001b[39m\u001b[38;5;124m\"\u001b[39m)\u001b[38;5;241m.\u001b[39mclick()\n",
      "Input \u001b[0;32mIn [2]\u001b[0m, in \u001b[0;36mBookSelection.crawling_detailPage\u001b[0;34m(self, driver, searchList)\u001b[0m\n\u001b[1;32m     90\u001b[0m \u001b[38;5;66;03m#     titleLinks = driver.find_elements(By.XPATH, \"/html/body/div[2]/div[1]/div[2]/div[3]/div[8]/form[1]/table/tbody/tr/td[2]/div[2]/a\") ## 펼쳐보기\u001b[39;00m\n\u001b[1;32m     91\u001b[0m     titleLinks \u001b[38;5;241m=\u001b[39m driver\u001b[38;5;241m.\u001b[39mfind_elements(By\u001b[38;5;241m.\u001b[39mXPATH, \u001b[38;5;124m\"\u001b[39m\u001b[38;5;124m/html/body/div[2]/div[1]/div[2]/div[3]/div[8]/form[2]/table/tbody/tr/td/div/div[4]/a\u001b[39m\u001b[38;5;124m\"\u001b[39m) \u001b[38;5;66;03m## 간략보기\u001b[39;00m\n\u001b[0;32m---> 92\u001b[0m     \u001b[43mtitleLinks\u001b[49m\u001b[43m[\u001b[49m\u001b[43mlist_count\u001b[49m\u001b[43m]\u001b[49m\u001b[38;5;241;43m.\u001b[39;49m\u001b[43mclick\u001b[49m\u001b[43m(\u001b[49m\u001b[43m)\u001b[49m\n\u001b[1;32m     93\u001b[0m     time\u001b[38;5;241m.\u001b[39msleep(\u001b[38;5;241m5\u001b[39m)\n\u001b[1;32m     95\u001b[0m     detailInfo \u001b[38;5;241m=\u001b[39m \u001b[38;5;28mdict\u001b[39m()\n",
      "File \u001b[0;32m~/.local/share/virtualenvs/bookSelection-CcZ7O_He/lib/python3.9/site-packages/selenium/webdriver/remote/webelement.py:81\u001b[0m, in \u001b[0;36mWebElement.click\u001b[0;34m(self)\u001b[0m\n\u001b[1;32m     79\u001b[0m \u001b[38;5;28;01mdef\u001b[39;00m \u001b[38;5;21mclick\u001b[39m(\u001b[38;5;28mself\u001b[39m) \u001b[38;5;241m-\u001b[39m\u001b[38;5;241m>\u001b[39m \u001b[38;5;28;01mNone\u001b[39;00m:\n\u001b[1;32m     80\u001b[0m     \u001b[38;5;124;03m\"\"\"Clicks the element.\"\"\"\u001b[39;00m\n\u001b[0;32m---> 81\u001b[0m     \u001b[38;5;28;43mself\u001b[39;49m\u001b[38;5;241;43m.\u001b[39;49m\u001b[43m_execute\u001b[49m\u001b[43m(\u001b[49m\u001b[43mCommand\u001b[49m\u001b[38;5;241;43m.\u001b[39;49m\u001b[43mCLICK_ELEMENT\u001b[49m\u001b[43m)\u001b[49m\n",
      "File \u001b[0;32m~/.local/share/virtualenvs/bookSelection-CcZ7O_He/lib/python3.9/site-packages/selenium/webdriver/remote/webelement.py:710\u001b[0m, in \u001b[0;36mWebElement._execute\u001b[0;34m(self, command, params)\u001b[0m\n\u001b[1;32m    708\u001b[0m     params \u001b[38;5;241m=\u001b[39m {}\n\u001b[1;32m    709\u001b[0m params[\u001b[38;5;124m'\u001b[39m\u001b[38;5;124mid\u001b[39m\u001b[38;5;124m'\u001b[39m] \u001b[38;5;241m=\u001b[39m \u001b[38;5;28mself\u001b[39m\u001b[38;5;241m.\u001b[39m_id\n\u001b[0;32m--> 710\u001b[0m \u001b[38;5;28;01mreturn\u001b[39;00m \u001b[38;5;28;43mself\u001b[39;49m\u001b[38;5;241;43m.\u001b[39;49m\u001b[43m_parent\u001b[49m\u001b[38;5;241;43m.\u001b[39;49m\u001b[43mexecute\u001b[49m\u001b[43m(\u001b[49m\u001b[43mcommand\u001b[49m\u001b[43m,\u001b[49m\u001b[43m \u001b[49m\u001b[43mparams\u001b[49m\u001b[43m)\u001b[49m\n",
      "File \u001b[0;32m~/.local/share/virtualenvs/bookSelection-CcZ7O_He/lib/python3.9/site-packages/selenium/webdriver/remote/webdriver.py:422\u001b[0m, in \u001b[0;36mWebDriver.execute\u001b[0;34m(self, driver_command, params)\u001b[0m\n\u001b[1;32m    419\u001b[0m         params[\u001b[38;5;124m'\u001b[39m\u001b[38;5;124msessionId\u001b[39m\u001b[38;5;124m'\u001b[39m] \u001b[38;5;241m=\u001b[39m \u001b[38;5;28mself\u001b[39m\u001b[38;5;241m.\u001b[39msession_id\n\u001b[1;32m    421\u001b[0m params \u001b[38;5;241m=\u001b[39m \u001b[38;5;28mself\u001b[39m\u001b[38;5;241m.\u001b[39m_wrap_value(params)\n\u001b[0;32m--> 422\u001b[0m response \u001b[38;5;241m=\u001b[39m \u001b[38;5;28;43mself\u001b[39;49m\u001b[38;5;241;43m.\u001b[39;49m\u001b[43mcommand_executor\u001b[49m\u001b[38;5;241;43m.\u001b[39;49m\u001b[43mexecute\u001b[49m\u001b[43m(\u001b[49m\u001b[43mdriver_command\u001b[49m\u001b[43m,\u001b[49m\u001b[43m \u001b[49m\u001b[43mparams\u001b[49m\u001b[43m)\u001b[49m\n\u001b[1;32m    423\u001b[0m \u001b[38;5;28;01mif\u001b[39;00m response:\n\u001b[1;32m    424\u001b[0m     \u001b[38;5;28mself\u001b[39m\u001b[38;5;241m.\u001b[39merror_handler\u001b[38;5;241m.\u001b[39mcheck_response(response)\n",
      "File \u001b[0;32m~/.local/share/virtualenvs/bookSelection-CcZ7O_He/lib/python3.9/site-packages/selenium/webdriver/remote/remote_connection.py:421\u001b[0m, in \u001b[0;36mRemoteConnection.execute\u001b[0;34m(self, command, params)\u001b[0m\n\u001b[1;32m    419\u001b[0m data \u001b[38;5;241m=\u001b[39m utils\u001b[38;5;241m.\u001b[39mdump_json(params)\n\u001b[1;32m    420\u001b[0m url \u001b[38;5;241m=\u001b[39m \u001b[38;5;124mf\u001b[39m\u001b[38;5;124m\"\u001b[39m\u001b[38;5;132;01m{\u001b[39;00m\u001b[38;5;28mself\u001b[39m\u001b[38;5;241m.\u001b[39m_url\u001b[38;5;132;01m}\u001b[39;00m\u001b[38;5;132;01m{\u001b[39;00mpath\u001b[38;5;132;01m}\u001b[39;00m\u001b[38;5;124m\"\u001b[39m\n\u001b[0;32m--> 421\u001b[0m \u001b[38;5;28;01mreturn\u001b[39;00m \u001b[38;5;28;43mself\u001b[39;49m\u001b[38;5;241;43m.\u001b[39;49m\u001b[43m_request\u001b[49m\u001b[43m(\u001b[49m\u001b[43mcommand_info\u001b[49m\u001b[43m[\u001b[49m\u001b[38;5;241;43m0\u001b[39;49m\u001b[43m]\u001b[49m\u001b[43m,\u001b[49m\u001b[43m \u001b[49m\u001b[43murl\u001b[49m\u001b[43m,\u001b[49m\u001b[43m \u001b[49m\u001b[43mbody\u001b[49m\u001b[38;5;241;43m=\u001b[39;49m\u001b[43mdata\u001b[49m\u001b[43m)\u001b[49m\n",
      "File \u001b[0;32m~/.local/share/virtualenvs/bookSelection-CcZ7O_He/lib/python3.9/site-packages/selenium/webdriver/remote/remote_connection.py:443\u001b[0m, in \u001b[0;36mRemoteConnection._request\u001b[0;34m(self, method, url, body)\u001b[0m\n\u001b[1;32m    440\u001b[0m     body \u001b[38;5;241m=\u001b[39m \u001b[38;5;28;01mNone\u001b[39;00m\n\u001b[1;32m    442\u001b[0m \u001b[38;5;28;01mif\u001b[39;00m \u001b[38;5;28mself\u001b[39m\u001b[38;5;241m.\u001b[39mkeep_alive:\n\u001b[0;32m--> 443\u001b[0m     resp \u001b[38;5;241m=\u001b[39m \u001b[38;5;28;43mself\u001b[39;49m\u001b[38;5;241;43m.\u001b[39;49m\u001b[43m_conn\u001b[49m\u001b[38;5;241;43m.\u001b[39;49m\u001b[43mrequest\u001b[49m\u001b[43m(\u001b[49m\u001b[43mmethod\u001b[49m\u001b[43m,\u001b[49m\u001b[43m \u001b[49m\u001b[43murl\u001b[49m\u001b[43m,\u001b[49m\u001b[43m \u001b[49m\u001b[43mbody\u001b[49m\u001b[38;5;241;43m=\u001b[39;49m\u001b[43mbody\u001b[49m\u001b[43m,\u001b[49m\u001b[43m \u001b[49m\u001b[43mheaders\u001b[49m\u001b[38;5;241;43m=\u001b[39;49m\u001b[43mheaders\u001b[49m\u001b[43m)\u001b[49m\n\u001b[1;32m    444\u001b[0m     statuscode \u001b[38;5;241m=\u001b[39m resp\u001b[38;5;241m.\u001b[39mstatus\n\u001b[1;32m    445\u001b[0m \u001b[38;5;28;01melse\u001b[39;00m:\n",
      "File \u001b[0;32m~/.local/share/virtualenvs/bookSelection-CcZ7O_He/lib/python3.9/site-packages/urllib3/request.py:78\u001b[0m, in \u001b[0;36mRequestMethods.request\u001b[0;34m(self, method, url, fields, headers, **urlopen_kw)\u001b[0m\n\u001b[1;32m     74\u001b[0m     \u001b[38;5;28;01mreturn\u001b[39;00m \u001b[38;5;28mself\u001b[39m\u001b[38;5;241m.\u001b[39mrequest_encode_url(\n\u001b[1;32m     75\u001b[0m         method, url, fields\u001b[38;5;241m=\u001b[39mfields, headers\u001b[38;5;241m=\u001b[39mheaders, \u001b[38;5;241m*\u001b[39m\u001b[38;5;241m*\u001b[39murlopen_kw\n\u001b[1;32m     76\u001b[0m     )\n\u001b[1;32m     77\u001b[0m \u001b[38;5;28;01melse\u001b[39;00m:\n\u001b[0;32m---> 78\u001b[0m     \u001b[38;5;28;01mreturn\u001b[39;00m \u001b[38;5;28;43mself\u001b[39;49m\u001b[38;5;241;43m.\u001b[39;49m\u001b[43mrequest_encode_body\u001b[49m\u001b[43m(\u001b[49m\n\u001b[1;32m     79\u001b[0m \u001b[43m        \u001b[49m\u001b[43mmethod\u001b[49m\u001b[43m,\u001b[49m\u001b[43m \u001b[49m\u001b[43murl\u001b[49m\u001b[43m,\u001b[49m\u001b[43m \u001b[49m\u001b[43mfields\u001b[49m\u001b[38;5;241;43m=\u001b[39;49m\u001b[43mfields\u001b[49m\u001b[43m,\u001b[49m\u001b[43m \u001b[49m\u001b[43mheaders\u001b[49m\u001b[38;5;241;43m=\u001b[39;49m\u001b[43mheaders\u001b[49m\u001b[43m,\u001b[49m\u001b[43m \u001b[49m\u001b[38;5;241;43m*\u001b[39;49m\u001b[38;5;241;43m*\u001b[39;49m\u001b[43murlopen_kw\u001b[49m\n\u001b[1;32m     80\u001b[0m \u001b[43m    \u001b[49m\u001b[43m)\u001b[49m\n",
      "File \u001b[0;32m~/.local/share/virtualenvs/bookSelection-CcZ7O_He/lib/python3.9/site-packages/urllib3/request.py:170\u001b[0m, in \u001b[0;36mRequestMethods.request_encode_body\u001b[0;34m(self, method, url, fields, headers, encode_multipart, multipart_boundary, **urlopen_kw)\u001b[0m\n\u001b[1;32m    167\u001b[0m extra_kw[\u001b[38;5;124m\"\u001b[39m\u001b[38;5;124mheaders\u001b[39m\u001b[38;5;124m\"\u001b[39m]\u001b[38;5;241m.\u001b[39mupdate(headers)\n\u001b[1;32m    168\u001b[0m extra_kw\u001b[38;5;241m.\u001b[39mupdate(urlopen_kw)\n\u001b[0;32m--> 170\u001b[0m \u001b[38;5;28;01mreturn\u001b[39;00m \u001b[38;5;28;43mself\u001b[39;49m\u001b[38;5;241;43m.\u001b[39;49m\u001b[43murlopen\u001b[49m\u001b[43m(\u001b[49m\u001b[43mmethod\u001b[49m\u001b[43m,\u001b[49m\u001b[43m \u001b[49m\u001b[43murl\u001b[49m\u001b[43m,\u001b[49m\u001b[43m \u001b[49m\u001b[38;5;241;43m*\u001b[39;49m\u001b[38;5;241;43m*\u001b[39;49m\u001b[43mextra_kw\u001b[49m\u001b[43m)\u001b[49m\n",
      "File \u001b[0;32m~/.local/share/virtualenvs/bookSelection-CcZ7O_He/lib/python3.9/site-packages/urllib3/poolmanager.py:375\u001b[0m, in \u001b[0;36mPoolManager.urlopen\u001b[0;34m(self, method, url, redirect, **kw)\u001b[0m\n\u001b[1;32m    373\u001b[0m     response \u001b[38;5;241m=\u001b[39m conn\u001b[38;5;241m.\u001b[39murlopen(method, url, \u001b[38;5;241m*\u001b[39m\u001b[38;5;241m*\u001b[39mkw)\n\u001b[1;32m    374\u001b[0m \u001b[38;5;28;01melse\u001b[39;00m:\n\u001b[0;32m--> 375\u001b[0m     response \u001b[38;5;241m=\u001b[39m \u001b[43mconn\u001b[49m\u001b[38;5;241;43m.\u001b[39;49m\u001b[43murlopen\u001b[49m\u001b[43m(\u001b[49m\u001b[43mmethod\u001b[49m\u001b[43m,\u001b[49m\u001b[43m \u001b[49m\u001b[43mu\u001b[49m\u001b[38;5;241;43m.\u001b[39;49m\u001b[43mrequest_uri\u001b[49m\u001b[43m,\u001b[49m\u001b[43m \u001b[49m\u001b[38;5;241;43m*\u001b[39;49m\u001b[38;5;241;43m*\u001b[39;49m\u001b[43mkw\u001b[49m\u001b[43m)\u001b[49m\n\u001b[1;32m    377\u001b[0m redirect_location \u001b[38;5;241m=\u001b[39m redirect \u001b[38;5;129;01mand\u001b[39;00m response\u001b[38;5;241m.\u001b[39mget_redirect_location()\n\u001b[1;32m    378\u001b[0m \u001b[38;5;28;01mif\u001b[39;00m \u001b[38;5;129;01mnot\u001b[39;00m redirect_location:\n",
      "File \u001b[0;32m~/.local/share/virtualenvs/bookSelection-CcZ7O_He/lib/python3.9/site-packages/urllib3/connectionpool.py:703\u001b[0m, in \u001b[0;36mHTTPConnectionPool.urlopen\u001b[0;34m(self, method, url, body, headers, retries, redirect, assert_same_host, timeout, pool_timeout, release_conn, chunked, body_pos, **response_kw)\u001b[0m\n\u001b[1;32m    700\u001b[0m     \u001b[38;5;28mself\u001b[39m\u001b[38;5;241m.\u001b[39m_prepare_proxy(conn)\n\u001b[1;32m    702\u001b[0m \u001b[38;5;66;03m# Make the request on the httplib connection object.\u001b[39;00m\n\u001b[0;32m--> 703\u001b[0m httplib_response \u001b[38;5;241m=\u001b[39m \u001b[38;5;28;43mself\u001b[39;49m\u001b[38;5;241;43m.\u001b[39;49m\u001b[43m_make_request\u001b[49m\u001b[43m(\u001b[49m\n\u001b[1;32m    704\u001b[0m \u001b[43m    \u001b[49m\u001b[43mconn\u001b[49m\u001b[43m,\u001b[49m\n\u001b[1;32m    705\u001b[0m \u001b[43m    \u001b[49m\u001b[43mmethod\u001b[49m\u001b[43m,\u001b[49m\n\u001b[1;32m    706\u001b[0m \u001b[43m    \u001b[49m\u001b[43murl\u001b[49m\u001b[43m,\u001b[49m\n\u001b[1;32m    707\u001b[0m \u001b[43m    \u001b[49m\u001b[43mtimeout\u001b[49m\u001b[38;5;241;43m=\u001b[39;49m\u001b[43mtimeout_obj\u001b[49m\u001b[43m,\u001b[49m\n\u001b[1;32m    708\u001b[0m \u001b[43m    \u001b[49m\u001b[43mbody\u001b[49m\u001b[38;5;241;43m=\u001b[39;49m\u001b[43mbody\u001b[49m\u001b[43m,\u001b[49m\n\u001b[1;32m    709\u001b[0m \u001b[43m    \u001b[49m\u001b[43mheaders\u001b[49m\u001b[38;5;241;43m=\u001b[39;49m\u001b[43mheaders\u001b[49m\u001b[43m,\u001b[49m\n\u001b[1;32m    710\u001b[0m \u001b[43m    \u001b[49m\u001b[43mchunked\u001b[49m\u001b[38;5;241;43m=\u001b[39;49m\u001b[43mchunked\u001b[49m\u001b[43m,\u001b[49m\n\u001b[1;32m    711\u001b[0m \u001b[43m\u001b[49m\u001b[43m)\u001b[49m\n\u001b[1;32m    713\u001b[0m \u001b[38;5;66;03m# If we're going to release the connection in ``finally:``, then\u001b[39;00m\n\u001b[1;32m    714\u001b[0m \u001b[38;5;66;03m# the response doesn't need to know about the connection. Otherwise\u001b[39;00m\n\u001b[1;32m    715\u001b[0m \u001b[38;5;66;03m# it will also try to release it and we'll have a double-release\u001b[39;00m\n\u001b[1;32m    716\u001b[0m \u001b[38;5;66;03m# mess.\u001b[39;00m\n\u001b[1;32m    717\u001b[0m response_conn \u001b[38;5;241m=\u001b[39m conn \u001b[38;5;28;01mif\u001b[39;00m \u001b[38;5;129;01mnot\u001b[39;00m release_conn \u001b[38;5;28;01melse\u001b[39;00m \u001b[38;5;28;01mNone\u001b[39;00m\n",
      "File \u001b[0;32m~/.local/share/virtualenvs/bookSelection-CcZ7O_He/lib/python3.9/site-packages/urllib3/connectionpool.py:449\u001b[0m, in \u001b[0;36mHTTPConnectionPool._make_request\u001b[0;34m(self, conn, method, url, timeout, chunked, **httplib_request_kw)\u001b[0m\n\u001b[1;32m    444\u001b[0m             httplib_response \u001b[38;5;241m=\u001b[39m conn\u001b[38;5;241m.\u001b[39mgetresponse()\n\u001b[1;32m    445\u001b[0m         \u001b[38;5;28;01mexcept\u001b[39;00m \u001b[38;5;167;01mBaseException\u001b[39;00m \u001b[38;5;28;01mas\u001b[39;00m e:\n\u001b[1;32m    446\u001b[0m             \u001b[38;5;66;03m# Remove the TypeError from the exception chain in\u001b[39;00m\n\u001b[1;32m    447\u001b[0m             \u001b[38;5;66;03m# Python 3 (including for exceptions like SystemExit).\u001b[39;00m\n\u001b[1;32m    448\u001b[0m             \u001b[38;5;66;03m# Otherwise it looks like a bug in the code.\u001b[39;00m\n\u001b[0;32m--> 449\u001b[0m             \u001b[43msix\u001b[49m\u001b[38;5;241;43m.\u001b[39;49m\u001b[43mraise_from\u001b[49m\u001b[43m(\u001b[49m\u001b[43me\u001b[49m\u001b[43m,\u001b[49m\u001b[43m \u001b[49m\u001b[38;5;28;43;01mNone\u001b[39;49;00m\u001b[43m)\u001b[49m\n\u001b[1;32m    450\u001b[0m \u001b[38;5;28;01mexcept\u001b[39;00m (SocketTimeout, BaseSSLError, SocketError) \u001b[38;5;28;01mas\u001b[39;00m e:\n\u001b[1;32m    451\u001b[0m     \u001b[38;5;28mself\u001b[39m\u001b[38;5;241m.\u001b[39m_raise_timeout(err\u001b[38;5;241m=\u001b[39me, url\u001b[38;5;241m=\u001b[39murl, timeout_value\u001b[38;5;241m=\u001b[39mread_timeout)\n",
      "File \u001b[0;32m<string>:3\u001b[0m, in \u001b[0;36mraise_from\u001b[0;34m(value, from_value)\u001b[0m\n",
      "File \u001b[0;32m~/.local/share/virtualenvs/bookSelection-CcZ7O_He/lib/python3.9/site-packages/urllib3/connectionpool.py:444\u001b[0m, in \u001b[0;36mHTTPConnectionPool._make_request\u001b[0;34m(self, conn, method, url, timeout, chunked, **httplib_request_kw)\u001b[0m\n\u001b[1;32m    441\u001b[0m \u001b[38;5;28;01mexcept\u001b[39;00m \u001b[38;5;167;01mTypeError\u001b[39;00m:\n\u001b[1;32m    442\u001b[0m     \u001b[38;5;66;03m# Python 3\u001b[39;00m\n\u001b[1;32m    443\u001b[0m     \u001b[38;5;28;01mtry\u001b[39;00m:\n\u001b[0;32m--> 444\u001b[0m         httplib_response \u001b[38;5;241m=\u001b[39m \u001b[43mconn\u001b[49m\u001b[38;5;241;43m.\u001b[39;49m\u001b[43mgetresponse\u001b[49m\u001b[43m(\u001b[49m\u001b[43m)\u001b[49m\n\u001b[1;32m    445\u001b[0m     \u001b[38;5;28;01mexcept\u001b[39;00m \u001b[38;5;167;01mBaseException\u001b[39;00m \u001b[38;5;28;01mas\u001b[39;00m e:\n\u001b[1;32m    446\u001b[0m         \u001b[38;5;66;03m# Remove the TypeError from the exception chain in\u001b[39;00m\n\u001b[1;32m    447\u001b[0m         \u001b[38;5;66;03m# Python 3 (including for exceptions like SystemExit).\u001b[39;00m\n\u001b[1;32m    448\u001b[0m         \u001b[38;5;66;03m# Otherwise it looks like a bug in the code.\u001b[39;00m\n\u001b[1;32m    449\u001b[0m         six\u001b[38;5;241m.\u001b[39mraise_from(e, \u001b[38;5;28;01mNone\u001b[39;00m)\n",
      "File \u001b[0;32m/opt/homebrew/Cellar/python@3.9/3.9.10/Frameworks/Python.framework/Versions/3.9/lib/python3.9/http/client.py:1377\u001b[0m, in \u001b[0;36mHTTPConnection.getresponse\u001b[0;34m(self)\u001b[0m\n\u001b[1;32m   1375\u001b[0m \u001b[38;5;28;01mtry\u001b[39;00m:\n\u001b[1;32m   1376\u001b[0m     \u001b[38;5;28;01mtry\u001b[39;00m:\n\u001b[0;32m-> 1377\u001b[0m         \u001b[43mresponse\u001b[49m\u001b[38;5;241;43m.\u001b[39;49m\u001b[43mbegin\u001b[49m\u001b[43m(\u001b[49m\u001b[43m)\u001b[49m\n\u001b[1;32m   1378\u001b[0m     \u001b[38;5;28;01mexcept\u001b[39;00m \u001b[38;5;167;01mConnectionError\u001b[39;00m:\n\u001b[1;32m   1379\u001b[0m         \u001b[38;5;28mself\u001b[39m\u001b[38;5;241m.\u001b[39mclose()\n",
      "File \u001b[0;32m/opt/homebrew/Cellar/python@3.9/3.9.10/Frameworks/Python.framework/Versions/3.9/lib/python3.9/http/client.py:320\u001b[0m, in \u001b[0;36mHTTPResponse.begin\u001b[0;34m(self)\u001b[0m\n\u001b[1;32m    318\u001b[0m \u001b[38;5;66;03m# read until we get a non-100 response\u001b[39;00m\n\u001b[1;32m    319\u001b[0m \u001b[38;5;28;01mwhile\u001b[39;00m \u001b[38;5;28;01mTrue\u001b[39;00m:\n\u001b[0;32m--> 320\u001b[0m     version, status, reason \u001b[38;5;241m=\u001b[39m \u001b[38;5;28;43mself\u001b[39;49m\u001b[38;5;241;43m.\u001b[39;49m\u001b[43m_read_status\u001b[49m\u001b[43m(\u001b[49m\u001b[43m)\u001b[49m\n\u001b[1;32m    321\u001b[0m     \u001b[38;5;28;01mif\u001b[39;00m status \u001b[38;5;241m!=\u001b[39m CONTINUE:\n\u001b[1;32m    322\u001b[0m         \u001b[38;5;28;01mbreak\u001b[39;00m\n",
      "File \u001b[0;32m/opt/homebrew/Cellar/python@3.9/3.9.10/Frameworks/Python.framework/Versions/3.9/lib/python3.9/http/client.py:281\u001b[0m, in \u001b[0;36mHTTPResponse._read_status\u001b[0;34m(self)\u001b[0m\n\u001b[1;32m    280\u001b[0m \u001b[38;5;28;01mdef\u001b[39;00m \u001b[38;5;21m_read_status\u001b[39m(\u001b[38;5;28mself\u001b[39m):\n\u001b[0;32m--> 281\u001b[0m     line \u001b[38;5;241m=\u001b[39m \u001b[38;5;28mstr\u001b[39m(\u001b[38;5;28;43mself\u001b[39;49m\u001b[38;5;241;43m.\u001b[39;49m\u001b[43mfp\u001b[49m\u001b[38;5;241;43m.\u001b[39;49m\u001b[43mreadline\u001b[49m\u001b[43m(\u001b[49m\u001b[43m_MAXLINE\u001b[49m\u001b[43m \u001b[49m\u001b[38;5;241;43m+\u001b[39;49m\u001b[43m \u001b[49m\u001b[38;5;241;43m1\u001b[39;49m\u001b[43m)\u001b[49m, \u001b[38;5;124m\"\u001b[39m\u001b[38;5;124miso-8859-1\u001b[39m\u001b[38;5;124m\"\u001b[39m)\n\u001b[1;32m    282\u001b[0m     \u001b[38;5;28;01mif\u001b[39;00m \u001b[38;5;28mlen\u001b[39m(line) \u001b[38;5;241m>\u001b[39m _MAXLINE:\n\u001b[1;32m    283\u001b[0m         \u001b[38;5;28;01mraise\u001b[39;00m LineTooLong(\u001b[38;5;124m\"\u001b[39m\u001b[38;5;124mstatus line\u001b[39m\u001b[38;5;124m\"\u001b[39m)\n",
      "File \u001b[0;32m/opt/homebrew/Cellar/python@3.9/3.9.10/Frameworks/Python.framework/Versions/3.9/lib/python3.9/socket.py:704\u001b[0m, in \u001b[0;36mSocketIO.readinto\u001b[0;34m(self, b)\u001b[0m\n\u001b[1;32m    702\u001b[0m \u001b[38;5;28;01mwhile\u001b[39;00m \u001b[38;5;28;01mTrue\u001b[39;00m:\n\u001b[1;32m    703\u001b[0m     \u001b[38;5;28;01mtry\u001b[39;00m:\n\u001b[0;32m--> 704\u001b[0m         \u001b[38;5;28;01mreturn\u001b[39;00m \u001b[38;5;28;43mself\u001b[39;49m\u001b[38;5;241;43m.\u001b[39;49m\u001b[43m_sock\u001b[49m\u001b[38;5;241;43m.\u001b[39;49m\u001b[43mrecv_into\u001b[49m\u001b[43m(\u001b[49m\u001b[43mb\u001b[49m\u001b[43m)\u001b[49m\n\u001b[1;32m    705\u001b[0m     \u001b[38;5;28;01mexcept\u001b[39;00m timeout:\n\u001b[1;32m    706\u001b[0m         \u001b[38;5;28mself\u001b[39m\u001b[38;5;241m.\u001b[39m_timeout_occurred \u001b[38;5;241m=\u001b[39m \u001b[38;5;28;01mTrue\u001b[39;00m\n",
      "\u001b[0;31mKeyboardInterrupt\u001b[0m: "
     ]
    }
   ],
   "source": [
    "for page in range(int(totalPages)):\n",
    "    currentPage = bookSelection.get_currentPage(driver)\n",
    "    print(\"CurrentPage = \"+str(currentPage))\n",
    "    \n",
    "    ## Crawling List    \n",
    "    searchList = bookSelection.get_searchList(driver)\n",
    "    ## 상세페이지 Crawling\n",
    "    detailInfo = bookSelection.crawling_detailPage(driver, searchList)\n",
    "    \n",
    "    if currentPage != totalPages:\n",
    "        driver.find_element(By.XPATH, \"/html/body/div[2]/div[1]/div[2]/div[3]/div[9]/div[1]/a[3]\").click()\n",
    "    else:\n",
    "        print(\"Complete crawling of all pages!!\")\n",
    "        break\n",
    "    time.sleep(2)"
   ]
  },
  {
   "cell_type": "code",
   "execution_count": null,
   "id": "d57d47f9",
   "metadata": {},
   "outputs": [],
   "source": []
  }
 ],
 "metadata": {
  "kernelspec": {
   "display_name": "py3.9_bookSelection",
   "language": "python",
   "name": "py3.9_bookselection"
  },
  "language_info": {
   "codemirror_mode": {
    "name": "ipython",
    "version": 3
   },
   "file_extension": ".py",
   "mimetype": "text/x-python",
   "name": "python",
   "nbconvert_exporter": "python",
   "pygments_lexer": "ipython3",
   "version": "3.9.10"
  }
 },
 "nbformat": 4,
 "nbformat_minor": 5
}
