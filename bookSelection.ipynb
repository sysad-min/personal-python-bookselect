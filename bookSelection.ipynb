{
 "cells": [
  {
   "cell_type": "code",
   "execution_count": 40,
   "id": "f55fff76",
   "metadata": {},
   "outputs": [],
   "source": [
    "from selenium import webdriver\n",
    "import time"
   ]
  },
  {
   "cell_type": "code",
   "execution_count": 52,
   "id": "410ac59b",
   "metadata": {
    "scrolled": true
   },
   "outputs": [
    {
     "name": "stderr",
     "output_type": "stream",
     "text": [
      "/var/folders/x2/1clgrtts29n5nk00b8b961_w0000gn/T/ipykernel_3201/1696526964.py:1: DeprecationWarning: executable_path has been deprecated, please pass in a Service object\n",
      "  driver = webdriver.Chrome(executable_path='./chromedriver')\n"
     ]
    }
   ],
   "source": [
    "driver = webdriver.Chrome(executable_path='./chromedriver')\n",
    "driver.get(\"http://www.kyobobook.co.kr/index.laf\")"
   ]
  },
  {
   "cell_type": "code",
   "execution_count": 53,
   "id": "1a17628f",
   "metadata": {},
   "outputs": [
    {
     "name": "stderr",
     "output_type": "stream",
     "text": [
      "/var/folders/x2/1clgrtts29n5nk00b8b961_w0000gn/T/ipykernel_3201/3239213104.py:2: DeprecationWarning: find_element_by_* commands are deprecated. Please use find_element() instead\n",
      "  search_input = driver.find_element_by_xpath('/html/body/div[4]/div[1]/div[1]/div[1]/form[2]/div/div/input')\n",
      "/var/folders/x2/1clgrtts29n5nk00b8b961_w0000gn/T/ipykernel_3201/3239213104.py:4: DeprecationWarning: find_element_by_* commands are deprecated. Please use find_element() instead\n",
      "  driver.find_element_by_xpath('/html/body/div[4]/div[1]/div[1]/div[1]/form[2]/div/input').click()\n"
     ]
    }
   ],
   "source": [
    "driver.implicitly_wait(time_to_wait=10)\n",
    "search_input = driver.find_element_by_xpath('/html/body/div[4]/div[1]/div[1]/div[1]/form[2]/div/div/input')\n",
    "search_input.send_keys('python')\n",
    "driver.find_element_by_xpath('/html/body/div[4]/div[1]/div[1]/div[1]/form[2]/div/input').click()\n",
    "driver.implicitly_wait(time_to_wait=10)"
   ]
  },
  {
   "cell_type": "code",
   "execution_count": 55,
   "id": "19cecea4",
   "metadata": {},
   "outputs": [],
   "source": [
    "keys_url=driver.current_url"
   ]
  },
  {
   "cell_type": "code",
   "execution_count": 56,
   "id": "74f96a09",
   "metadata": {},
   "outputs": [
    {
     "data": {
      "text/plain": [
       "'https://search.kyobobook.co.kr/web/search?vPstrKeyWord=python&orderClick=LAG'"
      ]
     },
     "execution_count": 56,
     "metadata": {},
     "output_type": "execute_result"
    }
   ],
   "source": [
    "keys_url"
   ]
  },
  {
   "cell_type": "code",
   "execution_count": 51,
   "id": "170996e5",
   "metadata": {},
   "outputs": [],
   "source": [
    "driver.quit()"
   ]
  },
  {
   "cell_type": "code",
   "execution_count": null,
   "id": "2d6723e8",
   "metadata": {},
   "outputs": [],
   "source": []
  }
 ],
 "metadata": {
  "kernelspec": {
   "display_name": "py3.9_bookSelection",
   "language": "python",
   "name": "py3.9_bookselection"
  },
  "language_info": {
   "codemirror_mode": {
    "name": "ipython",
    "version": 3
   },
   "file_extension": ".py",
   "mimetype": "text/x-python",
   "name": "python",
   "nbconvert_exporter": "python",
   "pygments_lexer": "ipython3",
   "version": "3.9.10"
  }
 },
 "nbformat": 4,
 "nbformat_minor": 5
}
