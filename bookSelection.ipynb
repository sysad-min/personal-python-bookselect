{
 "cells": [
  {
   "cell_type": "code",
   "execution_count": 1,
   "id": "f55fff76",
   "metadata": {},
   "outputs": [],
   "source": [
    "from selenium import webdriver\n",
    "from selenium.webdriver.common.by import By\n",
    "from selenium.webdriver.chrome.service import Service\n",
    "from selenium.webdriver.chrome.options import Options\n",
    "from webdriver_manager.chrome import ChromeDriverManager\n",
    "import time"
   ]
  },
  {
   "cell_type": "code",
   "execution_count": 2,
   "id": "3d4e3702",
   "metadata": {},
   "outputs": [],
   "source": [
    "class BookSelection:\n",
    "    if __name__ == \"__main__\":\n",
    "        def __init__(self, url, search_keywords):\n",
    "            self.url = url\n",
    "            self.search_keywords = search_keywords\n",
    "\n",
    "        def set_drivers(self):\n",
    "            try:\n",
    "                service = Service(executable_path=ChromeDriverManager().install())\n",
    "                options = Options()\n",
    "                # 참고 = https://codingstep.tistory.com/entry/%ED%8C%8C%EC%9D%B4%EC%8D%AC-%EC%85%80%EB%A0%88%EB%8B%88%EC%9B%80-%ED%81%AC%EB%A1%AC-%EC%98%B5%EC%85%98-python-selenium-chrome-optionsFeat-headless-window-size-user-agent-etc\n",
    "                #지정한 user-agent로 설정합니다.\n",
    "#                 user_agent = \"Mozilla/5.0 (Linux; Android 9; SM-G975F) AppleWebKit/537.36 (KHTML, like Gecko) Chrome/71.0.3578.83 Mobile Safari/537.36\"\n",
    "#                 options.add_argument('user-agent=' + user_agent)\n",
    "#                 options.add_argument('headless') #headless모드 브라우저가 뜨지 않고 실행됩니다.\n",
    "#                 options.add_argument('--window-size= x, y') #실행되는 브라우저 크기를 지정할 수 있습니다.\n",
    "#                 options.add_argument('--start-maximized') #브라우저가 최대화된 상태로 실행됩니다.\n",
    "#                 options.add_argument('--start-fullscreen') #브라우저가 풀스크린 모드(F11)로 실행됩니다.\n",
    "#                 options.add_argument('--blink-settings=imagesEnabled=false') #브라우저에서 이미지 로딩을 하지 않습니다.\n",
    "#                 options.add_argument('--mute-audio') #브라우저에 음소거 옵션을 적용합니다.\n",
    "#                 options.add_argument('incognito') #시크릿 모드의 브라우저가 실행됩니다.\n",
    "                driver = webdriver.Chrome(service=service, options=options)  ##버전에 상관없이 현재 OS에 설치된 크롬브라우저 사용\n",
    "                return driver\n",
    "            except Exception as e:\n",
    "                print(e)\n",
    "        \n",
    "        def get_url(self, driver):\n",
    "            try:\n",
    "                driver.get(self.url)\n",
    "                driver.implicitly_wait(time_to_wait=10)\n",
    "            except Exception as e:\n",
    "                print(e)\n",
    "                driver.quit()\n",
    "                \n",
    "        def get_searchKeywords(self, driver):\n",
    "            try:\n",
    "                search_input = driver.find_element(By.XPATH, \"/html/body/div[4]/div[1]/div[1]/div[1]/form[2]/div/div/input\")\n",
    "                search_input.send_keys(self.search_keywords)\n",
    "                driver.find_element(By.XPATH, \"/html/body/div[4]/div[1]/div[1]/div[1]/form[2]/div/input\").click()\n",
    "                driver.implicitly_wait(time_to_wait=10)\n",
    "            except Exception as e:\n",
    "                print(e)\n",
    "                driver.quit()\n",
    "            \n",
    "    else:\n",
    "        exit()"
   ]
  },
  {
   "cell_type": "code",
   "execution_count": 3,
   "id": "4e189b14",
   "metadata": {
    "scrolled": true
   },
   "outputs": [
    {
     "name": "stderr",
     "output_type": "stream",
     "text": [
      "\n",
      "\n",
      "====== WebDriver manager ======\n",
      "Current google-chrome version is 97.0.4692\n",
      "Get LATEST chromedriver version for 97.0.4692 google-chrome\n",
      "Driver [/Users/administrator/.wdm/drivers/chromedriver/mac64/97.0.4692.71/chromedriver] found in cache\n"
     ]
    }
   ],
   "source": [
    "bookSelection = BookSelection(\"http://www.kyobobook.co.kr/\", \"python\")\n",
    "driver = bookSelection.set_drivers()\n",
    "bookSelection.get_url(driver)\n",
    "bookSelection.get_searchKeywords(driver)"
   ]
  },
  {
   "cell_type": "code",
   "execution_count": 4,
   "id": "74f96a09",
   "metadata": {
    "scrolled": true
   },
   "outputs": [],
   "source": [
    "searchTabList = driver.find_element(By.XPATH, \"/html/body/div[2]/div[1]/div[2]/div[3]/div[1]/ul\").text.split('\\n')\n",
    "subTabList = driver.find_element(By.XPATH, \"/html/body/div[2]/div[1]/div[2]/div[3]/div[2]/ul\").text.split('\\n')\n",
    "categoryList = driver.find_element(By.XPATH, \"/html/body/div[2]/div[1]/div[2]/div[3]/div[3]/table/tbody/tr[1]/td/ul\").text.split('\\n')"
   ]
  },
  {
   "cell_type": "code",
   "execution_count": 5,
   "id": "71159bb1",
   "metadata": {},
   "outputs": [
    {
     "name": "stdout",
     "output_type": "stream",
     "text": [
      "['상품(5,290)', '중고장터(515)', '스토리K(25)', '리뷰(1,262)', '책소개.목차(3,400)']\n",
      "['전체 5,290', '국내도서 1,157', '외국도서 3,596', 'eBook 500', 'sam 90', '음반/영상 37', '기프트 0']\n",
      "['컴퓨터/IT 1,111', '어린이(초등) 11', '경제/경영 11', '과학 7', '청소년 3', '정치/사회 3', '취업/수험서 2', '자기계발 2']\n"
     ]
    }
   ],
   "source": [
    "print(searchTabList)\n",
    "print(subTabList)\n",
    "print(categoryList)"
   ]
  },
  {
   "cell_type": "code",
   "execution_count": 6,
   "id": "a7c9807e",
   "metadata": {},
   "outputs": [],
   "source": [
    "driver.find_element(By.XPATH, \"/html/body/div[2]/div[1]/div[2]/div[3]/div[6]/div[2]/span[2]\").click()\n",
    "driver.implicitly_wait(3)"
   ]
  },
  {
   "cell_type": "code",
   "execution_count": 7,
   "id": "79c02d8e",
   "metadata": {},
   "outputs": [],
   "source": [
    "driver.find_element(By.XPATH, \"/html/body/div[2]/div[1]/div[2]/div[3]/div[6]/div[2]/span[2]/ul/li[3]\").click()\n",
    "driver.implicitly_wait(10)"
   ]
  },
  {
   "cell_type": "code",
   "execution_count": 8,
   "id": "1e3476a9",
   "metadata": {},
   "outputs": [],
   "source": [
    "result = driver.find_element(By.ID, \"search_list\")\n",
    "time.sleep(3)"
   ]
  },
  {
   "cell_type": "markdown",
   "id": "9e213c37",
   "metadata": {},
   "source": [
    "## 내부 구조 파악 필요"
   ]
  },
  {
   "cell_type": "code",
   "execution_count": 9,
   "id": "03d5aafd",
   "metadata": {},
   "outputs": [
    {
     "name": "stdout",
     "output_type": "stream",
     "text": [
      "{'icon': '', 'title': '혼자 공부하는 파이썬 파이썬 최신 버전 반영', 'author': '윤인성 지음 | 한빛미디어 | 2019년 06월 10일 출간', 'review': 'Klover\\n총 4 중\\n4 9.6 (리뷰 216개)\\n클로버 리뷰쓰기', 'rank': '국내도서 주간베스트 242위 | 컴퓨터/IT 주간베스트 10위 교보문고 베스트셀러', 'book_keyword': '프로그래밍, 딕셔너리, 반 복문, 메소드, 리스트, 자습서', 'content': '도서·상품정보 1:1 문의하기\\nISBN 9791162241882(1162241888)\\n쪽수 460쪽\\n크기 188 * 258 * 28 mm /1001g 판형알림\\n책소개\\n이 책이 속한 분야\\n컴퓨터/IT > 프로그래밍 언어 > Python(파이썬)\\n컴퓨터/IT > 대학교재\\n대학교재 > 컴퓨터\\n이 책의 주제어\\n#프로그래밍 #자습서 #입문자 #손코딩 #전공자\\n\\n혼자 해도 충분하다! 1:1 과외하듯 배우는 파이썬 프로그래밍 자습서(파이썬 최신 버전 반영)\\n27명의 베타리더 검증으로, ‘함께 만든’ 입문자 맞춤형 도서\\n이 책은 독학으로 프로그래밍 언어를 처음 배우려는 입문자가, 혹은 파이썬을 배우려는 입문자가 ‘꼭 필요한 내용을 제대로’ 학습할 수 있도록 구성했다. ‘무엇을’, ‘어떻게’ 학습해야 할지조차 모르는 입문자의 막연한 마음을 살펴, 과외 선생님이 알려주듯 친절하게, 그러나 핵심적인 내용만 콕콕 집어준다. 책의 첫 페이지를 펼쳐서 마지막 페이지를 덮을 때까지, 혼자서도 충분히 파이썬을 배울 수 있다는 자신감과 확신이 계속될 것이다!\\n\\n27명의 베타리더와 함께 구성하여 입문자에게 맞는 난이도, 분량, 학습 요소 등을 적극 반영했다. 어려운 용어와 개념은 한번 더 풀어 쓰고, 복잡한 설명은 눈에 잘 들어오는 그림으로 풀어 냈다. ‘혼자 공부해본’ 여러 입문자의 초심과 눈높이가 책 곳곳에 반영된 것이 이 책의 가장 큰 장점이다.\\n상세이미지\\n\\n저자소개\\n저자 : 윤인성\\n작가 정보 관심작가 등록\\n프로그래머 번역가/통역사＞일본어\\n어쩌다가 책을 집필/번역하기 시작해서 지금까지 계속해서 집필/번역하고 있다. 현재 직업 특성상 집에서 나갈 이유가 없다는 것에 매우 만족하고 있다. 커피와 홍차를 즐겨 마신다. 요리, 피아노... 더보기\\n\\n윤인성의 다른 작품\\n이펙티브 코틀린(프로그래밍인사이트)\\n25,200원\\n자바스크립트 프로그래밍 입문(2판)(IT CookBook)\\n27,000원\\n파이썬 매일 코딩\\n19,800원\\n프로그래밍 대회 공략을 위한 알고리즘과 자료 구조 입문\\n28,800원\\n\\n목차\\nChapter 01 파이썬 시작하기\\n01-1 파이썬을 하기 전에 읽는 아주 간단한 설명\\n컴퓨터 프로그램\\n프로그래밍 언어\\n프로그래밍 언어, 파이썬\\n파이썬이 인기 있는 이유\\n3가지 키워드로 정리하는 핵심 포인트\\n확인문제\\n01-2 파이썬을 배우기 위해 준비해야 할 것들\\n파이썬 설치하기\\n파이썬 실행하기: 파이썬 인터렉티브 셸\\n텍스트 에디터 사용하기(1): 파이썬 IDLE 에디터\\n텍스트 에디터 사용하기(2): 비주얼 스튜디오 코드\\n4가지 키워드로 정리하는 핵심 포인트\\n확인문제\\n01-3 이 책에서 자주 나오는 파이썬 용어들\\n표현식과 문장\\n키워드\\n식별자\\n주석\\n연산자와 자료\\n출력: print()\\n5가지 키워드로 정리하는 핵심 포인트\\n확인문제\\n\\nChapter 02 자료형\\n02-1 자료형과 문자열\\n자료형과 기본 자료형\\n문자열 만들기 08\\n문자열 연산자\\n문자열의 길이 구하기\\n5가지 키워드로 정리하는 핵심 포인트\\n확인문제\\n02-2 숫자\\n숫자의 종류\\n숫자 연산자\\n연산자 우선순위\\n[좀 더 알아보기] 문자열 연산자의 우선순위\\n4가지 키워드로 정리하는 핵심 포인트\\n확인문제\\n02-3 변수와 입력\\n변수 만들기/사용하기\\n복합 대입 연산자\\n사용자 입력: input()\\n문자열을 숫자로 바꾸기\\n숫자를 문자열로 바꾸기\\n7가지 키워드로 정리하는 핵심 포인트\\n확인문제\\n02-4 숫자와 문자열의 다양한 기능\\n문자열의 format() 함수\\nformat() 함수의 다양한 기능\\n대소문자 바꾸기: upper()와 lower()\\n문자열 양옆의 공백 제거하기: strip()\\n문자열의 구성 파악하기: isOO()\\n문자열 찾기: find()와 rfind()\\n문자열과 in 연산자\\n문자열 자르기: split()\\n7가지 키워드로 정리하는 핵심 포인트\\n확인문제\\n\\nChapter 03 조건문\\n03-1 불 자료형과 if 조건문\\n불 만들기: 비교 연산자\\n불 연산하기: 논리 연산자\\n논리 연산자의 활용\\nif 조건문이란?\\n날짜/시간 활용하기\\n컴퓨터의 조건\\n4가지 키워드로 정리하는 핵심 포인트\\n확인문제\\n03-2 if~else와 elif 구문\\nelse 조건문의 활용\\nelif 구문\\nif 조건문을 효율적으로 사용하기\\nFalse로 변환되는 값\\npass 키워드\\n[좀 더 알아보기] raise NotImplementError\\n4가지 키워드로 정리하는 핵심 포인트\\n확인문제\\n\\nChapter 04 반복문\\n04-1 리스트와 반복문\\n리스트 선언하고 요소에 접근하기\\n리스트 연산자: 연결(+), 반복(*), len()\\n리스트에 요소 추가하기: append, insert\\n리스트에 요소 제거하기\\n리스트 내부에 있는지 확인하기: in/not in 연산자\\nfor 반복문\\nfor 반복문: 리스트와 함께 사용하기\\n4가지 키워드로 정리하는 핵심 포인트\\n확인문제\\n04-2 딕셔너리와 반복문\\n딕셔너리 선언하기\\n딕셔너리의 요소에 접근하기\\n딕셔너리에 값 추가하기/제거하기\\n딕셔너리 내부에 키가 있는지 확인하기\\nfor 반복문: 딕셔너리와 함께 사용하기\\n3가지 키워드로 정리하는 핵심 포인트\\n확인문제\\n04-3 반복문과 while 반복문\\n범위\\nfor 반복문: 범위와 함께 사용하기\\nfor 반복문: 리스트와 범위 조합하기\\nfor 반복문: 반대로 반복하기\\nwhile 반복문\\nwhile 반복문: for 반복문처럼 사용하기\\nwhile 반복문: 상태를 기반으로 반복하기\\nwhile 반복문: 시간을 기반으로 반복하기\\nwhile 반복문: break 키워드/continue 키워드\\n4가지 키워드로 정리하는 핵심 포인트\\n확인문제\\n04-4 문자열, 리스트, 딕셔너리와 관련된 기본 함수\\n리스트에 적용할 수 있는 기본 함수: min(), max(), sum()\\nreversed() 함수로 리스트 뒤집기\\nenumerate() 함수와 반복문 조합하기\\n딕셔너리의 items() 함수와 반복문 조합하기\\n리스트 내포\\n[좀 더 알아보기] 구문 내부에 여러 줄 문자열을 사용했을 때의 문제점\\n[좀 더 알아보기] 이터레이터\\n3가지 키워드로 정리하는 핵심 포인트\\n확인문제\\n\\nChapter 05 함수\\n05-1 함수 만들기\\n함수의 기본\\n함수에 매개변수 만들기\\n가변 매개변수\\n기본 매개변수\\n키워드 매개변수\\n리턴\\n기본적인 함수의 활용\\n5가지 키워드로 정리하는 핵심 포인트\\n확인문제\\n05-2 함수의 활용\\n재귀 함수\\n재귀 함수의 문제\\n조기 리턴\\n[좀 더 알아보기] 코드에 이름 붙이기\\n[좀 더 알아보기] 코드 유지보수\\n3가지 키워드로 정리하는 핵심 포인트\\n확인문제\\n05-3 함수 고급\\n튜플\\n람다\\n파일 처리\\n[좀 더 알아보기] 혼자 공부하는 파이썬 프로그래밍\\n[좀 더 알아보기] 제너레이터\\n3가지 키워드로 정리하는 핵심 포인트\\n확인문제\\n\\nChapter 06 예외 처리\\n06-1 구문 오류와 예외\\n오류의 종류\\n기본 예외 처리\\ntry except 구문\\ntry except else 구문\\nfinally 구문\\n4가지 키워드로 정리하는 핵심 포인트\\n확인문제\\n06-2 예외 고급\\n예외 객체\\n예외 구분하기\\n모든 예외 잡기\\nraise 구문\\n[좀 더 알아보기] 코드 살펴보기\\n3가지 키워드로 정리하는 핵심 포인트\\n확인문제\\n\\nChapter 07 모듈\\n07-1 표준 모듈\\n모듈 사용의 기본: math 모듈\\nrandom 모듈\\nsys 모듈\\nos 모듈\\ndatetime 모듈\\ntime 모듈\\nurllib 모듈\\n4가지 키워드로 정리하는 핵심 포인트\\n확인문제\\n07-2 외부 모듈\\n모듈 설치하기\\n모듈 찾아보기\\nBeautifulSoup 모듈\\nFlask 모듈\\n라이브러리와 프레임워크\\n[좀 더 알아보기] 함수 데코레이터\\n5가지 키워드로 정리하는 핵심 포인트\\n확인문제\\n07-3 모듈 만들기\\n모듈 만들기\\n패키지\\n[좀 더 알아보기] 텍스트 데이터\\n[좀 더 알아보기] 바이너리 데이터\\n3가지 키워드로 정리하는 핵심 포인트\\n모듈을 분석하는 방법\\n\\nChapter 08 클래스\\n08-1 클래스의 기본\\n객체\\n클래스 선언하기\\n생성자\\n메소드\\n7가지 키워드로 정리하는 핵심 포인트\\n확인문제\\n08-2 클래스의 추가적인 구문\\n어떤 클래스의 인스턴스인지 확인하기\\n특수한 이름의 메소드\\n클래스 변수와 메소드\\n[좀 더 알아보기] 가비지 컬렉터\\n[좀 더 알아보기] 프라이빗 변수와 게터/세터\\n[좀 더 알아보기] 상속\\n4가지 키워드로 정리하는 핵심 포인트\\n확인문제\\n\\n정답\\n찾아보기\\n출판사 서평\\n[어떤 독자를 위한 책인가?]\\n\\nㆍ 파이썬 언어가 처음인 전공자\\nㆍ 파이썬 공부를 시도했지만 여전히 아쉬움이 있는 전공자\\nㆍ 개발자로 취업 혹은 이직을 준비하고 있는 일반인\\nㆍ 프로그래밍에 관심이 생긴 일반인\\nㆍ 전 분야에서 일어나는 학문/업무의 융합으로 인해 소프트웨어적 사고와 프로그래밍 이해도가 필요한 일반인\\n\\n[이 책의 특징]\\n\\n하나, 탄탄한 학습 설계 : ‘입문자 맞춤형 7단계 구성’을 따라가며 체계적으로 반복 학습한다\\n이 책은 파이썬의 핵심 내용을 7단계에 걸쳐 반복 학습하면서 자연스럽게 머릿속에 기억되도록 구성했다. 모든 절에서 [핵심 키워드]와 [시작하기 전에]를 통해 각 절의 주제에 대한 대표 개념을 워밍업한 후, 본격적인 파이썬의 핵심 이론과 실습을 거쳐 마무리에서는 [핵심 포인트]와 [확인문제]로 한번에 복습한다. ‘혼자 공부할 수 있는’ 커리큘럼을 그대로 믿고 끝까지 따라가다 보면 프로그래밍 공부가 난생 처음인 파이썬 입문자도 무리 없이 책을 끝까지 마칠 수 있다!\\n\\n둘, 핵심 문법은 ‘눈코딩’으로 가볍게 익히고, 실전 감각은 154개 직접 해보는 ‘손코딩’으로 제대로 익힌다\\n핵심 문법과 이론적 설명은 두 눈과 머리로 술술 읽으며 넘어가고, 파이썬 코딩의 실전 감각은 직접 해보며 익히도록 154개의 엄선된 실습 예제를 담았다. 반복 학습과 연습이 가장 필수적인 입문자들도 직접 입력하고 실행하면서 책에 담긴 코드를 ‘나의 코드’로 만들 수 있다.\\n\\n셋, ‘혼공’의 힘을 실어줄 동영상 강의, 학습 사이트 지원\\nhttp://hongong.hanbit.co.kr\\n책으로만 학습하기엔 여전히 어려운 입문자를 위해 저자 직강 동영상도 지원한다. 또 학습을 하며 궁금한 사항은 언제든 질문할 수 있도록 학습 사이트를 제공한다. 저자가 질문 하나하나 직접 답변을 달아주고 있으며, 파이썬 관련 최신 기술과 정보도 공유한다. 게다가 혼자 공부하는 그 길에 함께 공부하기를 원하는 사람들의 모임인 혼공 학습단을 운영하여 마지막까지 포기하지 않고 독자가 완주할 수 있도록 최대한 지원하고 있다.\\n\\n넷, 언제 어디서든 가볍게 볼 수 있는 혼공 필수 [용어 노트] 제공\\n꼭 기억해야 할 핵심 개념과 용어만 따로 정리한 [용어 노트]를 제공한다. 처음 하는 사람들에게 프로그래밍 공부가 어려운 이유는 낯선 용어 때문이라는 것을 베타 리더를 통해 확인했고, 어려운 것이 아니라 익숙하지 않아서 헷갈리는 것이므로 잘 생각나지 않을 때는 언제든 부담 없이 펼쳐보자. 제시된 용어 외에도 새로운 용어를 추가하면서 자신만의 용어 노트를 완성해가는 것도 또 다른 재미가 될 것이다.\\n\\n[추천사]\\n\\nㆍ 학습자가 초기에 지치지 않고 끝까지 학습을 이어갈 수 있는 단계별 난이도 구성이 좋았습니다. _ 김민철 님\\nㆍ 파이썬을 처음 접하는 초보자인데, 책과 강의를 함께 이용하니 큰 효과를 얻을 수 있었습니다. _ 신세범 님\\nㆍ 각 절의 도입 부분에 〈핵심 키워드〉와 〈준비하기 전에〉로 주요 내용을 정리해 둔 부분이 좋았습니다. _ 김선수 님\\nㆍ 누구나 막힘 없이 술술 읽어 내려갈 수 있을 정도로 친절한 책입니다. 집필하신 분의 역량이 느껴지는 부분이었죠. _ 김진영 님\\nㆍ 막상 문제를 풀려고 하면 기억이 잘 안 나는데 핵심 포인트를 정리해 주니 문법도 저절로 기억되고 문제도 술술 풀려서 좋았습니다. _ 정재인 님\\nㆍ 소스 코드에 대해 상세히 설명해 주니 다른 레퍼런스가 필요 없었습니다. _ 허민 님 닫기\\n'}\n"
     ]
    },
    {
     "ename": "ElementClickInterceptedException",
     "evalue": "Message: element click intercepted: Element <a href=\"#\" class=\"btn_small btn_more\">...</a> is not clickable at point (780, 14). Other element would receive the click: <a href=\"#guide\">...</a>\n  (Session info: chrome=97.0.4692.99)\nStacktrace:\n0   chromedriver                        0x000000010145de69 chromedriver + 5160553\n1   chromedriver                        0x00000001013e8593 chromedriver + 4679059\n2   chromedriver                        0x0000000100f9c2c8 chromedriver + 172744\n3   chromedriver                        0x0000000100fd8f6b chromedriver + 421739\n4   chromedriver                        0x0000000100fd6baf chromedriver + 412591\n5   chromedriver                        0x0000000100fd4350 chromedriver + 402256\n6   chromedriver                        0x0000000100fd316b chromedriver + 397675\n7   chromedriver                        0x0000000100fc6d19 chromedriver + 347417\n8   chromedriver                        0x0000000100fef362 chromedriver + 512866\n9   chromedriver                        0x0000000100fc65b5 chromedriver + 345525\n10  chromedriver                        0x0000000100fef67e chromedriver + 513662\n11  chromedriver                        0x00000001010020ab chromedriver + 589995\n12  chromedriver                        0x0000000100fef623 chromedriver + 513571\n13  chromedriver                        0x0000000100fc4dce chromedriver + 339406\n14  chromedriver                        0x0000000100fc6105 chromedriver + 344325\n15  chromedriver                        0x000000010141923e chromedriver + 4878910\n16  chromedriver                        0x0000000101430d17 chromedriver + 4975895\n17  chromedriver                        0x0000000101436a3f chromedriver + 4999743\n18  chromedriver                        0x000000010143161a chromedriver + 4978202\n19  chromedriver                        0x000000010140dbb1 chromedriver + 4832177\n20  chromedriver                        0x000000010144dfd8 chromedriver + 5095384\n21  chromedriver                        0x000000010144e161 chromedriver + 5095777\n22  chromedriver                        0x00000001014652a8 chromedriver + 5190312\n23  libsystem_pthread.dylib             0x00007ff8028214f4 _pthread_start + 125\n24  libsystem_pthread.dylib             0x00007ff80281d00f thread_start + 15\n",
     "output_type": "error",
     "traceback": [
      "\u001b[0;31m---------------------------------------------------------------------------\u001b[0m",
      "\u001b[0;31mElementClickInterceptedException\u001b[0m          Traceback (most recent call last)",
      "Input \u001b[0;32mIn [9]\u001b[0m, in \u001b[0;36m<module>\u001b[0;34m\u001b[0m\n\u001b[1;32m     32\u001b[0m                 num\u001b[38;5;241m+\u001b[39m\u001b[38;5;241m=\u001b[39m\u001b[38;5;241m1\u001b[39m\n\u001b[1;32m     33\u001b[0m                 \u001b[38;5;28;01mif\u001b[39;00m aTag\u001b[38;5;241m.\u001b[39mget_attribute(\u001b[38;5;124m\"\u001b[39m\u001b[38;5;124mclass\u001b[39m\u001b[38;5;124m\"\u001b[39m) \u001b[38;5;241m==\u001b[39m \u001b[38;5;124m\"\u001b[39m\u001b[38;5;124mbtn_small btn_more\u001b[39m\u001b[38;5;124m\"\u001b[39m \u001b[38;5;129;01mand\u001b[39;00m aTag\u001b[38;5;241m.\u001b[39mtext \u001b[38;5;241m==\u001b[39m \u001b[38;5;124m\"\u001b[39m\u001b[38;5;124m더보기\u001b[39m\u001b[38;5;124m\"\u001b[39m:\n\u001b[0;32m---> 34\u001b[0m                     \u001b[43maTag\u001b[49m\u001b[38;5;241;43m.\u001b[39;49m\u001b[43mclick\u001b[49m\u001b[43m(\u001b[49m\u001b[43m)\u001b[49m\n\u001b[1;32m     35\u001b[0m \u001b[38;5;66;03m#                     print(\"click\")\u001b[39;00m\n\u001b[1;32m     36\u001b[0m     \u001b[38;5;28;01mfor\u001b[39;00m content \u001b[38;5;129;01min\u001b[39;00m contents:\n",
      "File \u001b[0;32m~/.local/share/virtualenvs/bookSelection-CcZ7O_He/lib/python3.9/site-packages/selenium/webdriver/remote/webelement.py:81\u001b[0m, in \u001b[0;36mWebElement.click\u001b[0;34m(self)\u001b[0m\n\u001b[1;32m     79\u001b[0m \u001b[38;5;28;01mdef\u001b[39;00m \u001b[38;5;21mclick\u001b[39m(\u001b[38;5;28mself\u001b[39m) \u001b[38;5;241m-\u001b[39m\u001b[38;5;241m>\u001b[39m \u001b[38;5;28;01mNone\u001b[39;00m:\n\u001b[1;32m     80\u001b[0m     \u001b[38;5;124;03m\"\"\"Clicks the element.\"\"\"\u001b[39;00m\n\u001b[0;32m---> 81\u001b[0m     \u001b[38;5;28;43mself\u001b[39;49m\u001b[38;5;241;43m.\u001b[39;49m\u001b[43m_execute\u001b[49m\u001b[43m(\u001b[49m\u001b[43mCommand\u001b[49m\u001b[38;5;241;43m.\u001b[39;49m\u001b[43mCLICK_ELEMENT\u001b[49m\u001b[43m)\u001b[49m\n",
      "File \u001b[0;32m~/.local/share/virtualenvs/bookSelection-CcZ7O_He/lib/python3.9/site-packages/selenium/webdriver/remote/webelement.py:710\u001b[0m, in \u001b[0;36mWebElement._execute\u001b[0;34m(self, command, params)\u001b[0m\n\u001b[1;32m    708\u001b[0m     params \u001b[38;5;241m=\u001b[39m {}\n\u001b[1;32m    709\u001b[0m params[\u001b[38;5;124m'\u001b[39m\u001b[38;5;124mid\u001b[39m\u001b[38;5;124m'\u001b[39m] \u001b[38;5;241m=\u001b[39m \u001b[38;5;28mself\u001b[39m\u001b[38;5;241m.\u001b[39m_id\n\u001b[0;32m--> 710\u001b[0m \u001b[38;5;28;01mreturn\u001b[39;00m \u001b[38;5;28;43mself\u001b[39;49m\u001b[38;5;241;43m.\u001b[39;49m\u001b[43m_parent\u001b[49m\u001b[38;5;241;43m.\u001b[39;49m\u001b[43mexecute\u001b[49m\u001b[43m(\u001b[49m\u001b[43mcommand\u001b[49m\u001b[43m,\u001b[49m\u001b[43m \u001b[49m\u001b[43mparams\u001b[49m\u001b[43m)\u001b[49m\n",
      "File \u001b[0;32m~/.local/share/virtualenvs/bookSelection-CcZ7O_He/lib/python3.9/site-packages/selenium/webdriver/remote/webdriver.py:424\u001b[0m, in \u001b[0;36mWebDriver.execute\u001b[0;34m(self, driver_command, params)\u001b[0m\n\u001b[1;32m    422\u001b[0m response \u001b[38;5;241m=\u001b[39m \u001b[38;5;28mself\u001b[39m\u001b[38;5;241m.\u001b[39mcommand_executor\u001b[38;5;241m.\u001b[39mexecute(driver_command, params)\n\u001b[1;32m    423\u001b[0m \u001b[38;5;28;01mif\u001b[39;00m response:\n\u001b[0;32m--> 424\u001b[0m     \u001b[38;5;28;43mself\u001b[39;49m\u001b[38;5;241;43m.\u001b[39;49m\u001b[43merror_handler\u001b[49m\u001b[38;5;241;43m.\u001b[39;49m\u001b[43mcheck_response\u001b[49m\u001b[43m(\u001b[49m\u001b[43mresponse\u001b[49m\u001b[43m)\u001b[49m\n\u001b[1;32m    425\u001b[0m     response[\u001b[38;5;124m'\u001b[39m\u001b[38;5;124mvalue\u001b[39m\u001b[38;5;124m'\u001b[39m] \u001b[38;5;241m=\u001b[39m \u001b[38;5;28mself\u001b[39m\u001b[38;5;241m.\u001b[39m_unwrap_value(\n\u001b[1;32m    426\u001b[0m         response\u001b[38;5;241m.\u001b[39mget(\u001b[38;5;124m'\u001b[39m\u001b[38;5;124mvalue\u001b[39m\u001b[38;5;124m'\u001b[39m, \u001b[38;5;28;01mNone\u001b[39;00m))\n\u001b[1;32m    427\u001b[0m     \u001b[38;5;28;01mreturn\u001b[39;00m response\n",
      "File \u001b[0;32m~/.local/share/virtualenvs/bookSelection-CcZ7O_He/lib/python3.9/site-packages/selenium/webdriver/remote/errorhandler.py:247\u001b[0m, in \u001b[0;36mErrorHandler.check_response\u001b[0;34m(self, response)\u001b[0m\n\u001b[1;32m    245\u001b[0m         alert_text \u001b[38;5;241m=\u001b[39m value[\u001b[38;5;124m'\u001b[39m\u001b[38;5;124malert\u001b[39m\u001b[38;5;124m'\u001b[39m]\u001b[38;5;241m.\u001b[39mget(\u001b[38;5;124m'\u001b[39m\u001b[38;5;124mtext\u001b[39m\u001b[38;5;124m'\u001b[39m)\n\u001b[1;32m    246\u001b[0m     \u001b[38;5;28;01mraise\u001b[39;00m exception_class(message, screen, stacktrace, alert_text)  \u001b[38;5;66;03m# type: ignore[call-arg]  # mypy is not smart enough here\u001b[39;00m\n\u001b[0;32m--> 247\u001b[0m \u001b[38;5;28;01mraise\u001b[39;00m exception_class(message, screen, stacktrace)\n",
      "\u001b[0;31mElementClickInterceptedException\u001b[0m: Message: element click intercepted: Element <a href=\"#\" class=\"btn_small btn_more\">...</a> is not clickable at point (780, 14). Other element would receive the click: <a href=\"#guide\">...</a>\n  (Session info: chrome=97.0.4692.99)\nStacktrace:\n0   chromedriver                        0x000000010145de69 chromedriver + 5160553\n1   chromedriver                        0x00000001013e8593 chromedriver + 4679059\n2   chromedriver                        0x0000000100f9c2c8 chromedriver + 172744\n3   chromedriver                        0x0000000100fd8f6b chromedriver + 421739\n4   chromedriver                        0x0000000100fd6baf chromedriver + 412591\n5   chromedriver                        0x0000000100fd4350 chromedriver + 402256\n6   chromedriver                        0x0000000100fd316b chromedriver + 397675\n7   chromedriver                        0x0000000100fc6d19 chromedriver + 347417\n8   chromedriver                        0x0000000100fef362 chromedriver + 512866\n9   chromedriver                        0x0000000100fc65b5 chromedriver + 345525\n10  chromedriver                        0x0000000100fef67e chromedriver + 513662\n11  chromedriver                        0x00000001010020ab chromedriver + 589995\n12  chromedriver                        0x0000000100fef623 chromedriver + 513571\n13  chromedriver                        0x0000000100fc4dce chromedriver + 339406\n14  chromedriver                        0x0000000100fc6105 chromedriver + 344325\n15  chromedriver                        0x000000010141923e chromedriver + 4878910\n16  chromedriver                        0x0000000101430d17 chromedriver + 4975895\n17  chromedriver                        0x0000000101436a3f chromedriver + 4999743\n18  chromedriver                        0x000000010143161a chromedriver + 4978202\n19  chromedriver                        0x000000010140dbb1 chromedriver + 4832177\n20  chromedriver                        0x000000010144dfd8 chromedriver + 5095384\n21  chromedriver                        0x000000010144e161 chromedriver + 5095777\n22  chromedriver                        0x00000001014652a8 chromedriver + 5190312\n23  libsystem_pthread.dylib             0x00007ff8028214f4 _pthread_start + 125\n24  libsystem_pthread.dylib             0x00007ff80281d00f thread_start + 15\n"
     ]
    }
   ],
   "source": [
    "result_length = len(result.find_elements(By.XPATH, \"/html/body/div[2]/div[1]/div[2]/div[3]/div[8]/form[1]/table/tbody/tr/td[2]/div[2]/a\"))\n",
    "list_count = 0\n",
    "\n",
    "while (list_count < result_length):\n",
    "    titleLinks = driver.find_elements(By.XPATH, \"/html/body/div[2]/div[1]/div[2]/div[3]/div[8]/form[1]/table/tbody/tr/td[2]/div[2]/a\")\n",
    "    titleLinks[list_count].click()\n",
    "    time.sleep(2)\n",
    "\n",
    "    detailInfo = dict()\n",
    "    # class=\"box_detail_point\"\n",
    "    detailPoints = driver.find_elements(By.XPATH, \"/html/body/div[2]/div[1]/div[2]/div[2]/form/div[1]/*\")\n",
    "    for detail in detailPoints:\n",
    "        detailInfo[detail.get_attribute(\"class\")] = detail.text\n",
    "        \n",
    "    # class=\"book_keyword\"\n",
    "    keywords = []\n",
    "    if len(driver.find_elements(By.CLASS_NAME, \"book_keyword\")) > 0:\n",
    "        for keyword in driver.find_elements(By.XPATH, \"/html/body/div[2]/div[1]/div[2]/div[2]/form/div[2]/div[4]/div[2]/*\"):\n",
    "            keywords.append(keyword.text)\n",
    "        detailInfo['book_keyword'] = \", \".join(keywords)\n",
    "\n",
    "    # \"content\"\n",
    "    detailcontentList = []\n",
    "    contents = driver.find_elements(By.XPATH, \"/html/body/div[2]/div[1]/div[2]/div[5]/div[1]/div[3]/*\")\n",
    "    for content in contents:\n",
    "        if len(content.find_elements(By.TAG_NAME, \"a\"))>0:\n",
    "#             print(\"a Tag cnt = \"+str(len(content.find_elements(By.TAG_NAME, \"a\"))))\n",
    "            num = 0\n",
    "            for aTag in content.find_elements(By.TAG_NAME, \"a\"):\n",
    "#                 print(\"text = \" + aTag.text + \" Class_name = \" + aTag.get_attribute(\"class\"))\n",
    "#                 print(num)\n",
    "                num+=1\n",
    "                if aTag.get_attribute(\"class\") == \"btn_small btn_more\" and aTag.text == \"더보기\":\n",
    "                    aTag.click()\n",
    "#                     print(\"click\")\n",
    "    for content in contents:\n",
    "            detailcontentList.append(content.text)\n",
    "    detailInfo['content'] = \"\\n\".join(detailcontentList)\n",
    "    print(detailInfo)\n",
    "    driver.back()\n",
    "    list_count+=1\n",
    "    time.sleep(2)"
   ]
  },
  {
   "cell_type": "code",
   "execution_count": null,
   "id": "7125e0ca",
   "metadata": {},
   "outputs": [],
   "source": [
    "# detailInfo"
   ]
  },
  {
   "cell_type": "code",
   "execution_count": null,
   "id": "6f4ebb07",
   "metadata": {},
   "outputs": [],
   "source": [
    "# driver.back()"
   ]
  },
  {
   "cell_type": "code",
   "execution_count": null,
   "id": "d3b4c374",
   "metadata": {},
   "outputs": [],
   "source": [
    "# driver.quit()"
   ]
  }
 ],
 "metadata": {
  "kernelspec": {
   "display_name": "py3.9_bookSelection",
   "language": "python",
   "name": "py3.9_bookselection"
  },
  "language_info": {
   "codemirror_mode": {
    "name": "ipython",
    "version": 3
   },
   "file_extension": ".py",
   "mimetype": "text/x-python",
   "name": "python",
   "nbconvert_exporter": "python",
   "pygments_lexer": "ipython3",
   "version": "3.9.10"
  }
 },
 "nbformat": 4,
 "nbformat_minor": 5
}
